{
 "cells": [
  {
   "cell_type": "code",
   "execution_count": 4,
   "metadata": {},
   "outputs": [],
   "source": [
    "import git\n",
    "import os\n",
    "\n",
    "# Remplacez l'URL par l'URL de votre dépôt GitHub\n",
    "repo_url = 'https://github.com/ArhurK/P7_scoring_livrable/tree/c16a305b186f5df6cb08422372cfd75216958378/mlruns'\n",
    "\n",
    "# Chemin vers le répertoire de travail Python\n",
    "work_directory = os.getcwd()\n",
    "\n",
    "# Nom du dossier à cloner\n",
    "folder_name = 'test_git'\n",
    "\n",
    "# Chemin complet vers le dossier local\n",
    "local_folder_path = os.path.join(work_directory, folder_name)\n",
    "\n",
    "# Cloner le dépôt\n",
    "# repo_model = git.Repo.clone_from(repo_url, local_folder_path)\n",
    "\n",
    "# Maintenant, le contenu du dossier est disponible dans votre répertoire de travail\n"
   ]
  },
  {
   "cell_type": "code",
   "execution_count": null,
   "metadata": {},
   "outputs": [],
   "source": [
    "# mlruns/159852288404653738/89e2dedfd3dd428b849adecd8c60de14/artifacts/model_lgbm_class_weight_best_model"
   ]
  },
  {
   "cell_type": "code",
   "execution_count": 6,
   "metadata": {},
   "outputs": [
    {
     "data": {
      "text/plain": [
       "'https://github.com/ArhurK/P7_scoring_livrable/tree/c16a305b186f5df6cb08422372cfd75216958378/mlruns'"
      ]
     },
     "execution_count": 6,
     "metadata": {},
     "output_type": "execute_result"
    }
   ],
   "source": [
    "repo_url"
   ]
  },
  {
   "cell_type": "code",
   "execution_count": 1,
   "metadata": {},
   "outputs": [],
   "source": [
    "# pip install --upgrade scikit-learn"
   ]
  },
  {
   "cell_type": "code",
   "execution_count": 7,
   "metadata": {},
   "outputs": [],
   "source": [
    "# import sklearn, shap\n",
    "# sklearn.__version__\n",
    "# shap.__version__"
   ]
  },
  {
   "cell_type": "code",
   "execution_count": 5,
   "metadata": {},
   "outputs": [
    {
     "name": "stdout",
     "output_type": "stream",
     "text": [
      "Note: you may need to restart the kernel to use updated packages.\n"
     ]
    }
   ],
   "source": [
    "# pip list > requirements.txt\n"
   ]
  },
  {
   "cell_type": "code",
   "execution_count": 15,
   "metadata": {},
   "outputs": [
    {
     "name": "stdout",
     "output_type": "stream",
     "text": [
      "Note: you may need to restart the kernel to use updated packages.\n"
     ]
    }
   ],
   "source": [
    "# pip list > requirements.txt"
   ]
  },
  {
   "cell_type": "code",
   "execution_count": 3,
   "metadata": {},
   "outputs": [
    {
     "name": "stdout",
     "output_type": "stream",
     "text": [
      "Collecting pandas==1.4.4 (from -r requirements.txt (line 1))Note: you may need to restart the kernel to use updated packages.\n",
      "\n",
      "  Downloading pandas-1.4.4-cp39-cp39-win_amd64.whl (10.6 MB)\n",
      "     ---------------------------------------- 0.0/10.6 MB ? eta -:--:--\n",
      "     ---------------------------------------- 0.0/10.6 MB ? eta -:--:--\n",
      "     --------------------------------------- 0.0/10.6 MB 445.2 kB/s eta 0:00:24\n",
      "     --------------------------------------- 0.1/10.6 MB 770.8 kB/s eta 0:00:14\n",
      "     -- ------------------------------------- 0.6/10.6 MB 4.0 MB/s eta 0:00:03\n",
      "     ------ --------------------------------- 1.8/10.6 MB 8.9 MB/s eta 0:00:01\n",
      "     ----------- ---------------------------- 3.0/10.6 MB 11.9 MB/s eta 0:00:01\n",
      "     ---------------- ----------------------- 4.4/10.6 MB 14.7 MB/s eta 0:00:01\n",
      "     --------------------- ------------------ 5.6/10.6 MB 16.3 MB/s eta 0:00:01\n",
      "     ------------------------- -------------- 6.7/10.6 MB 17.2 MB/s eta 0:00:01\n",
      "     ------------------------------ --------- 8.2/10.6 MB 18.0 MB/s eta 0:00:01\n",
      "     ----------------------------------- ---- 9.3/10.6 MB 18.6 MB/s eta 0:00:01\n",
      "     --------------------------------------  10.6/10.6 MB 25.2 MB/s eta 0:00:01\n",
      "     --------------------------------------- 10.6/10.6 MB 22.6 MB/s eta 0:00:00\n",
      "Collecting numpy==1.22 (from -r requirements.txt (line 2))\n",
      "  Downloading numpy-1.22.0-cp39-cp39-win_amd64.whl (14.7 MB)\n",
      "     ---------------------------------------- 0.0/14.7 MB ? eta -:--:--\n",
      "     -- ------------------------------------- 0.9/14.7 MB 19.4 MB/s eta 0:00:01\n",
      "     ----- ---------------------------------- 1.9/14.7 MB 19.8 MB/s eta 0:00:01\n",
      "     ------- -------------------------------- 2.9/14.7 MB 20.5 MB/s eta 0:00:01\n",
      "     ----------- ---------------------------- 4.2/14.7 MB 22.2 MB/s eta 0:00:01\n",
      "     -------------- ------------------------- 5.5/14.7 MB 23.2 MB/s eta 0:00:01\n",
      "     ----------------- ---------------------- 6.5/14.7 MB 23.0 MB/s eta 0:00:01\n",
      "     -------------------- ------------------- 7.6/14.7 MB 23.3 MB/s eta 0:00:01\n",
      "     ------------------------ --------------- 9.0/14.7 MB 24.1 MB/s eta 0:00:01\n",
      "     --------------------------- ----------- 10.3/14.7 MB 25.2 MB/s eta 0:00:01\n",
      "     ------------------------------ -------- 11.5/14.7 MB 25.2 MB/s eta 0:00:01\n",
      "     ------------------------------ -------- 11.5/14.7 MB 25.2 MB/s eta 0:00:01\n",
      "     ------------------------------ -------- 11.5/14.7 MB 25.2 MB/s eta 0:00:01\n",
      "     ------------------------------- ------- 12.0/14.7 MB 19.8 MB/s eta 0:00:01\n",
      "     ---------------------------------- ---- 13.1/14.7 MB 19.9 MB/s eta 0:00:01\n",
      "     --------------------------------------  14.6/14.7 MB 19.8 MB/s eta 0:00:01\n",
      "     --------------------------------------  14.7/14.7 MB 19.8 MB/s eta 0:00:01\n",
      "     --------------------------------------- 14.7/14.7 MB 17.2 MB/s eta 0:00:00\n",
      "Collecting streamlit==1.30.0 (from -r requirements.txt (line 3))\n",
      "  Downloading streamlit-1.30.0-py2.py3-none-any.whl.metadata (8.2 kB)\n",
      "Collecting requests==2.31.0 (from -r requirements.txt (line 4))\n",
      "  Using cached requests-2.31.0-py3-none-any.whl.metadata (4.6 kB)\n",
      "Collecting shap==0.41.0 (from -r requirements.txt (line 5))\n",
      "  Downloading shap-0.41.0-cp39-cp39-win_amd64.whl (435 kB)\n",
      "     ---------------------------------------- 0.0/435.6 kB ? eta -:--:--\n",
      "     ------------------------------------- 435.6/435.6 kB 28.4 MB/s eta 0:00:00\n",
      "Collecting matplotlib==3.5.2 (from -r requirements.txt (line 6))\n",
      "  Downloading matplotlib-3.5.2-cp39-cp39-win_amd64.whl (7.2 MB)\n",
      "     ---------------------------------------- 0.0/7.2 MB ? eta -:--:--\n",
      "     ----- ---------------------------------- 1.0/7.2 MB 21.4 MB/s eta 0:00:01\n",
      "     ----------- ---------------------------- 2.0/7.2 MB 18.5 MB/s eta 0:00:01\n",
      "     ---------------- ----------------------- 2.9/7.2 MB 21.0 MB/s eta 0:00:01\n",
      "     ---------------------- ----------------- 4.1/7.2 MB 20.1 MB/s eta 0:00:01\n",
      "     -------------------------- ------------- 4.8/7.2 MB 19.0 MB/s eta 0:00:01\n",
      "     --------------------------------- ------ 6.1/7.2 MB 20.5 MB/s eta 0:00:01\n",
      "     ---------------------------------------  7.2/7.2 MB 21.0 MB/s eta 0:00:01\n",
      "     ---------------------------------------- 7.2/7.2 MB 19.2 MB/s eta 0:00:00\n",
      "Collecting plotly==5.9.0 (from -r requirements.txt (line 7))\n",
      "  Downloading plotly-5.9.0-py2.py3-none-any.whl (15.2 MB)\n",
      "     ---------------------------------------- 0.0/15.2 MB ? eta -:--:--\n",
      "     -- ------------------------------------- 0.8/15.2 MB 26.8 MB/s eta 0:00:01\n",
      "     ---- ----------------------------------- 1.8/15.2 MB 19.1 MB/s eta 0:00:01\n",
      "     ------- -------------------------------- 2.8/15.2 MB 20.0 MB/s eta 0:00:01\n",
      "     ---------- ----------------------------- 3.9/15.2 MB 20.8 MB/s eta 0:00:01\n",
      "     ------------ --------------------------- 4.9/15.2 MB 22.3 MB/s eta 0:00:01\n",
      "     --------------- ------------------------ 6.0/15.2 MB 22.5 MB/s eta 0:00:01\n",
      "     ------------------- -------------------- 7.5/15.2 MB 24.1 MB/s eta 0:00:01\n",
      "     ----------------------- ---------------- 8.8/15.2 MB 24.4 MB/s eta 0:00:01\n",
      "     -------------------------- ------------ 10.3/15.2 MB 24.2 MB/s eta 0:00:01\n",
      "     ----------------------------- --------- 11.6/15.2 MB 25.1 MB/s eta 0:00:01\n",
      "     -------------------------------- ------ 12.7/15.2 MB 27.3 MB/s eta 0:00:01\n",
      "     ----------------------------------- --- 13.9/15.2 MB 27.3 MB/s eta 0:00:01\n",
      "     --------------------------------------  15.2/15.2 MB 27.3 MB/s eta 0:00:01\n",
      "     --------------------------------------- 15.2/15.2 MB 25.2 MB/s eta 0:00:00\n",
      "Collecting mlflow==2.9.1 (from -r requirements.txt (line 8))\n",
      "  Downloading mlflow-2.9.1-py3-none-any.whl.metadata (13 kB)\n",
      "Collecting uvicorn==0.24.0.post1 (from -r requirements.txt (line 9))\n",
      "  Downloading uvicorn-0.24.0.post1-py3-none-any.whl.metadata (6.4 kB)\n",
      "Collecting fastapi==0.104.1 (from -r requirements.txt (line 10))\n",
      "  Downloading fastapi-0.104.1-py3-none-any.whl.metadata (24 kB)\n",
      "Collecting lightgbm==4.1.0 (from -r requirements.txt (line 11))\n",
      "  Downloading lightgbm-4.1.0-py3-none-win_amd64.whl.metadata (19 kB)\n",
      "Collecting pytest==7.4.0 (from -r requirements.txt (line 12))\n",
      "  Downloading pytest-7.4.0-py3-none-any.whl.metadata (8.0 kB)\n",
      "Collecting httpx==0.26.0 (from -r requirements.txt (line 13))\n",
      "  Downloading httpx-0.26.0-py3-none-any.whl.metadata (7.6 kB)\n",
      "Requirement already satisfied: python-dateutil>=2.8.1 in c:\\users\\hankour\\anaconda3\\envs\\p7_scoring_env\\lib\\site-packages (from pandas==1.4.4->-r requirements.txt (line 1)) (2.8.2)\n",
      "Collecting pytz>=2020.1 (from pandas==1.4.4->-r requirements.txt (line 1))\n",
      "  Downloading pytz-2024.1-py2.py3-none-any.whl.metadata (22 kB)\n",
      "Collecting altair<6,>=4.0 (from streamlit==1.30.0->-r requirements.txt (line 3))\n",
      "  Downloading altair-5.2.0-py3-none-any.whl.metadata (8.7 kB)\n",
      "Collecting blinker<2,>=1.0.0 (from streamlit==1.30.0->-r requirements.txt (line 3))\n",
      "  Downloading blinker-1.7.0-py3-none-any.whl.metadata (1.9 kB)\n",
      "Collecting cachetools<6,>=4.0 (from streamlit==1.30.0->-r requirements.txt (line 3))\n",
      "  Downloading cachetools-5.3.2-py3-none-any.whl.metadata (5.2 kB)\n",
      "Collecting click<9,>=7.0 (from streamlit==1.30.0->-r requirements.txt (line 3))\n",
      "  Downloading click-8.1.7-py3-none-any.whl.metadata (3.0 kB)\n",
      "Requirement already satisfied: importlib-metadata<8,>=1.4 in c:\\users\\hankour\\anaconda3\\envs\\p7_scoring_env\\lib\\site-packages (from streamlit==1.30.0->-r requirements.txt (line 3)) (7.0.1)\n",
      "Requirement already satisfied: packaging<24,>=16.8 in c:\\users\\hankour\\anaconda3\\envs\\p7_scoring_env\\lib\\site-packages (from streamlit==1.30.0->-r requirements.txt (line 3)) (23.2)\n",
      "Collecting pillow<11,>=7.1.0 (from streamlit==1.30.0->-r requirements.txt (line 3))\n",
      "  Downloading pillow-10.2.0-cp39-cp39-win_amd64.whl.metadata (9.9 kB)\n",
      "Collecting protobuf<5,>=3.20 (from streamlit==1.30.0->-r requirements.txt (line 3))\n",
      "  Downloading protobuf-4.25.2-cp39-cp39-win_amd64.whl.metadata (541 bytes)\n",
      "Collecting pyarrow>=6.0 (from streamlit==1.30.0->-r requirements.txt (line 3))\n",
      "  Downloading pyarrow-15.0.0-cp39-cp39-win_amd64.whl.metadata (3.1 kB)\n",
      "Collecting rich<14,>=10.14.0 (from streamlit==1.30.0->-r requirements.txt (line 3))\n",
      "  Downloading rich-13.7.0-py3-none-any.whl.metadata (18 kB)\n",
      "Collecting tenacity<9,>=8.1.0 (from streamlit==1.30.0->-r requirements.txt (line 3))\n",
      "  Downloading tenacity-8.2.3-py3-none-any.whl.metadata (1.0 kB)\n",
      "Collecting toml<2,>=0.10.1 (from streamlit==1.30.0->-r requirements.txt (line 3))\n",
      "  Downloading toml-0.10.2-py2.py3-none-any.whl (16 kB)\n",
      "Requirement already satisfied: typing-extensions<5,>=4.3.0 in c:\\users\\hankour\\anaconda3\\envs\\p7_scoring_env\\lib\\site-packages (from streamlit==1.30.0->-r requirements.txt (line 3)) (4.9.0)\n",
      "Collecting tzlocal<6,>=1.1 (from streamlit==1.30.0->-r requirements.txt (line 3))\n",
      "  Downloading tzlocal-5.2-py3-none-any.whl.metadata (7.8 kB)\n",
      "Collecting validators<1,>=0.2 (from streamlit==1.30.0->-r requirements.txt (line 3))\n",
      "  Downloading validators-0.22.0-py3-none-any.whl.metadata (4.7 kB)\n",
      "Collecting gitpython!=3.1.19,<4,>=3.0.7 (from streamlit==1.30.0->-r requirements.txt (line 3))\n",
      "  Downloading GitPython-3.1.41-py3-none-any.whl.metadata (14 kB)\n",
      "Collecting pydeck<1,>=0.8.0b4 (from streamlit==1.30.0->-r requirements.txt (line 3))\n",
      "  Downloading pydeck-0.8.1b0-py2.py3-none-any.whl (4.8 MB)\n",
      "     ---------------------------------------- 0.0/4.8 MB ? eta -:--:--\n",
      "     -------- ------------------------------- 1.0/4.8 MB 30.7 MB/s eta 0:00:01\n",
      "     ---------------- ----------------------- 2.0/4.8 MB 25.5 MB/s eta 0:00:01\n",
      "     ---------------------------- ----------- 3.4/4.8 MB 26.8 MB/s eta 0:00:01\n",
      "     -------------------------------------- - 4.6/4.8 MB 26.6 MB/s eta 0:00:01\n",
      "     ---------------------------------------- 4.8/4.8 MB 23.6 MB/s eta 0:00:00\n",
      "Requirement already satisfied: tornado<7,>=6.0.3 in c:\\users\\hankour\\anaconda3\\envs\\p7_scoring_env\\lib\\site-packages (from streamlit==1.30.0->-r requirements.txt (line 3)) (6.2)\n",
      "Collecting watchdog>=2.1.5 (from streamlit==1.30.0->-r requirements.txt (line 3))\n",
      "  Downloading watchdog-3.0.0-py3-none-win_amd64.whl (82 kB)\n",
      "     ---------------------------------------- 0.0/82.0 kB ? eta -:--:--\n",
      "     ---------------------------------------- 82.0/82.0 kB ? eta 0:00:00\n",
      "Collecting charset-normalizer<4,>=2 (from requests==2.31.0->-r requirements.txt (line 4))\n",
      "  Downloading charset_normalizer-3.3.2-cp39-cp39-win_amd64.whl.metadata (34 kB)\n",
      "Collecting idna<4,>=2.5 (from requests==2.31.0->-r requirements.txt (line 4))\n",
      "  Downloading idna-3.6-py3-none-any.whl.metadata (9.9 kB)\n",
      "Collecting urllib3<3,>=1.21.1 (from requests==2.31.0->-r requirements.txt (line 4))\n",
      "  Downloading urllib3-2.2.0-py3-none-any.whl.metadata (6.4 kB)\n",
      "Collecting certifi>=2017.4.17 (from requests==2.31.0->-r requirements.txt (line 4))\n",
      "  Downloading certifi-2024.2.2-py3-none-any.whl.metadata (2.2 kB)\n",
      "Collecting scipy (from shap==0.41.0->-r requirements.txt (line 5))\n",
      "  Downloading scipy-1.12.0-cp39-cp39-win_amd64.whl.metadata (60 kB)\n",
      "     ---------------------------------------- 0.0/60.4 kB ? eta -:--:--\n",
      "     ---------------------------------------- 60.4/60.4 kB 3.3 MB/s eta 0:00:00\n",
      "Collecting scikit-learn (from shap==0.41.0->-r requirements.txt (line 5))\n",
      "  Downloading scikit_learn-1.4.0-1-cp39-cp39-win_amd64.whl.metadata (11 kB)\n",
      "Collecting tqdm>4.25.0 (from shap==0.41.0->-r requirements.txt (line 5))\n",
      "  Downloading tqdm-4.66.1-py3-none-any.whl.metadata (57 kB)\n",
      "     ---------------------------------------- 0.0/57.6 kB ? eta -:--:--\n",
      "     ---------------------------------------- 57.6/57.6 kB ? eta 0:00:00\n",
      "Collecting slicer==0.0.7 (from shap==0.41.0->-r requirements.txt (line 5))\n",
      "  Downloading slicer-0.0.7-py3-none-any.whl (14 kB)\n",
      "Collecting numba (from shap==0.41.0->-r requirements.txt (line 5))\n",
      "  Downloading numba-0.59.0-cp39-cp39-win_amd64.whl.metadata (2.8 kB)\n",
      "Collecting cloudpickle (from shap==0.41.0->-r requirements.txt (line 5))\n",
      "  Downloading cloudpickle-3.0.0-py3-none-any.whl.metadata (7.0 kB)\n",
      "Collecting cycler>=0.10 (from matplotlib==3.5.2->-r requirements.txt (line 6))\n",
      "  Downloading cycler-0.12.1-py3-none-any.whl.metadata (3.8 kB)\n",
      "Collecting fonttools>=4.22.0 (from matplotlib==3.5.2->-r requirements.txt (line 6))\n",
      "  Downloading fonttools-4.47.2-cp39-cp39-win_amd64.whl.metadata (160 kB)\n",
      "     ---------------------------------------- 0.0/160.8 kB ? eta -:--:--\n",
      "     -------------------------------------- 160.8/160.8 kB 9.4 MB/s eta 0:00:00\n",
      "Collecting kiwisolver>=1.0.1 (from matplotlib==3.5.2->-r requirements.txt (line 6))\n",
      "  Downloading kiwisolver-1.4.5-cp39-cp39-win_amd64.whl.metadata (6.5 kB)\n",
      "Collecting pyparsing>=2.2.1 (from matplotlib==3.5.2->-r requirements.txt (line 6))\n",
      "  Downloading pyparsing-3.1.1-py3-none-any.whl.metadata (5.1 kB)\n",
      "Collecting databricks-cli<1,>=0.8.7 (from mlflow==2.9.1->-r requirements.txt (line 8))\n",
      "  Downloading databricks_cli-0.18.0-py2.py3-none-any.whl.metadata (4.0 kB)\n",
      "Collecting entrypoints<1 (from mlflow==2.9.1->-r requirements.txt (line 8))\n",
      "  Downloading entrypoints-0.4-py3-none-any.whl (5.3 kB)\n",
      "Collecting pyyaml<7,>=5.1 (from mlflow==2.9.1->-r requirements.txt (line 8))\n",
      "  Downloading PyYAML-6.0.1-cp39-cp39-win_amd64.whl.metadata (2.1 kB)\n",
      "Collecting pytz>=2020.1 (from pandas==1.4.4->-r requirements.txt (line 1))\n",
      "  Downloading pytz-2023.4-py2.py3-none-any.whl.metadata (22 kB)\n",
      "Collecting sqlparse<1,>=0.4.0 (from mlflow==2.9.1->-r requirements.txt (line 8))\n",
      "  Downloading sqlparse-0.4.4-py3-none-any.whl (41 kB)\n",
      "     ---------------------------------------- 0.0/41.2 kB ? eta -:--:--\n",
      "     ---------------------------------------- 41.2/41.2 kB 1.9 MB/s eta 0:00:00\n",
      "Collecting alembic!=1.10.0,<2 (from mlflow==2.9.1->-r requirements.txt (line 8))\n",
      "  Downloading alembic-1.13.1-py3-none-any.whl.metadata (7.4 kB)\n",
      "Collecting docker<7,>=4.0.0 (from mlflow==2.9.1->-r requirements.txt (line 8))\n",
      "  Downloading docker-6.1.3-py3-none-any.whl.metadata (3.5 kB)\n",
      "Collecting Flask<4 (from mlflow==2.9.1->-r requirements.txt (line 8))\n",
      "  Downloading flask-3.0.1-py3-none-any.whl.metadata (3.6 kB)\n",
      "Collecting querystring-parser<2 (from mlflow==2.9.1->-r requirements.txt (line 8))\n",
      "  Downloading querystring_parser-1.2.4-py2.py3-none-any.whl (7.9 kB)\n",
      "Collecting sqlalchemy<3,>=1.4.0 (from mlflow==2.9.1->-r requirements.txt (line 8))\n",
      "  Downloading SQLAlchemy-2.0.25-cp39-cp39-win_amd64.whl.metadata (9.8 kB)\n",
      "Collecting pyarrow>=6.0 (from streamlit==1.30.0->-r requirements.txt (line 3))\n",
      "  Downloading pyarrow-14.0.2-cp39-cp39-win_amd64.whl.metadata (3.1 kB)\n",
      "Collecting markdown<4,>=3.3 (from mlflow==2.9.1->-r requirements.txt (line 8))\n",
      "  Downloading Markdown-3.5.2-py3-none-any.whl.metadata (7.0 kB)\n",
      "Collecting waitress<3 (from mlflow==2.9.1->-r requirements.txt (line 8))\n",
      "  Downloading waitress-2.1.2-py3-none-any.whl (57 kB)\n",
      "     ---------------------------------------- 0.0/57.7 kB ? eta -:--:--\n",
      "     ---------------------------------------- 57.7/57.7 kB 3.2 MB/s eta 0:00:00\n",
      "Collecting Jinja2<4,>=3.0 (from mlflow==2.9.1->-r requirements.txt (line 8))\n",
      "  Downloading Jinja2-3.1.3-py3-none-any.whl.metadata (3.3 kB)\n",
      "Collecting h11>=0.8 (from uvicorn==0.24.0.post1->-r requirements.txt (line 9))\n",
      "  Downloading h11-0.14.0-py3-none-any.whl (58 kB)\n",
      "     ---------------------------------------- 0.0/58.3 kB ? eta -:--:--\n",
      "     ---------------------------------------- 58.3/58.3 kB 3.0 MB/s eta 0:00:00\n",
      "Collecting anyio<4.0.0,>=3.7.1 (from fastapi==0.104.1->-r requirements.txt (line 10))\n",
      "  Downloading anyio-3.7.1-py3-none-any.whl.metadata (4.7 kB)\n",
      "Collecting pydantic!=1.8,!=1.8.1,!=2.0.0,!=2.0.1,!=2.1.0,<3.0.0,>=1.7.4 (from fastapi==0.104.1->-r requirements.txt (line 10))\n",
      "  Downloading pydantic-2.6.0-py3-none-any.whl.metadata (81 kB)\n",
      "     ---------------------------------------- 0.0/81.8 kB ? eta -:--:--\n",
      "     ---------------------------------------- 81.8/81.8 kB 4.5 MB/s eta 0:00:00\n",
      "Collecting starlette<0.28.0,>=0.27.0 (from fastapi==0.104.1->-r requirements.txt (line 10))\n",
      "  Downloading starlette-0.27.0-py3-none-any.whl.metadata (5.8 kB)\n",
      "Collecting iniconfig (from pytest==7.4.0->-r requirements.txt (line 12))\n",
      "  Downloading iniconfig-2.0.0-py3-none-any.whl (5.9 kB)\n",
      "Collecting pluggy<2.0,>=0.12 (from pytest==7.4.0->-r requirements.txt (line 12))\n",
      "  Downloading pluggy-1.4.0-py3-none-any.whl.metadata (4.3 kB)\n",
      "Collecting exceptiongroup>=1.0.0rc8 (from pytest==7.4.0->-r requirements.txt (line 12))\n",
      "  Downloading exceptiongroup-1.2.0-py3-none-any.whl.metadata (6.6 kB)\n",
      "Collecting tomli>=1.0.0 (from pytest==7.4.0->-r requirements.txt (line 12))\n",
      "  Downloading tomli-2.0.1-py3-none-any.whl (12 kB)\n",
      "Requirement already satisfied: colorama in c:\\users\\hankour\\anaconda3\\envs\\p7_scoring_env\\lib\\site-packages (from pytest==7.4.0->-r requirements.txt (line 12)) (0.4.6)\n",
      "Collecting httpcore==1.* (from httpx==0.26.0->-r requirements.txt (line 13))\n",
      "  Downloading httpcore-1.0.2-py3-none-any.whl.metadata (20 kB)\n",
      "Collecting sniffio (from httpx==0.26.0->-r requirements.txt (line 13))\n",
      "  Downloading sniffio-1.3.0-py3-none-any.whl (10 kB)\n",
      "Collecting Mako (from alembic!=1.10.0,<2->mlflow==2.9.1->-r requirements.txt (line 8))\n",
      "  Downloading Mako-1.3.2-py3-none-any.whl.metadata (2.9 kB)\n",
      "Collecting jsonschema>=3.0 (from altair<6,>=4.0->streamlit==1.30.0->-r requirements.txt (line 3))\n",
      "  Downloading jsonschema-4.21.1-py3-none-any.whl.metadata (7.8 kB)\n",
      "Collecting toolz (from altair<6,>=4.0->streamlit==1.30.0->-r requirements.txt (line 3))\n",
      "  Downloading toolz-0.12.1-py3-none-any.whl.metadata (5.1 kB)\n",
      "Collecting pyjwt>=1.7.0 (from databricks-cli<1,>=0.8.7->mlflow==2.9.1->-r requirements.txt (line 8))\n",
      "  Downloading PyJWT-2.8.0-py3-none-any.whl.metadata (4.2 kB)\n",
      "Collecting oauthlib>=3.1.0 (from databricks-cli<1,>=0.8.7->mlflow==2.9.1->-r requirements.txt (line 8))\n",
      "  Downloading oauthlib-3.2.2-py3-none-any.whl (151 kB)\n",
      "     ---------------------------------------- 0.0/151.7 kB ? eta -:--:--\n",
      "     -------------------------------------- 151.7/151.7 kB 8.8 MB/s eta 0:00:00\n",
      "Collecting tabulate>=0.7.7 (from databricks-cli<1,>=0.8.7->mlflow==2.9.1->-r requirements.txt (line 8))\n",
      "  Downloading tabulate-0.9.0-py3-none-any.whl (35 kB)\n",
      "Requirement already satisfied: six>=1.10.0 in c:\\users\\hankour\\anaconda3\\envs\\p7_scoring_env\\lib\\site-packages (from databricks-cli<1,>=0.8.7->mlflow==2.9.1->-r requirements.txt (line 8)) (1.16.0)\n",
      "Collecting websocket-client>=0.32.0 (from docker<7,>=4.0.0->mlflow==2.9.1->-r requirements.txt (line 8))\n",
      "  Downloading websocket_client-1.7.0-py3-none-any.whl.metadata (7.9 kB)\n",
      "Collecting pywin32>=304 (from docker<7,>=4.0.0->mlflow==2.9.1->-r requirements.txt (line 8))\n",
      "  Downloading pywin32-306-cp39-cp39-win_amd64.whl (9.3 MB)\n",
      "     ---------------------------------------- 0.0/9.3 MB ? eta -:--:--\n",
      "     ---- ----------------------------------- 1.0/9.3 MB 32.3 MB/s eta 0:00:01\n",
      "     ---------- ----------------------------- 2.4/9.3 MB 25.1 MB/s eta 0:00:01\n",
      "     --------------- ------------------------ 3.6/9.3 MB 25.2 MB/s eta 0:00:01\n",
      "     -------------------- ------------------- 4.8/9.3 MB 25.5 MB/s eta 0:00:01\n",
      "     -------------------------- ------------- 6.2/9.3 MB 26.3 MB/s eta 0:00:01\n",
      "     ------------------------------- -------- 7.3/9.3 MB 25.9 MB/s eta 0:00:01\n",
      "     ------------------------------------ --- 8.4/9.3 MB 25.5 MB/s eta 0:00:01\n",
      "     ---------------------------------------  9.3/9.3 MB 25.8 MB/s eta 0:00:01\n",
      "     ---------------------------------------- 9.3/9.3 MB 24.8 MB/s eta 0:00:00\n",
      "Collecting Werkzeug>=3.0.0 (from Flask<4->mlflow==2.9.1->-r requirements.txt (line 8))\n",
      "  Downloading werkzeug-3.0.1-py3-none-any.whl.metadata (4.1 kB)\n",
      "Collecting itsdangerous>=2.1.2 (from Flask<4->mlflow==2.9.1->-r requirements.txt (line 8))\n",
      "  Downloading itsdangerous-2.1.2-py3-none-any.whl (15 kB)\n",
      "Collecting gitdb<5,>=4.0.1 (from gitpython!=3.1.19,<4,>=3.0.7->streamlit==1.30.0->-r requirements.txt (line 3))\n",
      "  Downloading gitdb-4.0.11-py3-none-any.whl.metadata (1.2 kB)\n",
      "Requirement already satisfied: zipp>=0.5 in c:\\users\\hankour\\anaconda3\\envs\\p7_scoring_env\\lib\\site-packages (from importlib-metadata<8,>=1.4->streamlit==1.30.0->-r requirements.txt (line 3)) (3.17.0)\n",
      "Collecting MarkupSafe>=2.0 (from Jinja2<4,>=3.0->mlflow==2.9.1->-r requirements.txt (line 8))\n",
      "  Downloading MarkupSafe-2.1.4-cp39-cp39-win_amd64.whl.metadata (3.1 kB)\n",
      "Collecting annotated-types>=0.4.0 (from pydantic!=1.8,!=1.8.1,!=2.0.0,!=2.0.1,!=2.1.0,<3.0.0,>=1.7.4->fastapi==0.104.1->-r requirements.txt (line 10))\n",
      "  Downloading annotated_types-0.6.0-py3-none-any.whl.metadata (12 kB)\n",
      "Collecting pydantic-core==2.16.1 (from pydantic!=1.8,!=1.8.1,!=2.0.0,!=2.0.1,!=2.1.0,<3.0.0,>=1.7.4->fastapi==0.104.1->-r requirements.txt (line 10))\n",
      "  Downloading pydantic_core-2.16.1-cp39-none-win_amd64.whl.metadata (6.6 kB)\n",
      "Collecting markdown-it-py>=2.2.0 (from rich<14,>=10.14.0->streamlit==1.30.0->-r requirements.txt (line 3))\n",
      "  Downloading markdown_it_py-3.0.0-py3-none-any.whl.metadata (6.9 kB)\n",
      "Requirement already satisfied: pygments<3.0.0,>=2.13.0 in c:\\users\\hankour\\anaconda3\\envs\\p7_scoring_env\\lib\\site-packages (from rich<14,>=10.14.0->streamlit==1.30.0->-r requirements.txt (line 3)) (2.17.2)\n",
      "Collecting joblib>=1.2.0 (from scikit-learn->shap==0.41.0->-r requirements.txt (line 5))\n",
      "  Downloading joblib-1.3.2-py3-none-any.whl.metadata (5.4 kB)\n",
      "Collecting threadpoolctl>=2.0.0 (from scikit-learn->shap==0.41.0->-r requirements.txt (line 5))\n",
      "  Downloading threadpoolctl-3.2.0-py3-none-any.whl.metadata (10.0 kB)\n",
      "INFO: pip is looking at multiple versions of scipy to determine which version is compatible with other requirements. This could take a while.\n",
      "Collecting scipy (from shap==0.41.0->-r requirements.txt (line 5))\n",
      "  Downloading scipy-1.11.4-cp39-cp39-win_amd64.whl.metadata (60 kB)\n",
      "     ---------------------------------------- 0.0/60.4 kB ? eta -:--:--\n",
      "     ---------------------------------------- 60.4/60.4 kB 3.1 MB/s eta 0:00:00\n",
      "Collecting greenlet!=0.4.17 (from sqlalchemy<3,>=1.4.0->mlflow==2.9.1->-r requirements.txt (line 8))\n",
      "  Downloading greenlet-3.0.3-cp39-cp39-win_amd64.whl.metadata (3.9 kB)\n",
      "Collecting tzdata (from tzlocal<6,>=1.1->streamlit==1.30.0->-r requirements.txt (line 3))\n",
      "  Downloading tzdata-2023.4-py2.py3-none-any.whl.metadata (1.4 kB)\n",
      "Collecting llvmlite<0.43,>=0.42.0dev0 (from numba->shap==0.41.0->-r requirements.txt (line 5))\n",
      "  Downloading llvmlite-0.42.0-cp39-cp39-win_amd64.whl.metadata (4.9 kB)\n",
      "Collecting smmap<6,>=3.0.1 (from gitdb<5,>=4.0.1->gitpython!=3.1.19,<4,>=3.0.7->streamlit==1.30.0->-r requirements.txt (line 3))\n",
      "  Downloading smmap-5.0.1-py3-none-any.whl.metadata (4.3 kB)\n",
      "Collecting attrs>=22.2.0 (from jsonschema>=3.0->altair<6,>=4.0->streamlit==1.30.0->-r requirements.txt (line 3))\n",
      "  Downloading attrs-23.2.0-py3-none-any.whl.metadata (9.5 kB)\n",
      "Collecting jsonschema-specifications>=2023.03.6 (from jsonschema>=3.0->altair<6,>=4.0->streamlit==1.30.0->-r requirements.txt (line 3))\n",
      "  Downloading jsonschema_specifications-2023.12.1-py3-none-any.whl.metadata (3.0 kB)\n",
      "Collecting referencing>=0.28.4 (from jsonschema>=3.0->altair<6,>=4.0->streamlit==1.30.0->-r requirements.txt (line 3))\n",
      "  Downloading referencing-0.33.0-py3-none-any.whl.metadata (2.7 kB)\n",
      "Collecting rpds-py>=0.7.1 (from jsonschema>=3.0->altair<6,>=4.0->streamlit==1.30.0->-r requirements.txt (line 3))\n",
      "  Downloading rpds_py-0.17.1-cp39-none-win_amd64.whl.metadata (4.2 kB)\n",
      "Collecting mdurl~=0.1 (from markdown-it-py>=2.2.0->rich<14,>=10.14.0->streamlit==1.30.0->-r requirements.txt (line 3))\n",
      "  Downloading mdurl-0.1.2-py3-none-any.whl (10.0 kB)\n",
      "Downloading streamlit-1.30.0-py2.py3-none-any.whl (8.4 MB)\n",
      "   ---------------------------------------- 0.0/8.4 MB ? eta -:--:--\n",
      "   ----- ---------------------------------- 1.1/8.4 MB 33.9 MB/s eta 0:00:01\n",
      "   ----------- ---------------------------- 2.4/8.4 MB 29.9 MB/s eta 0:00:01\n",
      "   ----------------- ---------------------- 3.7/8.4 MB 29.2 MB/s eta 0:00:01\n",
      "   ----------------------- ---------------- 5.0/8.4 MB 28.8 MB/s eta 0:00:01\n",
      "   ------------------------------- -------- 6.5/8.4 MB 27.6 MB/s eta 0:00:01\n",
      "   ------------------------------------ --- 7.7/8.4 MB 27.1 MB/s eta 0:00:01\n",
      "   ---------------------------------------- 8.4/8.4 MB 25.4 MB/s eta 0:00:00\n",
      "Downloading requests-2.31.0-py3-none-any.whl (62 kB)\n",
      "   ---------------------------------------- 0.0/62.6 kB ? eta -:--:--\n",
      "   ---------------------------------------- 62.6/62.6 kB 3.3 MB/s eta 0:00:00\n",
      "Downloading mlflow-2.9.1-py3-none-any.whl (19.1 MB)\n",
      "   ---------------------------------------- 0.0/19.1 MB ? eta -:--:--\n",
      "   -- ------------------------------------- 1.4/19.1 MB 29.2 MB/s eta 0:00:01\n",
      "   ----- ---------------------------------- 2.6/19.1 MB 27.8 MB/s eta 0:00:01\n",
      "   -------- ------------------------------- 4.0/19.1 MB 28.4 MB/s eta 0:00:01\n",
      "   ---------- ----------------------------- 5.2/19.1 MB 27.8 MB/s eta 0:00:01\n",
      "   ------------- -------------------------- 6.3/19.1 MB 26.8 MB/s eta 0:00:01\n",
      "   --------------- ------------------------ 7.5/19.1 MB 26.7 MB/s eta 0:00:01\n",
      "   ------------------ --------------------- 8.8/19.1 MB 26.7 MB/s eta 0:00:01\n",
      "   --------------------- ------------------ 10.0/19.1 MB 26.7 MB/s eta 0:00:01\n",
      "   ----------------------- ---------------- 11.3/19.1 MB 26.2 MB/s eta 0:00:01\n",
      "   --------------------------- ------------ 13.0/19.1 MB 27.3 MB/s eta 0:00:01\n",
      "   ------------------------------ --------- 14.7/19.1 MB 27.3 MB/s eta 0:00:01\n",
      "   --------------------------------- ------ 15.9/19.1 MB 28.4 MB/s eta 0:00:01\n",
      "   ------------------------------------ --- 17.4/19.1 MB 29.8 MB/s eta 0:00:01\n",
      "   ---------------------------------------  19.1/19.1 MB 31.2 MB/s eta 0:00:01\n",
      "   ---------------------------------------  19.1/19.1 MB 31.2 MB/s eta 0:00:01\n",
      "   ---------------------------------------- 19.1/19.1 MB 26.2 MB/s eta 0:00:00\n",
      "Downloading uvicorn-0.24.0.post1-py3-none-any.whl (59 kB)\n",
      "   ---------------------------------------- 0.0/59.7 kB ? eta -:--:--\n",
      "   ---------------------------------------- 59.7/59.7 kB 3.1 MB/s eta 0:00:00\n",
      "Downloading fastapi-0.104.1-py3-none-any.whl (92 kB)\n",
      "   ---------------------------------------- 0.0/92.9 kB ? eta -:--:--\n",
      "   ---------------------------------------- 92.9/92.9 kB ? eta 0:00:00\n",
      "Downloading lightgbm-4.1.0-py3-none-win_amd64.whl (1.3 MB)\n",
      "   ---------------------------------------- 0.0/1.3 MB ? eta -:--:--\n",
      "   ---------------------------------------  1.3/1.3 MB 28.3 MB/s eta 0:00:01\n",
      "   ---------------------------------------- 1.3/1.3 MB 28.4 MB/s eta 0:00:00\n",
      "Downloading pytest-7.4.0-py3-none-any.whl (323 kB)\n",
      "   ---------------------------------------- 0.0/323.6 kB ? eta -:--:--\n",
      "   ---------------------------------------- 323.6/323.6 kB 9.8 MB/s eta 0:00:00\n",
      "Downloading httpx-0.26.0-py3-none-any.whl (75 kB)\n",
      "   ---------------------------------------- 0.0/75.9 kB ? eta -:--:--\n",
      "   ---------------------------------------- 75.9/75.9 kB 4.1 MB/s eta 0:00:00\n",
      "Downloading httpcore-1.0.2-py3-none-any.whl (76 kB)\n",
      "   ---------------------------------------- 0.0/76.9 kB ? eta -:--:--\n",
      "   ---------------------------------------- 76.9/76.9 kB 2.2 MB/s eta 0:00:00\n",
      "Downloading alembic-1.13.1-py3-none-any.whl (233 kB)\n",
      "   ---------------------------------------- 0.0/233.4 kB ? eta -:--:--\n",
      "   --------------------------------------- 233.4/233.4 kB 13.9 MB/s eta 0:00:00\n",
      "Downloading altair-5.2.0-py3-none-any.whl (996 kB)\n",
      "   ---------------------------------------- 0.0/996.9 kB ? eta -:--:--\n",
      "   --------------------------------------- 996.9/996.9 kB 21.0 MB/s eta 0:00:00\n",
      "Downloading anyio-3.7.1-py3-none-any.whl (80 kB)\n",
      "   ---------------------------------------- 0.0/80.9 kB ? eta -:--:--\n",
      "   ---------------------------------------- 80.9/80.9 kB ? eta 0:00:00\n",
      "Downloading blinker-1.7.0-py3-none-any.whl (13 kB)\n",
      "Downloading cachetools-5.3.2-py3-none-any.whl (9.3 kB)\n",
      "Downloading certifi-2024.2.2-py3-none-any.whl (163 kB)\n",
      "   ---------------------------------------- 0.0/163.8 kB ? eta -:--:--\n",
      "   ---------------------------------------- 163.8/163.8 kB ? eta 0:00:00\n",
      "Downloading charset_normalizer-3.3.2-cp39-cp39-win_amd64.whl (100 kB)\n",
      "   ---------------------------------------- 0.0/100.4 kB ? eta -:--:--\n",
      "   ---------------------------------------- 100.4/100.4 kB 5.6 MB/s eta 0:00:00\n",
      "Downloading click-8.1.7-py3-none-any.whl (97 kB)\n",
      "   ---------------------------------------- 0.0/97.9 kB ? eta -:--:--\n",
      "   ---------------------------------------- 97.9/97.9 kB ? eta 0:00:00\n",
      "Downloading cloudpickle-3.0.0-py3-none-any.whl (20 kB)\n",
      "Downloading cycler-0.12.1-py3-none-any.whl (8.3 kB)\n",
      "Downloading databricks_cli-0.18.0-py2.py3-none-any.whl (150 kB)\n",
      "   ---------------------------------------- 0.0/150.3 kB ? eta -:--:--\n",
      "   ---------------------------------------- 150.3/150.3 kB 8.8 MB/s eta 0:00:00\n",
      "Downloading docker-6.1.3-py3-none-any.whl (148 kB)\n",
      "   ---------------------------------------- 0.0/148.1 kB ? eta -:--:--\n",
      "   ---------------------------------------- 148.1/148.1 kB 8.6 MB/s eta 0:00:00\n",
      "Downloading exceptiongroup-1.2.0-py3-none-any.whl (16 kB)\n",
      "Downloading flask-3.0.1-py3-none-any.whl (101 kB)\n",
      "   ---------------------------------------- 0.0/101.2 kB ? eta -:--:--\n",
      "   ---------------------------------------- 101.2/101.2 kB ? eta 0:00:00\n",
      "Downloading fonttools-4.47.2-cp39-cp39-win_amd64.whl (2.2 MB)\n",
      "   ---------------------------------------- 0.0/2.2 MB ? eta -:--:--\n",
      "   ----------------------- ---------------- 1.3/2.2 MB 27.0 MB/s eta 0:00:01\n",
      "   ---------------------------------------  2.2/2.2 MB 27.7 MB/s eta 0:00:01\n",
      "   ---------------------------------------- 2.2/2.2 MB 19.9 MB/s eta 0:00:00\n",
      "Downloading GitPython-3.1.41-py3-none-any.whl (196 kB)\n",
      "   ---------------------------------------- 0.0/196.4 kB ? eta -:--:--\n",
      "   ---------------------------------------- 196.4/196.4 kB ? eta 0:00:00\n",
      "Downloading idna-3.6-py3-none-any.whl (61 kB)\n",
      "   ---------------------------------------- 0.0/61.6 kB ? eta -:--:--\n",
      "   ---------------------------------------- 61.6/61.6 kB 3.4 MB/s eta 0:00:00\n",
      "Downloading Jinja2-3.1.3-py3-none-any.whl (133 kB)\n",
      "   ---------------------------------------- 0.0/133.2 kB ? eta -:--:--\n",
      "   ---------------------------------------- 133.2/133.2 kB ? eta 0:00:00\n",
      "Downloading kiwisolver-1.4.5-cp39-cp39-win_amd64.whl (56 kB)\n",
      "   ---------------------------------------- 0.0/56.2 kB ? eta -:--:--\n",
      "   ---------------------------------------- 56.2/56.2 kB 3.1 MB/s eta 0:00:00\n",
      "Downloading Markdown-3.5.2-py3-none-any.whl (103 kB)\n",
      "   ---------------------------------------- 0.0/103.9 kB ? eta -:--:--\n",
      "   ---------------------------------------- 103.9/103.9 kB ? eta 0:00:00\n",
      "Downloading pillow-10.2.0-cp39-cp39-win_amd64.whl (2.6 MB)\n",
      "   ---------------------------------------- 0.0/2.6 MB ? eta -:--:--\n",
      "   -------------- ------------------------- 1.0/2.6 MB 30.4 MB/s eta 0:00:01\n",
      "   --------------------------------- ------ 2.2/2.6 MB 23.4 MB/s eta 0:00:01\n",
      "   ---------------------------------------- 2.6/2.6 MB 20.9 MB/s eta 0:00:00\n",
      "Downloading pluggy-1.4.0-py3-none-any.whl (20 kB)\n",
      "Downloading protobuf-4.25.2-cp39-cp39-win_amd64.whl (413 kB)\n",
      "   ---------------------------------------- 0.0/413.4 kB ? eta -:--:--\n",
      "   --------------------------------------- 413.4/413.4 kB 12.6 MB/s eta 0:00:00\n",
      "Downloading pyarrow-14.0.2-cp39-cp39-win_amd64.whl (24.6 MB)\n",
      "   ---------------------------------------- 0.0/24.6 MB ? eta -:--:--\n",
      "   -- ------------------------------------- 1.5/24.6 MB 31.4 MB/s eta 0:00:01\n",
      "   --- ------------------------------------ 2.1/24.6 MB 33.5 MB/s eta 0:00:01\n",
      "   --- ------------------------------------ 2.1/24.6 MB 33.5 MB/s eta 0:00:01\n",
      "   ---- ----------------------------------- 3.0/24.6 MB 14.7 MB/s eta 0:00:02\n",
      "   ------ --------------------------------- 3.9/24.6 MB 15.4 MB/s eta 0:00:02\n",
      "   ------- -------------------------------- 4.8/24.6 MB 16.0 MB/s eta 0:00:02\n",
      "   --------- ------------------------------ 6.0/24.6 MB 17.4 MB/s eta 0:00:02\n",
      "   ----------- ---------------------------- 7.1/24.6 MB 18.1 MB/s eta 0:00:01\n",
      "   ------------- -------------------------- 8.6/24.6 MB 19.6 MB/s eta 0:00:01\n",
      "   --------------- ------------------------ 9.8/24.6 MB 20.2 MB/s eta 0:00:01\n",
      "   ----------------- ---------------------- 11.0/24.6 MB 19.9 MB/s eta 0:00:01\n",
      "   ------------------- -------------------- 12.2/24.6 MB 19.8 MB/s eta 0:00:01\n",
      "   ---------------------- ----------------- 13.9/24.6 MB 26.2 MB/s eta 0:00:01\n",
      "   ------------------------ --------------- 15.2/24.6 MB 27.3 MB/s eta 0:00:01\n",
      "   --------------------------- ------------ 16.8/24.6 MB 28.5 MB/s eta 0:00:01\n",
      "   ----------------------------- ---------- 18.3/24.6 MB 28.5 MB/s eta 0:00:01\n",
      "   -------------------------------- ------- 19.8/24.6 MB 29.7 MB/s eta 0:00:01\n",
      "   ---------------------------------- ----- 21.1/24.6 MB 29.7 MB/s eta 0:00:01\n",
      "   ------------------------------------- -- 22.8/24.6 MB 29.8 MB/s eta 0:00:01\n",
      "   ---------------------------------------  24.1/24.6 MB 31.2 MB/s eta 0:00:01\n",
      "   ---------------------------------------  24.6/24.6 MB 29.7 MB/s eta 0:00:01\n",
      "   ---------------------------------------  24.6/24.6 MB 29.7 MB/s eta 0:00:01\n",
      "   ---------------------------------------- 24.6/24.6 MB 24.2 MB/s eta 0:00:00\n",
      "Downloading pydantic-2.6.0-py3-none-any.whl (394 kB)\n",
      "   ---------------------------------------- 0.0/394.2 kB ? eta -:--:--\n",
      "   --------------------------------------- 394.2/394.2 kB 24.0 MB/s eta 0:00:00\n",
      "Downloading pydantic_core-2.16.1-cp39-none-win_amd64.whl (1.9 MB)\n",
      "   ---------------------------------------- 0.0/1.9 MB ? eta -:--:--\n",
      "   ------------------------- -------------- 1.2/1.9 MB 38.6 MB/s eta 0:00:01\n",
      "   ---------------------------------------- 1.9/1.9 MB 24.6 MB/s eta 0:00:00\n",
      "Downloading pyparsing-3.1.1-py3-none-any.whl (103 kB)\n",
      "   ---------------------------------------- 0.0/103.1 kB ? eta -:--:--\n",
      "   ---------------------------------------- 103.1/103.1 kB 5.8 MB/s eta 0:00:00\n",
      "Downloading pytz-2023.4-py2.py3-none-any.whl (506 kB)\n",
      "   ---------------------------------------- 0.0/506.5 kB ? eta -:--:--\n",
      "   --------------------------------------- 506.5/506.5 kB 16.0 MB/s eta 0:00:00\n",
      "Downloading PyYAML-6.0.1-cp39-cp39-win_amd64.whl (152 kB)\n",
      "   ---------------------------------------- 0.0/152.8 kB ? eta -:--:--\n",
      "   ---------------------------------------- 152.8/152.8 kB 8.9 MB/s eta 0:00:00\n",
      "Downloading rich-13.7.0-py3-none-any.whl (240 kB)\n",
      "   ---------------------------------------- 0.0/240.6 kB ? eta -:--:--\n",
      "   --------------------------------------- 240.6/240.6 kB 15.4 MB/s eta 0:00:00\n",
      "Downloading scikit_learn-1.4.0-1-cp39-cp39-win_amd64.whl (10.6 MB)\n",
      "   ---------------------------------------- 0.0/10.6 MB ? eta -:--:--\n",
      "   ---- ----------------------------------- 1.2/10.6 MB 24.8 MB/s eta 0:00:01\n",
      "   --------- ------------------------------ 2.6/10.6 MB 27.6 MB/s eta 0:00:01\n",
      "   -------------- ------------------------- 3.8/10.6 MB 27.1 MB/s eta 0:00:01\n",
      "   ------------------ --------------------- 5.0/10.6 MB 26.7 MB/s eta 0:00:01\n",
      "   ----------------------- ---------------- 6.3/10.6 MB 25.4 MB/s eta 0:00:01\n",
      "   ---------------------------- ----------- 7.5/10.6 MB 25.3 MB/s eta 0:00:01\n",
      "   --------------------------------- ------ 8.8/10.6 MB 25.6 MB/s eta 0:00:01\n",
      "   ------------------------------------- -- 10.0/10.6 MB 25.7 MB/s eta 0:00:01\n",
      "   ---------------------------------------  10.6/10.6 MB 26.2 MB/s eta 0:00:01\n",
      "   ---------------------------------------- 10.6/10.6 MB 23.3 MB/s eta 0:00:00\n",
      "Downloading scipy-1.11.4-cp39-cp39-win_amd64.whl (44.3 MB)\n",
      "   ---------------------------------------- 0.0/44.3 MB ? eta -:--:--\n",
      "    --------------------------------------- 1.0/44.3 MB 31.1 MB/s eta 0:00:02\n",
      "   - -------------------------------------- 2.1/44.3 MB 21.8 MB/s eta 0:00:02\n",
      "   -- ------------------------------------- 3.2/44.3 MB 22.4 MB/s eta 0:00:02\n",
      "   ---- ----------------------------------- 4.6/44.3 MB 24.2 MB/s eta 0:00:02\n",
      "   ----- ---------------------------------- 5.7/44.3 MB 24.3 MB/s eta 0:00:02\n",
      "   ------ --------------------------------- 7.1/44.3 MB 23.8 MB/s eta 0:00:02\n",
      "   ------- -------------------------------- 8.2/44.3 MB 23.9 MB/s eta 0:00:02\n",
      "   -------- ------------------------------- 9.7/44.3 MB 24.7 MB/s eta 0:00:02\n",
      "   --------- ------------------------------ 10.8/44.3 MB 24.2 MB/s eta 0:00:02\n",
      "   ---------- ----------------------------- 12.0/44.3 MB 25.2 MB/s eta 0:00:02\n",
      "   ----------- ---------------------------- 13.2/44.3 MB 25.2 MB/s eta 0:00:02\n",
      "   ------------- -------------------------- 14.6/44.3 MB 25.2 MB/s eta 0:00:02\n",
      "   -------------- ------------------------- 15.7/44.3 MB 25.1 MB/s eta 0:00:02\n",
      "   --------------- ------------------------ 17.0/44.3 MB 25.1 MB/s eta 0:00:02\n",
      "   ---------------- ----------------------- 18.2/44.3 MB 25.2 MB/s eta 0:00:02\n",
      "   ----------------- ---------------------- 19.5/44.3 MB 24.2 MB/s eta 0:00:02\n",
      "   ------------------ --------------------- 20.5/44.3 MB 25.2 MB/s eta 0:00:01\n",
      "   ------------------- -------------------- 21.6/44.3 MB 25.2 MB/s eta 0:00:01\n",
      "   -------------------- ------------------- 22.9/44.3 MB 25.2 MB/s eta 0:00:01\n",
      "   --------------------- ------------------ 24.2/44.3 MB 24.3 MB/s eta 0:00:01\n",
      "   ---------------------- ----------------- 25.4/44.3 MB 24.2 MB/s eta 0:00:01\n",
      "   ----------------------- ---------------- 26.5/44.3 MB 25.1 MB/s eta 0:00:01\n",
      "   ------------------------ --------------- 27.5/44.3 MB 25.2 MB/s eta 0:00:01\n",
      "   ------------------------- -------------- 28.7/44.3 MB 25.2 MB/s eta 0:00:01\n",
      "   --------------------------- ------------ 30.1/44.3 MB 25.2 MB/s eta 0:00:01\n",
      "   ---------------------------- ----------- 31.2/44.3 MB 25.2 MB/s eta 0:00:01\n",
      "   ----------------------------- ---------- 32.5/44.3 MB 26.2 MB/s eta 0:00:01\n",
      "   ------------------------------ --------- 33.6/44.3 MB 24.3 MB/s eta 0:00:01\n",
      "   ------------------------------- -------- 34.9/44.3 MB 25.2 MB/s eta 0:00:01\n",
      "   -------------------------------- ------- 36.1/44.3 MB 25.2 MB/s eta 0:00:01\n",
      "   --------------------------------- ------ 37.3/44.3 MB 25.2 MB/s eta 0:00:01\n",
      "   ---------------------------------- ----- 38.6/44.3 MB 25.2 MB/s eta 0:00:01\n",
      "   ------------------------------------ --- 40.0/44.3 MB 26.2 MB/s eta 0:00:01\n",
      "   ------------------------------------- -- 41.7/44.3 MB 27.3 MB/s eta 0:00:01\n",
      "   ---------------------------------------  43.2/44.3 MB 28.4 MB/s eta 0:00:01\n",
      "   ---------------------------------------  44.3/44.3 MB 29.7 MB/s eta 0:00:01\n",
      "   ---------------------------------------  44.3/44.3 MB 29.7 MB/s eta 0:00:01\n",
      "   ---------------------------------------  44.3/44.3 MB 29.7 MB/s eta 0:00:01\n",
      "   ---------------------------------------- 44.3/44.3 MB 21.8 MB/s eta 0:00:00\n",
      "Downloading SQLAlchemy-2.0.25-cp39-cp39-win_amd64.whl (2.1 MB)\n",
      "   ---------------------------------------- 0.0/2.1 MB ? eta -:--:--\n",
      "   ------------------- -------------------- 1.0/2.1 MB 21.1 MB/s eta 0:00:01\n",
      "   ---------------------------------------  2.1/2.1 MB 26.4 MB/s eta 0:00:01\n",
      "   ---------------------------------------- 2.1/2.1 MB 18.9 MB/s eta 0:00:00\n",
      "Downloading starlette-0.27.0-py3-none-any.whl (66 kB)\n",
      "   ---------------------------------------- 0.0/67.0 kB ? eta -:--:--\n",
      "   ---------------------------------------- 67.0/67.0 kB 3.8 MB/s eta 0:00:00\n",
      "Downloading tenacity-8.2.3-py3-none-any.whl (24 kB)\n",
      "Downloading tqdm-4.66.1-py3-none-any.whl (78 kB)\n",
      "   ---------------------------------------- 0.0/78.3 kB ? eta -:--:--\n",
      "   ---------------------------------------- 78.3/78.3 kB 4.5 MB/s eta 0:00:00\n",
      "Downloading tzlocal-5.2-py3-none-any.whl (17 kB)\n",
      "Downloading urllib3-2.2.0-py3-none-any.whl (120 kB)\n",
      "   ---------------------------------------- 0.0/120.9 kB ? eta -:--:--\n",
      "   ---------------------------------------- 120.9/120.9 kB 6.9 MB/s eta 0:00:00\n",
      "Downloading validators-0.22.0-py3-none-any.whl (26 kB)\n",
      "Downloading numba-0.59.0-cp39-cp39-win_amd64.whl (2.6 MB)\n",
      "   ---------------------------------------- 0.0/2.6 MB ? eta -:--:--\n",
      "   ------------------- -------------------- 1.3/2.6 MB 27.7 MB/s eta 0:00:01\n",
      "   ------------------------------------- -- 2.5/2.6 MB 26.6 MB/s eta 0:00:01\n",
      "   ---------------------------------------- 2.6/2.6 MB 24.0 MB/s eta 0:00:00\n",
      "Downloading annotated_types-0.6.0-py3-none-any.whl (12 kB)\n",
      "Downloading gitdb-4.0.11-py3-none-any.whl (62 kB)\n",
      "   ---------------------------------------- 0.0/62.7 kB ? eta -:--:--\n",
      "   ---------------------------------------- 62.7/62.7 kB 3.3 MB/s eta 0:00:00\n",
      "Downloading greenlet-3.0.3-cp39-cp39-win_amd64.whl (290 kB)\n",
      "   ---------------------------------------- 0.0/290.8 kB ? eta -:--:--\n",
      "   --------------------------------------- 290.8/290.8 kB 17.5 MB/s eta 0:00:00\n",
      "Downloading joblib-1.3.2-py3-none-any.whl (302 kB)\n",
      "   ---------------------------------------- 0.0/302.2 kB ? eta -:--:--\n",
      "   --------------------------------------- 302.2/302.2 kB 18.2 MB/s eta 0:00:00\n",
      "Downloading jsonschema-4.21.1-py3-none-any.whl (85 kB)\n",
      "   ---------------------------------------- 0.0/85.5 kB ? eta -:--:--\n",
      "   ---------------------------------------- 85.5/85.5 kB 4.7 MB/s eta 0:00:00\n",
      "Downloading llvmlite-0.42.0-cp39-cp39-win_amd64.whl (28.1 MB)\n",
      "   ---------------------------------------- 0.0/28.1 MB ? eta -:--:--\n",
      "   - -------------------------------------- 1.0/28.1 MB 31.7 MB/s eta 0:00:01\n",
      "   --- ------------------------------------ 2.2/28.1 MB 28.4 MB/s eta 0:00:01\n",
      "   ----- ---------------------------------- 3.7/28.1 MB 29.2 MB/s eta 0:00:01\n",
      "   ------ --------------------------------- 4.8/28.1 MB 27.9 MB/s eta 0:00:01\n",
      "   -------- ------------------------------- 6.2/28.1 MB 26.3 MB/s eta 0:00:01\n",
      "   ---------- ----------------------------- 7.3/28.1 MB 26.1 MB/s eta 0:00:01\n",
      "   ------------ --------------------------- 8.8/28.1 MB 26.7 MB/s eta 0:00:01\n",
      "   -------------- ------------------------- 10.0/28.1 MB 26.6 MB/s eta 0:00:01\n",
      "   ---------------- ----------------------- 11.4/28.1 MB 26.2 MB/s eta 0:00:01\n",
      "   ----------------- ---------------------- 12.5/28.1 MB 25.2 MB/s eta 0:00:01\n",
      "   -------------------- ------------------- 14.1/28.1 MB 26.2 MB/s eta 0:00:01\n",
      "   ---------------------- ----------------- 15.7/28.1 MB 27.3 MB/s eta 0:00:01\n",
      "   ------------------------ --------------- 17.0/28.1 MB 28.4 MB/s eta 0:00:01\n",
      "   -------------------------- ------------- 18.5/28.1 MB 28.4 MB/s eta 0:00:01\n",
      "   ---------------------------- ----------- 20.2/28.1 MB 28.5 MB/s eta 0:00:01\n",
      "   ------------------------------ --------- 21.5/28.1 MB 28.5 MB/s eta 0:00:01\n",
      "   -------------------------------- ------- 23.1/28.1 MB 31.2 MB/s eta 0:00:01\n",
      "   ----------------------------------- ---- 24.7/28.1 MB 31.2 MB/s eta 0:00:01\n",
      "   ------------------------------------- -- 26.2/28.1 MB 31.2 MB/s eta 0:00:01\n",
      "   ---------------------------------------  28.1/28.1 MB 31.2 MB/s eta 0:00:01\n",
      "   ---------------------------------------  28.1/28.1 MB 31.2 MB/s eta 0:00:01\n",
      "   ---------------------------------------- 28.1/28.1 MB 25.2 MB/s eta 0:00:00\n",
      "Downloading markdown_it_py-3.0.0-py3-none-any.whl (87 kB)\n",
      "   ---------------------------------------- 0.0/87.5 kB ? eta -:--:--\n",
      "   ---------------------------------------- 87.5/87.5 kB 5.2 MB/s eta 0:00:00\n",
      "Downloading MarkupSafe-2.1.4-cp39-cp39-win_amd64.whl (17 kB)\n",
      "Downloading PyJWT-2.8.0-py3-none-any.whl (22 kB)\n",
      "Downloading threadpoolctl-3.2.0-py3-none-any.whl (15 kB)\n",
      "Downloading websocket_client-1.7.0-py3-none-any.whl (58 kB)\n",
      "   ---------------------------------------- 0.0/58.5 kB ? eta -:--:--\n",
      "   ---------------------------------------- 58.5/58.5 kB 3.2 MB/s eta 0:00:00\n",
      "Downloading werkzeug-3.0.1-py3-none-any.whl (226 kB)\n",
      "   ---------------------------------------- 0.0/226.7 kB ? eta -:--:--\n",
      "   ---------------------------------------- 226.7/226.7 kB ? eta 0:00:00\n",
      "Downloading Mako-1.3.2-py3-none-any.whl (78 kB)\n",
      "   ---------------------------------------- 0.0/78.7 kB ? eta -:--:--\n",
      "   ---------------------------------------- 78.7/78.7 kB 4.6 MB/s eta 0:00:00\n",
      "Downloading toolz-0.12.1-py3-none-any.whl (56 kB)\n",
      "   ---------------------------------------- 0.0/56.1 kB ? eta -:--:--\n",
      "   ---------------------------------------- 56.1/56.1 kB ? eta 0:00:00\n",
      "Downloading tzdata-2023.4-py2.py3-none-any.whl (346 kB)\n",
      "   ---------------------------------------- 0.0/346.6 kB ? eta -:--:--\n",
      "   --------------------------------------- 346.6/346.6 kB 10.8 MB/s eta 0:00:00\n",
      "Downloading attrs-23.2.0-py3-none-any.whl (60 kB)\n",
      "   ---------------------------------------- 0.0/60.8 kB ? eta -:--:--\n",
      "   ---------------------------------------- 60.8/60.8 kB 3.4 MB/s eta 0:00:00\n",
      "Downloading jsonschema_specifications-2023.12.1-py3-none-any.whl (18 kB)\n",
      "Downloading referencing-0.33.0-py3-none-any.whl (26 kB)\n",
      "Downloading rpds_py-0.17.1-cp39-none-win_amd64.whl (206 kB)\n",
      "   ---------------------------------------- 0.0/206.2 kB ? eta -:--:--\n",
      "   --------------------------------------- 206.2/206.2 kB 12.2 MB/s eta 0:00:00\n",
      "Downloading smmap-5.0.1-py3-none-any.whl (24 kB)\n",
      "Installing collected packages: pywin32, pytz, websocket-client, watchdog, waitress, validators, urllib3, tzdata, tqdm, toolz, tomli, toml, threadpoolctl, tenacity, tabulate, sqlparse, sniffio, smmap, slicer, rpds-py, querystring-parser, pyyaml, pyparsing, pyjwt, pydantic-core, protobuf, pluggy, pillow, oauthlib, numpy, mdurl, MarkupSafe, llvmlite, kiwisolver, joblib, itsdangerous, iniconfig, idna, h11, greenlet, fonttools, exceptiongroup, entrypoints, cycler, cloudpickle, click, charset-normalizer, certifi, cachetools, blinker, attrs, annotated-types, Werkzeug, uvicorn, tzlocal, sqlalchemy, scipy, requests, referencing, pytest, pydantic, pyarrow, plotly, pandas, numba, matplotlib, markdown-it-py, markdown, Mako, Jinja2, httpcore, gitdb, anyio, starlette, scikit-learn, rich, pydeck, lightgbm, jsonschema-specifications, httpx, gitpython, Flask, docker, databricks-cli, alembic, shap, mlflow, jsonschema, fastapi, altair, streamlit\n",
      "  Attempting uninstall: pywin32\n",
      "    Found existing installation: pywin32 227\n",
      "    Uninstalling pywin32-227:\n",
      "      Successfully uninstalled pywin32-227\n",
      "Successfully installed Flask-3.0.1 Jinja2-3.1.3 Mako-1.3.2 MarkupSafe-2.1.4 Werkzeug-3.0.1 alembic-1.13.1 altair-5.2.0 annotated-types-0.6.0 anyio-3.7.1 attrs-23.2.0 blinker-1.7.0 cachetools-5.3.2 certifi-2024.2.2 charset-normalizer-3.3.2 click-8.1.7 cloudpickle-3.0.0 cycler-0.12.1 databricks-cli-0.18.0 docker-6.1.3 entrypoints-0.4 exceptiongroup-1.2.0 fastapi-0.104.1 fonttools-4.47.2 gitdb-4.0.11 gitpython-3.1.41 greenlet-3.0.3 h11-0.14.0 httpcore-1.0.2 httpx-0.26.0 idna-3.6 iniconfig-2.0.0 itsdangerous-2.1.2 joblib-1.3.2 jsonschema-4.21.1 jsonschema-specifications-2023.12.1 kiwisolver-1.4.5 lightgbm-4.1.0 llvmlite-0.42.0 markdown-3.5.2 markdown-it-py-3.0.0 matplotlib-3.5.2 mdurl-0.1.2 mlflow-2.9.1 numba-0.59.0 numpy-1.22.0 oauthlib-3.2.2 pandas-1.4.4 pillow-10.2.0 plotly-5.9.0 pluggy-1.4.0 protobuf-4.25.2 pyarrow-14.0.2 pydantic-2.6.0 pydantic-core-2.16.1 pydeck-0.8.1b0 pyjwt-2.8.0 pyparsing-3.1.1 pytest-7.4.0 pytz-2023.4 pywin32-306 pyyaml-6.0.1 querystring-parser-1.2.4 referencing-0.33.0 requests-2.31.0 rich-13.7.0 rpds-py-0.17.1 scikit-learn-1.4.0 scipy-1.11.4 shap-0.41.0 slicer-0.0.7 smmap-5.0.1 sniffio-1.3.0 sqlalchemy-2.0.25 sqlparse-0.4.4 starlette-0.27.0 streamlit-1.30.0 tabulate-0.9.0 tenacity-8.2.3 threadpoolctl-3.2.0 toml-0.10.2 tomli-2.0.1 toolz-0.12.1 tqdm-4.66.1 tzdata-2023.4 tzlocal-5.2 urllib3-2.2.0 uvicorn-0.24.0.post1 validators-0.22.0 waitress-2.1.2 watchdog-3.0.0 websocket-client-1.7.0\n"
     ]
    }
   ],
   "source": [
    "# pip install -r requirements.txt"
   ]
  },
  {
   "cell_type": "code",
   "execution_count": 1,
   "metadata": {},
   "outputs": [],
   "source": [
    "# import logging\n",
    "# pandas==1.4.4\n",
    "# numpy==1.22\n",
    "# streamlit==1.30.0\n",
    "# requests==2.31.0\n",
    "# shap==0.41.0\n",
    "# matplotlib==3.5.2\n",
    "# plotly==5.9.0\n",
    "# mlflow==2.9.1\n",
    "# uvicorn==0.24.0.post1\n",
    "# fastapi==0.104.1\n",
    "# lightgbm==4.1.0\n",
    "# pytest==7.4.0\n",
    "# httpx==0.26.0"
   ]
  },
  {
   "cell_type": "code",
   "execution_count": 4,
   "metadata": {},
   "outputs": [
    {
     "name": "stderr",
     "output_type": "stream",
     "text": [
      "c:\\Users\\Hankour\\anaconda3\\envs\\P7_scoring_env\\lib\\site-packages\\tqdm\\auto.py:21: TqdmWarning: IProgress not found. Please update jupyter and ipywidgets. See https://ipywidgets.readthedocs.io/en/stable/user_install.html\n",
      "  from .autonotebook import tqdm as notebook_tqdm\n"
     ]
    }
   ],
   "source": [
    "# import dash\n",
    "# from dash import dcc, html\n",
    "# from dash.dependencies import Input, Output\n",
    "import plotly.express as px\n",
    "import shap\n",
    "import pandas as pd\n",
    "# from sklearn.model_selection import train_test_split\n",
    "import mlflow.sklearn\n",
    "import matplotlib.pyplot as plt"
   ]
  },
  {
   "cell_type": "code",
   "execution_count": 5,
   "metadata": {},
   "outputs": [
    {
     "data": {
      "text/plain": [
       "'2.0.9'"
      ]
     },
     "execution_count": 5,
     "metadata": {},
     "output_type": "execute_result"
    }
   ],
   "source": [
    "import json\n",
    "json.__version__"
   ]
  },
  {
   "cell_type": "code",
   "execution_count": 23,
   "metadata": {},
   "outputs": [
    {
     "name": "stderr",
     "output_type": "stream",
     "text": [
      "Trying to unpickle estimator LabelEncoder from version 1.2.2 when using version 1.4.0. This might lead to breaking code or invalid results. Use at your own risk. For more info please refer to:\n",
      "https://scikit-learn.org/stable/model_persistence.html#security-maintainability-limitations\n"
     ]
    }
   ],
   "source": [
    "# Charger le modèle MLFlow\n",
    "import mlflow\n",
    "import pandas as pd\n",
    "\n",
    "# github_path = \"https://github.com/ArhurK/P7_scoring_livrable/tree/main/mlruns/159852288404653738/89e2dedfd3dd428b849adecd8c60de14/artifacts/model_lgbm_class_weight_best_model\"\n",
    "\n",
    "model_path = r\"mlruns\\159852288404653738\\89e2dedfd3dd428b849adecd8c60de14\\artifacts\\model_lgbm_class_weight_best_model\"\n",
    "# model_path = r\"C:\\Users\\Hankour\\OneDrive\\Bureau\\OC_Arthur\\mlruns\\159852288404653738\\89e2dedfd3dd428b849adecd8c60de14\\artifacts\\model_lgbm_class_weight_best_model\"\n",
    "model = mlflow.sklearn.load_model(model_path)\n",
    "model_pkl = pd.read_pickle(model_path + r\"\\model.pkl\")\n",
    "# Charger les données \n",
    "df = pd.read_pickle('test_df.pkl')"
   ]
  },
  {
   "cell_type": "code",
   "execution_count": 24,
   "metadata": {},
   "outputs": [
    {
     "data": {
      "text/html": [
       "<style>#sk-container-id-2 {\n",
       "  /* Definition of color scheme common for light and dark mode */\n",
       "  --sklearn-color-text: black;\n",
       "  --sklearn-color-line: gray;\n",
       "  /* Definition of color scheme for unfitted estimators */\n",
       "  --sklearn-color-unfitted-level-0: #fff5e6;\n",
       "  --sklearn-color-unfitted-level-1: #f6e4d2;\n",
       "  --sklearn-color-unfitted-level-2: #ffe0b3;\n",
       "  --sklearn-color-unfitted-level-3: chocolate;\n",
       "  /* Definition of color scheme for fitted estimators */\n",
       "  --sklearn-color-fitted-level-0: #f0f8ff;\n",
       "  --sklearn-color-fitted-level-1: #d4ebff;\n",
       "  --sklearn-color-fitted-level-2: #b3dbfd;\n",
       "  --sklearn-color-fitted-level-3: cornflowerblue;\n",
       "\n",
       "  /* Specific color for light theme */\n",
       "  --sklearn-color-text-on-default-background: var(--sg-text-color, var(--theme-code-foreground, var(--jp-content-font-color1, black)));\n",
       "  --sklearn-color-background: var(--sg-background-color, var(--theme-background, var(--jp-layout-color0, white)));\n",
       "  --sklearn-color-border-box: var(--sg-text-color, var(--theme-code-foreground, var(--jp-content-font-color1, black)));\n",
       "  --sklearn-color-icon: #696969;\n",
       "\n",
       "  @media (prefers-color-scheme: dark) {\n",
       "    /* Redefinition of color scheme for dark theme */\n",
       "    --sklearn-color-text-on-default-background: var(--sg-text-color, var(--theme-code-foreground, var(--jp-content-font-color1, white)));\n",
       "    --sklearn-color-background: var(--sg-background-color, var(--theme-background, var(--jp-layout-color0, #111)));\n",
       "    --sklearn-color-border-box: var(--sg-text-color, var(--theme-code-foreground, var(--jp-content-font-color1, white)));\n",
       "    --sklearn-color-icon: #878787;\n",
       "  }\n",
       "}\n",
       "\n",
       "#sk-container-id-2 {\n",
       "  color: var(--sklearn-color-text);\n",
       "}\n",
       "\n",
       "#sk-container-id-2 pre {\n",
       "  padding: 0;\n",
       "}\n",
       "\n",
       "#sk-container-id-2 input.sk-hidden--visually {\n",
       "  border: 0;\n",
       "  clip: rect(1px 1px 1px 1px);\n",
       "  clip: rect(1px, 1px, 1px, 1px);\n",
       "  height: 1px;\n",
       "  margin: -1px;\n",
       "  overflow: hidden;\n",
       "  padding: 0;\n",
       "  position: absolute;\n",
       "  width: 1px;\n",
       "}\n",
       "\n",
       "#sk-container-id-2 div.sk-dashed-wrapped {\n",
       "  border: 1px dashed var(--sklearn-color-line);\n",
       "  margin: 0 0.4em 0.5em 0.4em;\n",
       "  box-sizing: border-box;\n",
       "  padding-bottom: 0.4em;\n",
       "  background-color: var(--sklearn-color-background);\n",
       "}\n",
       "\n",
       "#sk-container-id-2 div.sk-container {\n",
       "  /* jupyter's `normalize.less` sets `[hidden] { display: none; }`\n",
       "     but bootstrap.min.css set `[hidden] { display: none !important; }`\n",
       "     so we also need the `!important` here to be able to override the\n",
       "     default hidden behavior on the sphinx rendered scikit-learn.org.\n",
       "     See: https://github.com/scikit-learn/scikit-learn/issues/21755 */\n",
       "  display: inline-block !important;\n",
       "  position: relative;\n",
       "}\n",
       "\n",
       "#sk-container-id-2 div.sk-text-repr-fallback {\n",
       "  display: none;\n",
       "}\n",
       "\n",
       "div.sk-parallel-item,\n",
       "div.sk-serial,\n",
       "div.sk-item {\n",
       "  /* draw centered vertical line to link estimators */\n",
       "  background-image: linear-gradient(var(--sklearn-color-text-on-default-background), var(--sklearn-color-text-on-default-background));\n",
       "  background-size: 2px 100%;\n",
       "  background-repeat: no-repeat;\n",
       "  background-position: center center;\n",
       "}\n",
       "\n",
       "/* Parallel-specific style estimator block */\n",
       "\n",
       "#sk-container-id-2 div.sk-parallel-item::after {\n",
       "  content: \"\";\n",
       "  width: 100%;\n",
       "  border-bottom: 2px solid var(--sklearn-color-text-on-default-background);\n",
       "  flex-grow: 1;\n",
       "}\n",
       "\n",
       "#sk-container-id-2 div.sk-parallel {\n",
       "  display: flex;\n",
       "  align-items: stretch;\n",
       "  justify-content: center;\n",
       "  background-color: var(--sklearn-color-background);\n",
       "  position: relative;\n",
       "}\n",
       "\n",
       "#sk-container-id-2 div.sk-parallel-item {\n",
       "  display: flex;\n",
       "  flex-direction: column;\n",
       "}\n",
       "\n",
       "#sk-container-id-2 div.sk-parallel-item:first-child::after {\n",
       "  align-self: flex-end;\n",
       "  width: 50%;\n",
       "}\n",
       "\n",
       "#sk-container-id-2 div.sk-parallel-item:last-child::after {\n",
       "  align-self: flex-start;\n",
       "  width: 50%;\n",
       "}\n",
       "\n",
       "#sk-container-id-2 div.sk-parallel-item:only-child::after {\n",
       "  width: 0;\n",
       "}\n",
       "\n",
       "/* Serial-specific style estimator block */\n",
       "\n",
       "#sk-container-id-2 div.sk-serial {\n",
       "  display: flex;\n",
       "  flex-direction: column;\n",
       "  align-items: center;\n",
       "  background-color: var(--sklearn-color-background);\n",
       "  padding-right: 1em;\n",
       "  padding-left: 1em;\n",
       "}\n",
       "\n",
       "\n",
       "/* Toggleable style: style used for estimator/Pipeline/ColumnTransformer box that is\n",
       "clickable and can be expanded/collapsed.\n",
       "- Pipeline and ColumnTransformer use this feature and define the default style\n",
       "- Estimators will overwrite some part of the style using the `sk-estimator` class\n",
       "*/\n",
       "\n",
       "/* Pipeline and ColumnTransformer style (default) */\n",
       "\n",
       "#sk-container-id-2 div.sk-toggleable {\n",
       "  /* Default theme specific background. It is overwritten whether we have a\n",
       "  specific estimator or a Pipeline/ColumnTransformer */\n",
       "  background-color: var(--sklearn-color-background);\n",
       "}\n",
       "\n",
       "/* Toggleable label */\n",
       "#sk-container-id-2 label.sk-toggleable__label {\n",
       "  cursor: pointer;\n",
       "  display: block;\n",
       "  width: 100%;\n",
       "  margin-bottom: 0;\n",
       "  padding: 0.5em;\n",
       "  box-sizing: border-box;\n",
       "  text-align: center;\n",
       "}\n",
       "\n",
       "#sk-container-id-2 label.sk-toggleable__label-arrow:before {\n",
       "  /* Arrow on the left of the label */\n",
       "  content: \"▸\";\n",
       "  float: left;\n",
       "  margin-right: 0.25em;\n",
       "  color: var(--sklearn-color-icon);\n",
       "}\n",
       "\n",
       "#sk-container-id-2 label.sk-toggleable__label-arrow:hover:before {\n",
       "  color: var(--sklearn-color-text);\n",
       "}\n",
       "\n",
       "/* Toggleable content - dropdown */\n",
       "\n",
       "#sk-container-id-2 div.sk-toggleable__content {\n",
       "  max-height: 0;\n",
       "  max-width: 0;\n",
       "  overflow: hidden;\n",
       "  text-align: left;\n",
       "  /* unfitted */\n",
       "  background-color: var(--sklearn-color-unfitted-level-0);\n",
       "}\n",
       "\n",
       "#sk-container-id-2 div.sk-toggleable__content.fitted {\n",
       "  /* fitted */\n",
       "  background-color: var(--sklearn-color-fitted-level-0);\n",
       "}\n",
       "\n",
       "#sk-container-id-2 div.sk-toggleable__content pre {\n",
       "  margin: 0.2em;\n",
       "  border-radius: 0.25em;\n",
       "  color: var(--sklearn-color-text);\n",
       "  /* unfitted */\n",
       "  background-color: var(--sklearn-color-unfitted-level-0);\n",
       "}\n",
       "\n",
       "#sk-container-id-2 div.sk-toggleable__content.fitted pre {\n",
       "  /* unfitted */\n",
       "  background-color: var(--sklearn-color-fitted-level-0);\n",
       "}\n",
       "\n",
       "#sk-container-id-2 input.sk-toggleable__control:checked~div.sk-toggleable__content {\n",
       "  /* Expand drop-down */\n",
       "  max-height: 200px;\n",
       "  max-width: 100%;\n",
       "  overflow: auto;\n",
       "}\n",
       "\n",
       "#sk-container-id-2 input.sk-toggleable__control:checked~label.sk-toggleable__label-arrow:before {\n",
       "  content: \"▾\";\n",
       "}\n",
       "\n",
       "/* Pipeline/ColumnTransformer-specific style */\n",
       "\n",
       "#sk-container-id-2 div.sk-label input.sk-toggleable__control:checked~label.sk-toggleable__label {\n",
       "  color: var(--sklearn-color-text);\n",
       "  background-color: var(--sklearn-color-unfitted-level-2);\n",
       "}\n",
       "\n",
       "#sk-container-id-2 div.sk-label.fitted input.sk-toggleable__control:checked~label.sk-toggleable__label {\n",
       "  background-color: var(--sklearn-color-fitted-level-2);\n",
       "}\n",
       "\n",
       "/* Estimator-specific style */\n",
       "\n",
       "/* Colorize estimator box */\n",
       "#sk-container-id-2 div.sk-estimator input.sk-toggleable__control:checked~label.sk-toggleable__label {\n",
       "  /* unfitted */\n",
       "  background-color: var(--sklearn-color-unfitted-level-2);\n",
       "}\n",
       "\n",
       "#sk-container-id-2 div.sk-estimator.fitted input.sk-toggleable__control:checked~label.sk-toggleable__label {\n",
       "  /* fitted */\n",
       "  background-color: var(--sklearn-color-fitted-level-2);\n",
       "}\n",
       "\n",
       "#sk-container-id-2 div.sk-label label.sk-toggleable__label,\n",
       "#sk-container-id-2 div.sk-label label {\n",
       "  /* The background is the default theme color */\n",
       "  color: var(--sklearn-color-text-on-default-background);\n",
       "}\n",
       "\n",
       "/* On hover, darken the color of the background */\n",
       "#sk-container-id-2 div.sk-label:hover label.sk-toggleable__label {\n",
       "  color: var(--sklearn-color-text);\n",
       "  background-color: var(--sklearn-color-unfitted-level-2);\n",
       "}\n",
       "\n",
       "/* Label box, darken color on hover, fitted */\n",
       "#sk-container-id-2 div.sk-label.fitted:hover label.sk-toggleable__label.fitted {\n",
       "  color: var(--sklearn-color-text);\n",
       "  background-color: var(--sklearn-color-fitted-level-2);\n",
       "}\n",
       "\n",
       "/* Estimator label */\n",
       "\n",
       "#sk-container-id-2 div.sk-label label {\n",
       "  font-family: monospace;\n",
       "  font-weight: bold;\n",
       "  display: inline-block;\n",
       "  line-height: 1.2em;\n",
       "}\n",
       "\n",
       "#sk-container-id-2 div.sk-label-container {\n",
       "  text-align: center;\n",
       "}\n",
       "\n",
       "/* Estimator-specific */\n",
       "#sk-container-id-2 div.sk-estimator {\n",
       "  font-family: monospace;\n",
       "  border: 1px dotted var(--sklearn-color-border-box);\n",
       "  border-radius: 0.25em;\n",
       "  box-sizing: border-box;\n",
       "  margin-bottom: 0.5em;\n",
       "  /* unfitted */\n",
       "  background-color: var(--sklearn-color-unfitted-level-0);\n",
       "}\n",
       "\n",
       "#sk-container-id-2 div.sk-estimator.fitted {\n",
       "  /* fitted */\n",
       "  background-color: var(--sklearn-color-fitted-level-0);\n",
       "}\n",
       "\n",
       "/* on hover */\n",
       "#sk-container-id-2 div.sk-estimator:hover {\n",
       "  /* unfitted */\n",
       "  background-color: var(--sklearn-color-unfitted-level-2);\n",
       "}\n",
       "\n",
       "#sk-container-id-2 div.sk-estimator.fitted:hover {\n",
       "  /* fitted */\n",
       "  background-color: var(--sklearn-color-fitted-level-2);\n",
       "}\n",
       "\n",
       "/* Specification for estimator info (e.g. \"i\" and \"?\") */\n",
       "\n",
       "/* Common style for \"i\" and \"?\" */\n",
       "\n",
       ".sk-estimator-doc-link,\n",
       "a:link.sk-estimator-doc-link,\n",
       "a:visited.sk-estimator-doc-link {\n",
       "  float: right;\n",
       "  font-size: smaller;\n",
       "  line-height: 1em;\n",
       "  font-family: monospace;\n",
       "  background-color: var(--sklearn-color-background);\n",
       "  border-radius: 1em;\n",
       "  height: 1em;\n",
       "  width: 1em;\n",
       "  text-decoration: none !important;\n",
       "  margin-left: 1ex;\n",
       "  /* unfitted */\n",
       "  border: var(--sklearn-color-unfitted-level-1) 1pt solid;\n",
       "  color: var(--sklearn-color-unfitted-level-1);\n",
       "}\n",
       "\n",
       ".sk-estimator-doc-link.fitted,\n",
       "a:link.sk-estimator-doc-link.fitted,\n",
       "a:visited.sk-estimator-doc-link.fitted {\n",
       "  /* fitted */\n",
       "  border: var(--sklearn-color-fitted-level-1) 1pt solid;\n",
       "  color: var(--sklearn-color-fitted-level-1);\n",
       "}\n",
       "\n",
       "/* On hover */\n",
       "div.sk-estimator:hover .sk-estimator-doc-link:hover,\n",
       ".sk-estimator-doc-link:hover,\n",
       "div.sk-label-container:hover .sk-estimator-doc-link:hover,\n",
       ".sk-estimator-doc-link:hover {\n",
       "  /* unfitted */\n",
       "  background-color: var(--sklearn-color-unfitted-level-3);\n",
       "  color: var(--sklearn-color-background);\n",
       "  text-decoration: none;\n",
       "}\n",
       "\n",
       "div.sk-estimator.fitted:hover .sk-estimator-doc-link.fitted:hover,\n",
       ".sk-estimator-doc-link.fitted:hover,\n",
       "div.sk-label-container:hover .sk-estimator-doc-link.fitted:hover,\n",
       ".sk-estimator-doc-link.fitted:hover {\n",
       "  /* fitted */\n",
       "  background-color: var(--sklearn-color-fitted-level-3);\n",
       "  color: var(--sklearn-color-background);\n",
       "  text-decoration: none;\n",
       "}\n",
       "\n",
       "/* Span, style for the box shown on hovering the info icon */\n",
       ".sk-estimator-doc-link span {\n",
       "  display: none;\n",
       "  z-index: 9999;\n",
       "  position: relative;\n",
       "  font-weight: normal;\n",
       "  right: .2ex;\n",
       "  padding: .5ex;\n",
       "  margin: .5ex;\n",
       "  width: min-content;\n",
       "  min-width: 20ex;\n",
       "  max-width: 50ex;\n",
       "  color: var(--sklearn-color-text);\n",
       "  box-shadow: 2pt 2pt 4pt #999;\n",
       "  /* unfitted */\n",
       "  background: var(--sklearn-color-unfitted-level-0);\n",
       "  border: .5pt solid var(--sklearn-color-unfitted-level-3);\n",
       "}\n",
       "\n",
       ".sk-estimator-doc-link.fitted span {\n",
       "  /* fitted */\n",
       "  background: var(--sklearn-color-fitted-level-0);\n",
       "  border: var(--sklearn-color-fitted-level-3);\n",
       "}\n",
       "\n",
       ".sk-estimator-doc-link:hover span {\n",
       "  display: block;\n",
       "}\n",
       "\n",
       "/* \"?\"-specific style due to the `<a>` HTML tag */\n",
       "\n",
       "#sk-container-id-2 a.estimator_doc_link {\n",
       "  float: right;\n",
       "  font-size: 1rem;\n",
       "  line-height: 1em;\n",
       "  font-family: monospace;\n",
       "  background-color: var(--sklearn-color-background);\n",
       "  border-radius: 1rem;\n",
       "  height: 1rem;\n",
       "  width: 1rem;\n",
       "  text-decoration: none;\n",
       "  /* unfitted */\n",
       "  color: var(--sklearn-color-unfitted-level-1);\n",
       "  border: var(--sklearn-color-unfitted-level-1) 1pt solid;\n",
       "}\n",
       "\n",
       "#sk-container-id-2 a.estimator_doc_link.fitted {\n",
       "  /* fitted */\n",
       "  border: var(--sklearn-color-fitted-level-1) 1pt solid;\n",
       "  color: var(--sklearn-color-fitted-level-1);\n",
       "}\n",
       "\n",
       "/* On hover */\n",
       "#sk-container-id-2 a.estimator_doc_link:hover {\n",
       "  /* unfitted */\n",
       "  background-color: var(--sklearn-color-unfitted-level-3);\n",
       "  color: var(--sklearn-color-background);\n",
       "  text-decoration: none;\n",
       "}\n",
       "\n",
       "#sk-container-id-2 a.estimator_doc_link.fitted:hover {\n",
       "  /* fitted */\n",
       "  background-color: var(--sklearn-color-fitted-level-3);\n",
       "}\n",
       "</style><div id=\"sk-container-id-2\" class=\"sk-top-container\"><div class=\"sk-text-repr-fallback\"><pre>LGBMClassifier(bagging_fraction=0.7999999999999999, bagging_freq=8,\n",
       "               class_weight={0: 0.08, 1: 0.91},\n",
       "               feature_fraction=0.8999999999999999, learning_rate=0.2,\n",
       "               metric=&#x27;binary_logloss&#x27;, num_leaves=20, objective=&#x27;binary&#x27;,\n",
       "               verbose=0, verbosity=-1)</pre><b>In a Jupyter environment, please rerun this cell to show the HTML representation or trust the notebook. <br />On GitHub, the HTML representation is unable to render, please try loading this page with nbviewer.org.</b></div><div class=\"sk-container\" hidden><div class=\"sk-item\"><div class=\"sk-estimator fitted sk-toggleable\"><input class=\"sk-toggleable__control sk-hidden--visually\" id=\"sk-estimator-id-2\" type=\"checkbox\" checked><label for=\"sk-estimator-id-2\" class=\"sk-toggleable__label fitted sk-toggleable__label-arrow fitted\">&nbsp;LGBMClassifier<span class=\"sk-estimator-doc-link fitted\">i<span>Fitted</span></span></label><div class=\"sk-toggleable__content fitted\"><pre>LGBMClassifier(bagging_fraction=0.7999999999999999, bagging_freq=8,\n",
       "               class_weight={0: 0.08, 1: 0.91},\n",
       "               feature_fraction=0.8999999999999999, learning_rate=0.2,\n",
       "               metric=&#x27;binary_logloss&#x27;, num_leaves=20, objective=&#x27;binary&#x27;,\n",
       "               verbose=0, verbosity=-1)</pre></div> </div></div></div></div>"
      ],
      "text/plain": [
       "LGBMClassifier(bagging_fraction=0.7999999999999999, bagging_freq=8,\n",
       "               class_weight={0: 0.08, 1: 0.91},\n",
       "               feature_fraction=0.8999999999999999, learning_rate=0.2,\n",
       "               metric='binary_logloss', num_leaves=20, objective='binary',\n",
       "               verbose=0, verbosity=-1)"
      ]
     },
     "execution_count": 24,
     "metadata": {},
     "output_type": "execute_result"
    }
   ],
   "source": [
    "# model_pkl.to_pickle()"
   ]
  },
  {
   "cell_type": "code",
   "execution_count": 17,
   "metadata": {},
   "outputs": [
    {
     "data": {
      "text/html": [
       "<style>#sk-container-id-1 {\n",
       "  /* Definition of color scheme common for light and dark mode */\n",
       "  --sklearn-color-text: black;\n",
       "  --sklearn-color-line: gray;\n",
       "  /* Definition of color scheme for unfitted estimators */\n",
       "  --sklearn-color-unfitted-level-0: #fff5e6;\n",
       "  --sklearn-color-unfitted-level-1: #f6e4d2;\n",
       "  --sklearn-color-unfitted-level-2: #ffe0b3;\n",
       "  --sklearn-color-unfitted-level-3: chocolate;\n",
       "  /* Definition of color scheme for fitted estimators */\n",
       "  --sklearn-color-fitted-level-0: #f0f8ff;\n",
       "  --sklearn-color-fitted-level-1: #d4ebff;\n",
       "  --sklearn-color-fitted-level-2: #b3dbfd;\n",
       "  --sklearn-color-fitted-level-3: cornflowerblue;\n",
       "\n",
       "  /* Specific color for light theme */\n",
       "  --sklearn-color-text-on-default-background: var(--sg-text-color, var(--theme-code-foreground, var(--jp-content-font-color1, black)));\n",
       "  --sklearn-color-background: var(--sg-background-color, var(--theme-background, var(--jp-layout-color0, white)));\n",
       "  --sklearn-color-border-box: var(--sg-text-color, var(--theme-code-foreground, var(--jp-content-font-color1, black)));\n",
       "  --sklearn-color-icon: #696969;\n",
       "\n",
       "  @media (prefers-color-scheme: dark) {\n",
       "    /* Redefinition of color scheme for dark theme */\n",
       "    --sklearn-color-text-on-default-background: var(--sg-text-color, var(--theme-code-foreground, var(--jp-content-font-color1, white)));\n",
       "    --sklearn-color-background: var(--sg-background-color, var(--theme-background, var(--jp-layout-color0, #111)));\n",
       "    --sklearn-color-border-box: var(--sg-text-color, var(--theme-code-foreground, var(--jp-content-font-color1, white)));\n",
       "    --sklearn-color-icon: #878787;\n",
       "  }\n",
       "}\n",
       "\n",
       "#sk-container-id-1 {\n",
       "  color: var(--sklearn-color-text);\n",
       "}\n",
       "\n",
       "#sk-container-id-1 pre {\n",
       "  padding: 0;\n",
       "}\n",
       "\n",
       "#sk-container-id-1 input.sk-hidden--visually {\n",
       "  border: 0;\n",
       "  clip: rect(1px 1px 1px 1px);\n",
       "  clip: rect(1px, 1px, 1px, 1px);\n",
       "  height: 1px;\n",
       "  margin: -1px;\n",
       "  overflow: hidden;\n",
       "  padding: 0;\n",
       "  position: absolute;\n",
       "  width: 1px;\n",
       "}\n",
       "\n",
       "#sk-container-id-1 div.sk-dashed-wrapped {\n",
       "  border: 1px dashed var(--sklearn-color-line);\n",
       "  margin: 0 0.4em 0.5em 0.4em;\n",
       "  box-sizing: border-box;\n",
       "  padding-bottom: 0.4em;\n",
       "  background-color: var(--sklearn-color-background);\n",
       "}\n",
       "\n",
       "#sk-container-id-1 div.sk-container {\n",
       "  /* jupyter's `normalize.less` sets `[hidden] { display: none; }`\n",
       "     but bootstrap.min.css set `[hidden] { display: none !important; }`\n",
       "     so we also need the `!important` here to be able to override the\n",
       "     default hidden behavior on the sphinx rendered scikit-learn.org.\n",
       "     See: https://github.com/scikit-learn/scikit-learn/issues/21755 */\n",
       "  display: inline-block !important;\n",
       "  position: relative;\n",
       "}\n",
       "\n",
       "#sk-container-id-1 div.sk-text-repr-fallback {\n",
       "  display: none;\n",
       "}\n",
       "\n",
       "div.sk-parallel-item,\n",
       "div.sk-serial,\n",
       "div.sk-item {\n",
       "  /* draw centered vertical line to link estimators */\n",
       "  background-image: linear-gradient(var(--sklearn-color-text-on-default-background), var(--sklearn-color-text-on-default-background));\n",
       "  background-size: 2px 100%;\n",
       "  background-repeat: no-repeat;\n",
       "  background-position: center center;\n",
       "}\n",
       "\n",
       "/* Parallel-specific style estimator block */\n",
       "\n",
       "#sk-container-id-1 div.sk-parallel-item::after {\n",
       "  content: \"\";\n",
       "  width: 100%;\n",
       "  border-bottom: 2px solid var(--sklearn-color-text-on-default-background);\n",
       "  flex-grow: 1;\n",
       "}\n",
       "\n",
       "#sk-container-id-1 div.sk-parallel {\n",
       "  display: flex;\n",
       "  align-items: stretch;\n",
       "  justify-content: center;\n",
       "  background-color: var(--sklearn-color-background);\n",
       "  position: relative;\n",
       "}\n",
       "\n",
       "#sk-container-id-1 div.sk-parallel-item {\n",
       "  display: flex;\n",
       "  flex-direction: column;\n",
       "}\n",
       "\n",
       "#sk-container-id-1 div.sk-parallel-item:first-child::after {\n",
       "  align-self: flex-end;\n",
       "  width: 50%;\n",
       "}\n",
       "\n",
       "#sk-container-id-1 div.sk-parallel-item:last-child::after {\n",
       "  align-self: flex-start;\n",
       "  width: 50%;\n",
       "}\n",
       "\n",
       "#sk-container-id-1 div.sk-parallel-item:only-child::after {\n",
       "  width: 0;\n",
       "}\n",
       "\n",
       "/* Serial-specific style estimator block */\n",
       "\n",
       "#sk-container-id-1 div.sk-serial {\n",
       "  display: flex;\n",
       "  flex-direction: column;\n",
       "  align-items: center;\n",
       "  background-color: var(--sklearn-color-background);\n",
       "  padding-right: 1em;\n",
       "  padding-left: 1em;\n",
       "}\n",
       "\n",
       "\n",
       "/* Toggleable style: style used for estimator/Pipeline/ColumnTransformer box that is\n",
       "clickable and can be expanded/collapsed.\n",
       "- Pipeline and ColumnTransformer use this feature and define the default style\n",
       "- Estimators will overwrite some part of the style using the `sk-estimator` class\n",
       "*/\n",
       "\n",
       "/* Pipeline and ColumnTransformer style (default) */\n",
       "\n",
       "#sk-container-id-1 div.sk-toggleable {\n",
       "  /* Default theme specific background. It is overwritten whether we have a\n",
       "  specific estimator or a Pipeline/ColumnTransformer */\n",
       "  background-color: var(--sklearn-color-background);\n",
       "}\n",
       "\n",
       "/* Toggleable label */\n",
       "#sk-container-id-1 label.sk-toggleable__label {\n",
       "  cursor: pointer;\n",
       "  display: block;\n",
       "  width: 100%;\n",
       "  margin-bottom: 0;\n",
       "  padding: 0.5em;\n",
       "  box-sizing: border-box;\n",
       "  text-align: center;\n",
       "}\n",
       "\n",
       "#sk-container-id-1 label.sk-toggleable__label-arrow:before {\n",
       "  /* Arrow on the left of the label */\n",
       "  content: \"▸\";\n",
       "  float: left;\n",
       "  margin-right: 0.25em;\n",
       "  color: var(--sklearn-color-icon);\n",
       "}\n",
       "\n",
       "#sk-container-id-1 label.sk-toggleable__label-arrow:hover:before {\n",
       "  color: var(--sklearn-color-text);\n",
       "}\n",
       "\n",
       "/* Toggleable content - dropdown */\n",
       "\n",
       "#sk-container-id-1 div.sk-toggleable__content {\n",
       "  max-height: 0;\n",
       "  max-width: 0;\n",
       "  overflow: hidden;\n",
       "  text-align: left;\n",
       "  /* unfitted */\n",
       "  background-color: var(--sklearn-color-unfitted-level-0);\n",
       "}\n",
       "\n",
       "#sk-container-id-1 div.sk-toggleable__content.fitted {\n",
       "  /* fitted */\n",
       "  background-color: var(--sklearn-color-fitted-level-0);\n",
       "}\n",
       "\n",
       "#sk-container-id-1 div.sk-toggleable__content pre {\n",
       "  margin: 0.2em;\n",
       "  border-radius: 0.25em;\n",
       "  color: var(--sklearn-color-text);\n",
       "  /* unfitted */\n",
       "  background-color: var(--sklearn-color-unfitted-level-0);\n",
       "}\n",
       "\n",
       "#sk-container-id-1 div.sk-toggleable__content.fitted pre {\n",
       "  /* unfitted */\n",
       "  background-color: var(--sklearn-color-fitted-level-0);\n",
       "}\n",
       "\n",
       "#sk-container-id-1 input.sk-toggleable__control:checked~div.sk-toggleable__content {\n",
       "  /* Expand drop-down */\n",
       "  max-height: 200px;\n",
       "  max-width: 100%;\n",
       "  overflow: auto;\n",
       "}\n",
       "\n",
       "#sk-container-id-1 input.sk-toggleable__control:checked~label.sk-toggleable__label-arrow:before {\n",
       "  content: \"▾\";\n",
       "}\n",
       "\n",
       "/* Pipeline/ColumnTransformer-specific style */\n",
       "\n",
       "#sk-container-id-1 div.sk-label input.sk-toggleable__control:checked~label.sk-toggleable__label {\n",
       "  color: var(--sklearn-color-text);\n",
       "  background-color: var(--sklearn-color-unfitted-level-2);\n",
       "}\n",
       "\n",
       "#sk-container-id-1 div.sk-label.fitted input.sk-toggleable__control:checked~label.sk-toggleable__label {\n",
       "  background-color: var(--sklearn-color-fitted-level-2);\n",
       "}\n",
       "\n",
       "/* Estimator-specific style */\n",
       "\n",
       "/* Colorize estimator box */\n",
       "#sk-container-id-1 div.sk-estimator input.sk-toggleable__control:checked~label.sk-toggleable__label {\n",
       "  /* unfitted */\n",
       "  background-color: var(--sklearn-color-unfitted-level-2);\n",
       "}\n",
       "\n",
       "#sk-container-id-1 div.sk-estimator.fitted input.sk-toggleable__control:checked~label.sk-toggleable__label {\n",
       "  /* fitted */\n",
       "  background-color: var(--sklearn-color-fitted-level-2);\n",
       "}\n",
       "\n",
       "#sk-container-id-1 div.sk-label label.sk-toggleable__label,\n",
       "#sk-container-id-1 div.sk-label label {\n",
       "  /* The background is the default theme color */\n",
       "  color: var(--sklearn-color-text-on-default-background);\n",
       "}\n",
       "\n",
       "/* On hover, darken the color of the background */\n",
       "#sk-container-id-1 div.sk-label:hover label.sk-toggleable__label {\n",
       "  color: var(--sklearn-color-text);\n",
       "  background-color: var(--sklearn-color-unfitted-level-2);\n",
       "}\n",
       "\n",
       "/* Label box, darken color on hover, fitted */\n",
       "#sk-container-id-1 div.sk-label.fitted:hover label.sk-toggleable__label.fitted {\n",
       "  color: var(--sklearn-color-text);\n",
       "  background-color: var(--sklearn-color-fitted-level-2);\n",
       "}\n",
       "\n",
       "/* Estimator label */\n",
       "\n",
       "#sk-container-id-1 div.sk-label label {\n",
       "  font-family: monospace;\n",
       "  font-weight: bold;\n",
       "  display: inline-block;\n",
       "  line-height: 1.2em;\n",
       "}\n",
       "\n",
       "#sk-container-id-1 div.sk-label-container {\n",
       "  text-align: center;\n",
       "}\n",
       "\n",
       "/* Estimator-specific */\n",
       "#sk-container-id-1 div.sk-estimator {\n",
       "  font-family: monospace;\n",
       "  border: 1px dotted var(--sklearn-color-border-box);\n",
       "  border-radius: 0.25em;\n",
       "  box-sizing: border-box;\n",
       "  margin-bottom: 0.5em;\n",
       "  /* unfitted */\n",
       "  background-color: var(--sklearn-color-unfitted-level-0);\n",
       "}\n",
       "\n",
       "#sk-container-id-1 div.sk-estimator.fitted {\n",
       "  /* fitted */\n",
       "  background-color: var(--sklearn-color-fitted-level-0);\n",
       "}\n",
       "\n",
       "/* on hover */\n",
       "#sk-container-id-1 div.sk-estimator:hover {\n",
       "  /* unfitted */\n",
       "  background-color: var(--sklearn-color-unfitted-level-2);\n",
       "}\n",
       "\n",
       "#sk-container-id-1 div.sk-estimator.fitted:hover {\n",
       "  /* fitted */\n",
       "  background-color: var(--sklearn-color-fitted-level-2);\n",
       "}\n",
       "\n",
       "/* Specification for estimator info (e.g. \"i\" and \"?\") */\n",
       "\n",
       "/* Common style for \"i\" and \"?\" */\n",
       "\n",
       ".sk-estimator-doc-link,\n",
       "a:link.sk-estimator-doc-link,\n",
       "a:visited.sk-estimator-doc-link {\n",
       "  float: right;\n",
       "  font-size: smaller;\n",
       "  line-height: 1em;\n",
       "  font-family: monospace;\n",
       "  background-color: var(--sklearn-color-background);\n",
       "  border-radius: 1em;\n",
       "  height: 1em;\n",
       "  width: 1em;\n",
       "  text-decoration: none !important;\n",
       "  margin-left: 1ex;\n",
       "  /* unfitted */\n",
       "  border: var(--sklearn-color-unfitted-level-1) 1pt solid;\n",
       "  color: var(--sklearn-color-unfitted-level-1);\n",
       "}\n",
       "\n",
       ".sk-estimator-doc-link.fitted,\n",
       "a:link.sk-estimator-doc-link.fitted,\n",
       "a:visited.sk-estimator-doc-link.fitted {\n",
       "  /* fitted */\n",
       "  border: var(--sklearn-color-fitted-level-1) 1pt solid;\n",
       "  color: var(--sklearn-color-fitted-level-1);\n",
       "}\n",
       "\n",
       "/* On hover */\n",
       "div.sk-estimator:hover .sk-estimator-doc-link:hover,\n",
       ".sk-estimator-doc-link:hover,\n",
       "div.sk-label-container:hover .sk-estimator-doc-link:hover,\n",
       ".sk-estimator-doc-link:hover {\n",
       "  /* unfitted */\n",
       "  background-color: var(--sklearn-color-unfitted-level-3);\n",
       "  color: var(--sklearn-color-background);\n",
       "  text-decoration: none;\n",
       "}\n",
       "\n",
       "div.sk-estimator.fitted:hover .sk-estimator-doc-link.fitted:hover,\n",
       ".sk-estimator-doc-link.fitted:hover,\n",
       "div.sk-label-container:hover .sk-estimator-doc-link.fitted:hover,\n",
       ".sk-estimator-doc-link.fitted:hover {\n",
       "  /* fitted */\n",
       "  background-color: var(--sklearn-color-fitted-level-3);\n",
       "  color: var(--sklearn-color-background);\n",
       "  text-decoration: none;\n",
       "}\n",
       "\n",
       "/* Span, style for the box shown on hovering the info icon */\n",
       ".sk-estimator-doc-link span {\n",
       "  display: none;\n",
       "  z-index: 9999;\n",
       "  position: relative;\n",
       "  font-weight: normal;\n",
       "  right: .2ex;\n",
       "  padding: .5ex;\n",
       "  margin: .5ex;\n",
       "  width: min-content;\n",
       "  min-width: 20ex;\n",
       "  max-width: 50ex;\n",
       "  color: var(--sklearn-color-text);\n",
       "  box-shadow: 2pt 2pt 4pt #999;\n",
       "  /* unfitted */\n",
       "  background: var(--sklearn-color-unfitted-level-0);\n",
       "  border: .5pt solid var(--sklearn-color-unfitted-level-3);\n",
       "}\n",
       "\n",
       ".sk-estimator-doc-link.fitted span {\n",
       "  /* fitted */\n",
       "  background: var(--sklearn-color-fitted-level-0);\n",
       "  border: var(--sklearn-color-fitted-level-3);\n",
       "}\n",
       "\n",
       ".sk-estimator-doc-link:hover span {\n",
       "  display: block;\n",
       "}\n",
       "\n",
       "/* \"?\"-specific style due to the `<a>` HTML tag */\n",
       "\n",
       "#sk-container-id-1 a.estimator_doc_link {\n",
       "  float: right;\n",
       "  font-size: 1rem;\n",
       "  line-height: 1em;\n",
       "  font-family: monospace;\n",
       "  background-color: var(--sklearn-color-background);\n",
       "  border-radius: 1rem;\n",
       "  height: 1rem;\n",
       "  width: 1rem;\n",
       "  text-decoration: none;\n",
       "  /* unfitted */\n",
       "  color: var(--sklearn-color-unfitted-level-1);\n",
       "  border: var(--sklearn-color-unfitted-level-1) 1pt solid;\n",
       "}\n",
       "\n",
       "#sk-container-id-1 a.estimator_doc_link.fitted {\n",
       "  /* fitted */\n",
       "  border: var(--sklearn-color-fitted-level-1) 1pt solid;\n",
       "  color: var(--sklearn-color-fitted-level-1);\n",
       "}\n",
       "\n",
       "/* On hover */\n",
       "#sk-container-id-1 a.estimator_doc_link:hover {\n",
       "  /* unfitted */\n",
       "  background-color: var(--sklearn-color-unfitted-level-3);\n",
       "  color: var(--sklearn-color-background);\n",
       "  text-decoration: none;\n",
       "}\n",
       "\n",
       "#sk-container-id-1 a.estimator_doc_link.fitted:hover {\n",
       "  /* fitted */\n",
       "  background-color: var(--sklearn-color-fitted-level-3);\n",
       "}\n",
       "</style><div id=\"sk-container-id-1\" class=\"sk-top-container\"><div class=\"sk-text-repr-fallback\"><pre>LGBMClassifier(bagging_fraction=0.7999999999999999, bagging_freq=8,\n",
       "               class_weight={0: 0.08, 1: 0.91},\n",
       "               feature_fraction=0.8999999999999999, learning_rate=0.2,\n",
       "               metric=&#x27;binary_logloss&#x27;, num_leaves=20, objective=&#x27;binary&#x27;,\n",
       "               verbose=0, verbosity=-1)</pre><b>In a Jupyter environment, please rerun this cell to show the HTML representation or trust the notebook. <br />On GitHub, the HTML representation is unable to render, please try loading this page with nbviewer.org.</b></div><div class=\"sk-container\" hidden><div class=\"sk-item\"><div class=\"sk-estimator fitted sk-toggleable\"><input class=\"sk-toggleable__control sk-hidden--visually\" id=\"sk-estimator-id-1\" type=\"checkbox\" checked><label for=\"sk-estimator-id-1\" class=\"sk-toggleable__label fitted sk-toggleable__label-arrow fitted\">&nbsp;LGBMClassifier<span class=\"sk-estimator-doc-link fitted\">i<span>Fitted</span></span></label><div class=\"sk-toggleable__content fitted\"><pre>LGBMClassifier(bagging_fraction=0.7999999999999999, bagging_freq=8,\n",
       "               class_weight={0: 0.08, 1: 0.91},\n",
       "               feature_fraction=0.8999999999999999, learning_rate=0.2,\n",
       "               metric=&#x27;binary_logloss&#x27;, num_leaves=20, objective=&#x27;binary&#x27;,\n",
       "               verbose=0, verbosity=-1)</pre></div> </div></div></div></div>"
      ],
      "text/plain": [
       "LGBMClassifier(bagging_fraction=0.7999999999999999, bagging_freq=8,\n",
       "               class_weight={0: 0.08, 1: 0.91},\n",
       "               feature_fraction=0.8999999999999999, learning_rate=0.2,\n",
       "               metric='binary_logloss', num_leaves=20, objective='binary',\n",
       "               verbose=0, verbosity=-1)"
      ]
     },
     "execution_count": 17,
     "metadata": {},
     "output_type": "execute_result"
    }
   ],
   "source": [
    "model"
   ]
  },
  {
   "cell_type": "code",
   "execution_count": 21,
   "metadata": {},
   "outputs": [],
   "source": [
    "# # 403414\n",
    "# df_sample = df.sample(400).copy()\n",
    "# df_exemple = df.loc[df['SK_ID_CURR']==403414]\n",
    "# df_export = pd.concat([df_sample,df_exemple])\n",
    "# # df_export = df_export.drop(columns='index')\n",
    "# df_export.to_pickle(\"test_samp.pkl\")"
   ]
  },
  {
   "cell_type": "code",
   "execution_count": 7,
   "metadata": {},
   "outputs": [],
   "source": [
    "# pd.read_pickle('https://github.com/ArhurK/P7_scoring_livrable/blob/main/test_samp.pkl')"
   ]
  },
  {
   "cell_type": "code",
   "execution_count": 10,
   "metadata": {},
   "outputs": [
    {
     "data": {
      "text/html": [
       "<div>\n",
       "<style scoped>\n",
       "    .dataframe tbody tr th:only-of-type {\n",
       "        vertical-align: middle;\n",
       "    }\n",
       "\n",
       "    .dataframe tbody tr th {\n",
       "        vertical-align: top;\n",
       "    }\n",
       "\n",
       "    .dataframe thead th {\n",
       "        text-align: right;\n",
       "    }\n",
       "</style>\n",
       "<table border=\"1\" class=\"dataframe\">\n",
       "  <thead>\n",
       "    <tr style=\"text-align: right;\">\n",
       "      <th></th>\n",
       "      <th>index</th>\n",
       "      <th>SK_ID_CURR</th>\n",
       "      <th>TARGET</th>\n",
       "      <th>CODE_GENDER</th>\n",
       "      <th>FLAG_OWN_CAR</th>\n",
       "      <th>FLAG_OWN_REALTY</th>\n",
       "      <th>CNT_CHILDREN</th>\n",
       "      <th>AMT_INCOME_TOTAL</th>\n",
       "      <th>AMT_CREDIT</th>\n",
       "      <th>AMT_ANNUITY</th>\n",
       "      <th>...</th>\n",
       "      <th>CC_NAME_CONTRACT_STATUS_Signed_MAX</th>\n",
       "      <th>CC_NAME_CONTRACT_STATUS_Signed_MEAN</th>\n",
       "      <th>CC_NAME_CONTRACT_STATUS_Signed_SUM</th>\n",
       "      <th>CC_NAME_CONTRACT_STATUS_Signed_VAR</th>\n",
       "      <th>CC_NAME_CONTRACT_STATUS_nan_MIN</th>\n",
       "      <th>CC_NAME_CONTRACT_STATUS_nan_MAX</th>\n",
       "      <th>CC_NAME_CONTRACT_STATUS_nan_MEAN</th>\n",
       "      <th>CC_NAME_CONTRACT_STATUS_nan_SUM</th>\n",
       "      <th>CC_NAME_CONTRACT_STATUS_nan_VAR</th>\n",
       "      <th>CC_COUNT</th>\n",
       "    </tr>\n",
       "  </thead>\n",
       "  <tbody>\n",
       "    <tr>\n",
       "      <th>323671</th>\n",
       "      <td>16160</td>\n",
       "      <td>216597</td>\n",
       "      <td>NaN</td>\n",
       "      <td>1</td>\n",
       "      <td>0</td>\n",
       "      <td>0</td>\n",
       "      <td>0</td>\n",
       "      <td>405000.0</td>\n",
       "      <td>1107900.0</td>\n",
       "      <td>35739.0</td>\n",
       "      <td>...</td>\n",
       "      <td>NaN</td>\n",
       "      <td>NaN</td>\n",
       "      <td>NaN</td>\n",
       "      <td>NaN</td>\n",
       "      <td>NaN</td>\n",
       "      <td>NaN</td>\n",
       "      <td>NaN</td>\n",
       "      <td>NaN</td>\n",
       "      <td>NaN</td>\n",
       "      <td>NaN</td>\n",
       "    </tr>\n",
       "    <tr>\n",
       "      <th>328972</th>\n",
       "      <td>21461</td>\n",
       "      <td>255729</td>\n",
       "      <td>NaN</td>\n",
       "      <td>0</td>\n",
       "      <td>0</td>\n",
       "      <td>0</td>\n",
       "      <td>0</td>\n",
       "      <td>80100.0</td>\n",
       "      <td>278460.0</td>\n",
       "      <td>20947.5</td>\n",
       "      <td>...</td>\n",
       "      <td>NaN</td>\n",
       "      <td>NaN</td>\n",
       "      <td>NaN</td>\n",
       "      <td>NaN</td>\n",
       "      <td>NaN</td>\n",
       "      <td>NaN</td>\n",
       "      <td>NaN</td>\n",
       "      <td>NaN</td>\n",
       "      <td>NaN</td>\n",
       "      <td>NaN</td>\n",
       "    </tr>\n",
       "    <tr>\n",
       "      <th>340514</th>\n",
       "      <td>33003</td>\n",
       "      <td>340503</td>\n",
       "      <td>NaN</td>\n",
       "      <td>1</td>\n",
       "      <td>0</td>\n",
       "      <td>0</td>\n",
       "      <td>0</td>\n",
       "      <td>90000.0</td>\n",
       "      <td>219069.0</td>\n",
       "      <td>12015.0</td>\n",
       "      <td>...</td>\n",
       "      <td>NaN</td>\n",
       "      <td>NaN</td>\n",
       "      <td>NaN</td>\n",
       "      <td>NaN</td>\n",
       "      <td>NaN</td>\n",
       "      <td>NaN</td>\n",
       "      <td>NaN</td>\n",
       "      <td>NaN</td>\n",
       "      <td>NaN</td>\n",
       "      <td>NaN</td>\n",
       "    </tr>\n",
       "    <tr>\n",
       "      <th>323812</th>\n",
       "      <td>16301</td>\n",
       "      <td>217562</td>\n",
       "      <td>NaN</td>\n",
       "      <td>1</td>\n",
       "      <td>0</td>\n",
       "      <td>1</td>\n",
       "      <td>0</td>\n",
       "      <td>144000.0</td>\n",
       "      <td>166500.0</td>\n",
       "      <td>13153.5</td>\n",
       "      <td>...</td>\n",
       "      <td>NaN</td>\n",
       "      <td>NaN</td>\n",
       "      <td>NaN</td>\n",
       "      <td>NaN</td>\n",
       "      <td>NaN</td>\n",
       "      <td>NaN</td>\n",
       "      <td>NaN</td>\n",
       "      <td>NaN</td>\n",
       "      <td>NaN</td>\n",
       "      <td>NaN</td>\n",
       "    </tr>\n",
       "    <tr>\n",
       "      <th>355396</th>\n",
       "      <td>47885</td>\n",
       "      <td>449897</td>\n",
       "      <td>NaN</td>\n",
       "      <td>1</td>\n",
       "      <td>0</td>\n",
       "      <td>1</td>\n",
       "      <td>0</td>\n",
       "      <td>121500.0</td>\n",
       "      <td>270108.0</td>\n",
       "      <td>12991.5</td>\n",
       "      <td>...</td>\n",
       "      <td>NaN</td>\n",
       "      <td>NaN</td>\n",
       "      <td>NaN</td>\n",
       "      <td>NaN</td>\n",
       "      <td>NaN</td>\n",
       "      <td>NaN</td>\n",
       "      <td>NaN</td>\n",
       "      <td>NaN</td>\n",
       "      <td>NaN</td>\n",
       "      <td>NaN</td>\n",
       "    </tr>\n",
       "    <tr>\n",
       "      <th>...</th>\n",
       "      <td>...</td>\n",
       "      <td>...</td>\n",
       "      <td>...</td>\n",
       "      <td>...</td>\n",
       "      <td>...</td>\n",
       "      <td>...</td>\n",
       "      <td>...</td>\n",
       "      <td>...</td>\n",
       "      <td>...</td>\n",
       "      <td>...</td>\n",
       "      <td>...</td>\n",
       "      <td>...</td>\n",
       "      <td>...</td>\n",
       "      <td>...</td>\n",
       "      <td>...</td>\n",
       "      <td>...</td>\n",
       "      <td>...</td>\n",
       "      <td>...</td>\n",
       "      <td>...</td>\n",
       "      <td>...</td>\n",
       "      <td>...</td>\n",
       "    </tr>\n",
       "    <tr>\n",
       "      <th>322359</th>\n",
       "      <td>14848</td>\n",
       "      <td>206987</td>\n",
       "      <td>NaN</td>\n",
       "      <td>1</td>\n",
       "      <td>0</td>\n",
       "      <td>0</td>\n",
       "      <td>0</td>\n",
       "      <td>225000.0</td>\n",
       "      <td>225000.0</td>\n",
       "      <td>11250.0</td>\n",
       "      <td>...</td>\n",
       "      <td>0.0</td>\n",
       "      <td>0.0</td>\n",
       "      <td>0.0</td>\n",
       "      <td>0.0</td>\n",
       "      <td>0.0</td>\n",
       "      <td>0.0</td>\n",
       "      <td>0.0</td>\n",
       "      <td>0.0</td>\n",
       "      <td>0.0</td>\n",
       "      <td>26.0</td>\n",
       "    </tr>\n",
       "    <tr>\n",
       "      <th>313709</th>\n",
       "      <td>6198</td>\n",
       "      <td>145407</td>\n",
       "      <td>NaN</td>\n",
       "      <td>0</td>\n",
       "      <td>1</td>\n",
       "      <td>1</td>\n",
       "      <td>0</td>\n",
       "      <td>382500.0</td>\n",
       "      <td>728460.0</td>\n",
       "      <td>56371.5</td>\n",
       "      <td>...</td>\n",
       "      <td>NaN</td>\n",
       "      <td>NaN</td>\n",
       "      <td>NaN</td>\n",
       "      <td>NaN</td>\n",
       "      <td>NaN</td>\n",
       "      <td>NaN</td>\n",
       "      <td>NaN</td>\n",
       "      <td>NaN</td>\n",
       "      <td>NaN</td>\n",
       "      <td>NaN</td>\n",
       "    </tr>\n",
       "    <tr>\n",
       "      <th>350787</th>\n",
       "      <td>43276</td>\n",
       "      <td>414985</td>\n",
       "      <td>NaN</td>\n",
       "      <td>0</td>\n",
       "      <td>1</td>\n",
       "      <td>0</td>\n",
       "      <td>0</td>\n",
       "      <td>157500.0</td>\n",
       "      <td>543037.5</td>\n",
       "      <td>36418.5</td>\n",
       "      <td>...</td>\n",
       "      <td>0.0</td>\n",
       "      <td>0.0</td>\n",
       "      <td>0.0</td>\n",
       "      <td>0.0</td>\n",
       "      <td>0.0</td>\n",
       "      <td>0.0</td>\n",
       "      <td>0.0</td>\n",
       "      <td>0.0</td>\n",
       "      <td>0.0</td>\n",
       "      <td>13.0</td>\n",
       "    </tr>\n",
       "    <tr>\n",
       "      <th>348001</th>\n",
       "      <td>40490</td>\n",
       "      <td>398082</td>\n",
       "      <td>NaN</td>\n",
       "      <td>1</td>\n",
       "      <td>0</td>\n",
       "      <td>0</td>\n",
       "      <td>0</td>\n",
       "      <td>175500.0</td>\n",
       "      <td>838453.5</td>\n",
       "      <td>35523.0</td>\n",
       "      <td>...</td>\n",
       "      <td>NaN</td>\n",
       "      <td>NaN</td>\n",
       "      <td>NaN</td>\n",
       "      <td>NaN</td>\n",
       "      <td>NaN</td>\n",
       "      <td>NaN</td>\n",
       "      <td>NaN</td>\n",
       "      <td>NaN</td>\n",
       "      <td>NaN</td>\n",
       "      <td>NaN</td>\n",
       "    </tr>\n",
       "    <tr>\n",
       "      <th>348806</th>\n",
       "      <td>41295</td>\n",
       "      <td>403414</td>\n",
       "      <td>NaN</td>\n",
       "      <td>1</td>\n",
       "      <td>0</td>\n",
       "      <td>0</td>\n",
       "      <td>0</td>\n",
       "      <td>225000.0</td>\n",
       "      <td>213322.5</td>\n",
       "      <td>13761.0</td>\n",
       "      <td>...</td>\n",
       "      <td>NaN</td>\n",
       "      <td>NaN</td>\n",
       "      <td>NaN</td>\n",
       "      <td>NaN</td>\n",
       "      <td>NaN</td>\n",
       "      <td>NaN</td>\n",
       "      <td>NaN</td>\n",
       "      <td>NaN</td>\n",
       "      <td>NaN</td>\n",
       "      <td>NaN</td>\n",
       "    </tr>\n",
       "  </tbody>\n",
       "</table>\n",
       "<p>401 rows × 798 columns</p>\n",
       "</div>"
      ],
      "text/plain": [
       "        index  SK_ID_CURR  TARGET  CODE_GENDER  FLAG_OWN_CAR  FLAG_OWN_REALTY  \\\n",
       "323671  16160      216597     NaN            1             0                0   \n",
       "328972  21461      255729     NaN            0             0                0   \n",
       "340514  33003      340503     NaN            1             0                0   \n",
       "323812  16301      217562     NaN            1             0                1   \n",
       "355396  47885      449897     NaN            1             0                1   \n",
       "...       ...         ...     ...          ...           ...              ...   \n",
       "322359  14848      206987     NaN            1             0                0   \n",
       "313709   6198      145407     NaN            0             1                1   \n",
       "350787  43276      414985     NaN            0             1                0   \n",
       "348001  40490      398082     NaN            1             0                0   \n",
       "348806  41295      403414     NaN            1             0                0   \n",
       "\n",
       "        CNT_CHILDREN  AMT_INCOME_TOTAL  AMT_CREDIT  AMT_ANNUITY  ...  \\\n",
       "323671             0          405000.0   1107900.0      35739.0  ...   \n",
       "328972             0           80100.0    278460.0      20947.5  ...   \n",
       "340514             0           90000.0    219069.0      12015.0  ...   \n",
       "323812             0          144000.0    166500.0      13153.5  ...   \n",
       "355396             0          121500.0    270108.0      12991.5  ...   \n",
       "...              ...               ...         ...          ...  ...   \n",
       "322359             0          225000.0    225000.0      11250.0  ...   \n",
       "313709             0          382500.0    728460.0      56371.5  ...   \n",
       "350787             0          157500.0    543037.5      36418.5  ...   \n",
       "348001             0          175500.0    838453.5      35523.0  ...   \n",
       "348806             0          225000.0    213322.5      13761.0  ...   \n",
       "\n",
       "        CC_NAME_CONTRACT_STATUS_Signed_MAX  \\\n",
       "323671                                 NaN   \n",
       "328972                                 NaN   \n",
       "340514                                 NaN   \n",
       "323812                                 NaN   \n",
       "355396                                 NaN   \n",
       "...                                    ...   \n",
       "322359                                 0.0   \n",
       "313709                                 NaN   \n",
       "350787                                 0.0   \n",
       "348001                                 NaN   \n",
       "348806                                 NaN   \n",
       "\n",
       "        CC_NAME_CONTRACT_STATUS_Signed_MEAN  \\\n",
       "323671                                  NaN   \n",
       "328972                                  NaN   \n",
       "340514                                  NaN   \n",
       "323812                                  NaN   \n",
       "355396                                  NaN   \n",
       "...                                     ...   \n",
       "322359                                  0.0   \n",
       "313709                                  NaN   \n",
       "350787                                  0.0   \n",
       "348001                                  NaN   \n",
       "348806                                  NaN   \n",
       "\n",
       "        CC_NAME_CONTRACT_STATUS_Signed_SUM  \\\n",
       "323671                                 NaN   \n",
       "328972                                 NaN   \n",
       "340514                                 NaN   \n",
       "323812                                 NaN   \n",
       "355396                                 NaN   \n",
       "...                                    ...   \n",
       "322359                                 0.0   \n",
       "313709                                 NaN   \n",
       "350787                                 0.0   \n",
       "348001                                 NaN   \n",
       "348806                                 NaN   \n",
       "\n",
       "        CC_NAME_CONTRACT_STATUS_Signed_VAR  CC_NAME_CONTRACT_STATUS_nan_MIN  \\\n",
       "323671                                 NaN                              NaN   \n",
       "328972                                 NaN                              NaN   \n",
       "340514                                 NaN                              NaN   \n",
       "323812                                 NaN                              NaN   \n",
       "355396                                 NaN                              NaN   \n",
       "...                                    ...                              ...   \n",
       "322359                                 0.0                              0.0   \n",
       "313709                                 NaN                              NaN   \n",
       "350787                                 0.0                              0.0   \n",
       "348001                                 NaN                              NaN   \n",
       "348806                                 NaN                              NaN   \n",
       "\n",
       "        CC_NAME_CONTRACT_STATUS_nan_MAX  CC_NAME_CONTRACT_STATUS_nan_MEAN  \\\n",
       "323671                              NaN                               NaN   \n",
       "328972                              NaN                               NaN   \n",
       "340514                              NaN                               NaN   \n",
       "323812                              NaN                               NaN   \n",
       "355396                              NaN                               NaN   \n",
       "...                                 ...                               ...   \n",
       "322359                              0.0                               0.0   \n",
       "313709                              NaN                               NaN   \n",
       "350787                              0.0                               0.0   \n",
       "348001                              NaN                               NaN   \n",
       "348806                              NaN                               NaN   \n",
       "\n",
       "        CC_NAME_CONTRACT_STATUS_nan_SUM  CC_NAME_CONTRACT_STATUS_nan_VAR  \\\n",
       "323671                              NaN                              NaN   \n",
       "328972                              NaN                              NaN   \n",
       "340514                              NaN                              NaN   \n",
       "323812                              NaN                              NaN   \n",
       "355396                              NaN                              NaN   \n",
       "...                                 ...                              ...   \n",
       "322359                              0.0                              0.0   \n",
       "313709                              NaN                              NaN   \n",
       "350787                              0.0                              0.0   \n",
       "348001                              NaN                              NaN   \n",
       "348806                              NaN                              NaN   \n",
       "\n",
       "        CC_COUNT  \n",
       "323671       NaN  \n",
       "328972       NaN  \n",
       "340514       NaN  \n",
       "323812       NaN  \n",
       "355396       NaN  \n",
       "...          ...  \n",
       "322359      26.0  \n",
       "313709       NaN  \n",
       "350787      13.0  \n",
       "348001       NaN  \n",
       "348806       NaN  \n",
       "\n",
       "[401 rows x 798 columns]"
      ]
     },
     "execution_count": 10,
     "metadata": {},
     "output_type": "execute_result"
    }
   ],
   "source": [
    "pd.read_pickle('test_samp.pkl')"
   ]
  },
  {
   "cell_type": "code",
   "execution_count": 4,
   "metadata": {},
   "outputs": [
    {
     "name": "stdout",
     "output_type": "stream",
     "text": [
      "<class 'pandas.core.series.Series'>\n",
      "Index: 798 entries, index to CC_COUNT\n",
      "Series name: 307511\n",
      "Non-Null Count  Dtype  \n",
      "--------------  -----  \n",
      "596 non-null    float64\n",
      "dtypes: float64(1)\n",
      "memory usage: 12.5+ KB\n"
     ]
    }
   ],
   "source": [
    "df.iloc[0].info()"
   ]
  },
  {
   "cell_type": "code",
   "execution_count": 13,
   "metadata": {},
   "outputs": [
    {
     "name": "stderr",
     "output_type": "stream",
     "text": [
      "IProgress not found. Please update jupyter and ipywidgets. See https://ipywidgets.readthedocs.io/en/stable/user_install.html\n",
      "Trying to unpickle estimator LabelEncoder from version 1.2.2 when using version 1.4.0. This might lead to breaking code or invalid results. Use at your own risk. For more info please refer to:\n",
      "https://scikit-learn.org/stable/model_persistence.html#security-maintainability-limitations\n"
     ]
    }
   ],
   "source": [
    "from vs_code_api import predict_proba, shap_vector, app\n",
    "\n",
    "def test_predict_proba():\n",
    "     id_client = {'index' : 403414}\n",
    "     dict_res = predict_proba(id_client)\n",
    "     res_proba = dict_res['predictions'][0][1]\n",
    "  \n",
    "     assert type(dict_res) == dict\n",
    "     assert res_proba == float\n",
    "     assert (0 < res_proba < 1 )"
   ]
  },
  {
   "cell_type": "code",
   "execution_count": 10,
   "metadata": {},
   "outputs": [
    {
     "name": "stderr",
     "output_type": "stream",
     "text": [
      "LightGBM binary classifier with TreeExplainer shap values output has changed to a list of ndarray\n"
     ]
    },
    {
     "name": "stdout",
     "output_type": "stream",
     "text": [
      "<class 'str'>\n"
     ]
    },
    {
     "ename": "TypeError",
     "evalue": "string indices must be integers",
     "output_type": "error",
     "traceback": [
      "\u001b[1;31m---------------------------------------------------------------------------\u001b[0m",
      "\u001b[1;31mTypeError\u001b[0m                                 Traceback (most recent call last)",
      "Cell \u001b[1;32mIn[10], line 4\u001b[0m\n\u001b[0;32m      2\u001b[0m res_shap \u001b[38;5;241m=\u001b[39m shap_vector(id_client)\n\u001b[0;32m      3\u001b[0m \u001b[38;5;28mprint\u001b[39m(\u001b[38;5;28mtype\u001b[39m(res_shap))\n\u001b[1;32m----> 4\u001b[0m \u001b[38;5;28mprint\u001b[39m(\u001b[38;5;28mtype\u001b[39m(\u001b[43mres_shap\u001b[49m\u001b[43m[\u001b[49m\u001b[38;5;124;43m'\u001b[39;49m\u001b[38;5;124;43mshap_values\u001b[39;49m\u001b[38;5;124;43m'\u001b[39;49m\u001b[43m]\u001b[49m))\n",
      "\u001b[1;31mTypeError\u001b[0m: string indices must be integers"
     ]
    }
   ],
   "source": [
    "# id_client = {'index' : 403414}\n",
    "# res_shap = shap_vector(id_client)\n",
    "# print(type(res_shap))\n",
    "# print(type(res_shap['shap_values']))"
   ]
  },
  {
   "cell_type": "code",
   "execution_count": 14,
   "metadata": {},
   "outputs": [
    {
     "ename": "NameError",
     "evalue": "name 'res_shap' is not defined",
     "output_type": "error",
     "traceback": [
      "\u001b[1;31m---------------------------------------------------------------------------\u001b[0m",
      "\u001b[1;31mNameError\u001b[0m                                 Traceback (most recent call last)",
      "Cell \u001b[1;32mIn[14], line 2\u001b[0m\n\u001b[0;32m      1\u001b[0m \u001b[38;5;28;01mimport\u001b[39;00m \u001b[38;5;21;01mjson\u001b[39;00m\n\u001b[1;32m----> 2\u001b[0m res_dict \u001b[38;5;241m=\u001b[39m json\u001b[38;5;241m.\u001b[39mloads(\u001b[43mres_shap\u001b[49m)\n\u001b[0;32m      3\u001b[0m \u001b[38;5;28mtype\u001b[39m(res_dict)\n",
      "\u001b[1;31mNameError\u001b[0m: name 'res_shap' is not defined"
     ]
    }
   ],
   "source": [
    "import json\n",
    "res_dict = json.loads(res_shap)\n",
    "type(res_dict)"
   ]
  },
  {
   "cell_type": "code",
   "execution_count": 15,
   "metadata": {},
   "outputs": [
    {
     "ename": "NameError",
     "evalue": "name 'res_dict' is not defined",
     "output_type": "error",
     "traceback": [
      "\u001b[1;31m---------------------------------------------------------------------------\u001b[0m",
      "\u001b[1;31mNameError\u001b[0m                                 Traceback (most recent call last)",
      "Cell \u001b[1;32mIn[15], line 1\u001b[0m\n\u001b[1;32m----> 1\u001b[0m \u001b[38;5;28mtype\u001b[39m(\u001b[43mres_dict\u001b[49m[\u001b[38;5;124m'\u001b[39m\u001b[38;5;124mshap_values\u001b[39m\u001b[38;5;124m'\u001b[39m]),\u001b[38;5;28mtype\u001b[39m(res_dict[\u001b[38;5;124m'\u001b[39m\u001b[38;5;124mX\u001b[39m\u001b[38;5;124m'\u001b[39m])\n",
      "\u001b[1;31mNameError\u001b[0m: name 'res_dict' is not defined"
     ]
    }
   ],
   "source": [
    "type(res_dict['shap_values']),type(res_dict['X'])"
   ]
  },
  {
   "cell_type": "code",
   "execution_count": 16,
   "metadata": {},
   "outputs": [
    {
     "name": "stdout",
     "output_type": "stream",
     "text": [
      "{'index': 403414}\n",
      "        index  SK_ID_CURR  TARGET  CODE_GENDER  FLAG_OWN_CAR  FLAG_OWN_REALTY  \\\n",
      "348806  41295      403414     NaN            1             0                0   \n",
      "\n",
      "        CNT_CHILDREN  AMT_INCOME_TOTAL  AMT_CREDIT  AMT_ANNUITY  ...  \\\n",
      "348806             0          225000.0    213322.5      13761.0  ...   \n",
      "\n",
      "        CC_NAME_CONTRACT_STATUS_Signed_MAX  \\\n",
      "348806                                 NaN   \n",
      "\n",
      "        CC_NAME_CONTRACT_STATUS_Signed_MEAN  \\\n",
      "348806                                  NaN   \n",
      "\n",
      "        CC_NAME_CONTRACT_STATUS_Signed_SUM  \\\n",
      "348806                                 NaN   \n",
      "\n",
      "        CC_NAME_CONTRACT_STATUS_Signed_VAR  CC_NAME_CONTRACT_STATUS_nan_MIN  \\\n",
      "348806                                 NaN                              NaN   \n",
      "\n",
      "        CC_NAME_CONTRACT_STATUS_nan_MAX  CC_NAME_CONTRACT_STATUS_nan_MEAN  \\\n",
      "348806                              NaN                               NaN   \n",
      "\n",
      "        CC_NAME_CONTRACT_STATUS_nan_SUM  CC_NAME_CONTRACT_STATUS_nan_VAR  \\\n",
      "348806                              NaN                              NaN   \n",
      "\n",
      "        CC_COUNT  \n",
      "348806       NaN  \n",
      "\n",
      "[1 rows x 798 columns]\n",
      "[[0.65634154 0.34365846]]\n"
     ]
    },
    {
     "data": {
      "text/plain": [
       "dict"
      ]
     },
     "execution_count": 16,
     "metadata": {},
     "output_type": "execute_result"
    }
   ],
   "source": [
    "id_client = {'index' : 403414}\n",
    "# d = {'index' : 403414}\n",
    "# d['index'] == 403414\n",
    "res = predict_proba(id_client)\n",
    "type(res)"
   ]
  },
  {
   "cell_type": "code",
   "execution_count": 32,
   "metadata": {},
   "outputs": [
    {
     "data": {
      "text/plain": [
       "0.34365846024357155"
      ]
     },
     "execution_count": 32,
     "metadata": {},
     "output_type": "execute_result"
    }
   ],
   "source": [
    "res['predictions'][0][1]"
   ]
  },
  {
   "cell_type": "code",
   "execution_count": null,
   "metadata": {},
   "outputs": [],
   "source": [
    "# pd.DataFrame(pd.DataFrame(selected_row[feats]))"
   ]
  },
  {
   "cell_type": "code",
   "execution_count": 33,
   "metadata": {},
   "outputs": [
    {
     "name": "stdout",
     "output_type": "stream",
     "text": [
      "Type of Shapley values: <class 'list'>\n",
      "Dimensions of Shapley values list: [(1, 795), (1, 795)]\n",
      "Types of elements in Shapley values list: [<class 'numpy.ndarray'>, <class 'numpy.ndarray'>]\n"
     ]
    },
    {
     "name": "stderr",
     "output_type": "stream",
     "text": [
      "LightGBM binary classifier with TreeExplainer shap values output has changed to a list of ndarray\n"
     ]
    }
   ],
   "source": [
    "# Sélection des features\n",
    "selected_row = df.loc[df['SK_ID_CURR']==403414]\n",
    "feats = [f for f in df.columns if f not in ['TARGET','SK_ID_CURR','SK_ID_BUREAU','SK_ID_PREV','index']]\n",
    "X = selected_row[feats]\n",
    "\n",
    "# Effectuer la prédiction\n",
    "predictions = model.predict_proba(X)\n",
    "\n",
    "# Calculer les Shapley values\n",
    "explainer = shap.TreeExplainer(model)\n",
    "shap_values = explainer.shap_values(X)\n",
    "\n",
    "\n",
    "print(\"Type of Shapley values:\", type(shap_values))\n",
    "print(\"Dimensions of Shapley values list:\", [arr.shape for arr in shap_values])\n",
    "if not shap_values:\n",
    "    print(\"Shapley values list is empty.\")\n",
    "print(\"Types of elements in Shapley values list:\", [type(arr) for arr in shap_values])\n"
   ]
  },
  {
   "cell_type": "code",
   "execution_count": null,
   "metadata": {},
   "outputs": [
    {
     "name": "stdout",
     "output_type": "stream",
     "text": [
      "Dimensions of Shapley values list: [(795,)]\n"
     ]
    }
   ],
   "source": [
    "print(\"Dimensions of Shapley values list:\", [arr.shape for arr in shap_values[1]])"
   ]
  },
  {
   "cell_type": "code",
   "execution_count": null,
   "metadata": {},
   "outputs": [
    {
     "data": {
      "text/plain": [
       "[[-0.13772704139940112,\n",
       "  0.008457680770055816,\n",
       "  -8.602041364610399e-05,\n",
       "  0.0,\n",
       "  0.00032278225980464175,\n",
       "  -0.03711319243048115,\n",
       "  -0.1680007033673694,\n",
       "  0.06079259074065294,\n",
       "  0.013574485265281145,\n",
       "  -0.09318713582371108,\n",
       "  -0.1332758331900685,\n",
       "  -0.018326595863772388,\n",
       "  -0.1025121749905523,\n",
       "  0.028189884079517533,\n",
       "  0.0,\n",
       "  0.0,\n",
       "  -0.004387074258830336,\n",
       "  0.0,\n",
       "  0.004765479759820903,\n",
       "  0.0,\n",
       "  -4.792344495370585e-05,\n",
       "  -0.0014965251028659,\n",
       "  -0.002121746924280719,\n",
       "  0.011130215291421282,\n",
       "  0.0002882318308464373,\n",
       "  0.0,\n",
       "  0.0,\n",
       "  -0.007714312236165733,\n",
       "  0.0,\n",
       "  0.0,\n",
       "  -0.1498366016799389,\n",
       "  -0.47328468419157477,\n",
       "  0.8775235002898577,\n",
       "  -0.005058168506619129,\n",
       "  -0.0009712925909534074,\n",
       "  0.003794801976817622,\n",
       "  -0.0019026311320304,\n",
       "  -7.733915726114733e-05,\n",
       "  -9.342283279822817e-06,\n",
       "  -2.5716293668332083e-05,\n",
       "  0.00020899222986718087,\n",
       "  0.00022857278770336908,\n",
       "  0.0016999347316364135,\n",
       "  -0.0012257286583986205,\n",
       "  -0.0012287816157981971,\n",
       "  0.0,\n",
       "  0.0009837199004159047,\n",
       "  -0.0022807381275565465,\n",
       "  8.215791664030388e-05,\n",
       "  0.0018056103767260952,\n",
       "  0.0,\n",
       "  -0.001288661727903919,\n",
       "  0.0,\n",
       "  0.0,\n",
       "  0.0,\n",
       "  -4.928357564483286e-05,\n",
       "  0.0021299854693991763,\n",
       "  -0.0007019640684993858,\n",
       "  -0.001232898308425057,\n",
       "  -1.689826433452066e-05,\n",
       "  0.00043234313417011856,\n",
       "  0.0,\n",
       "  0.000105872741403346,\n",
       "  -0.004557417644798624,\n",
       "  0.0,\n",
       "  0.0,\n",
       "  -3.178464043435339e-05,\n",
       "  0.019328952471114713,\n",
       "  -0.006857362069538265,\n",
       "  0.0,\n",
       "  -0.00013455062899549725,\n",
       "  -0.0005306035516796437,\n",
       "  0.0006749848732197765,\n",
       "  0.0,\n",
       "  -0.000848919671859573,\n",
       "  -0.018473588834767254,\n",
       "  -0.0016279649305723216,\n",
       "  -0.008759014141769038,\n",
       "  0.0,\n",
       "  -0.012731137386024528,\n",
       "  0.01657609377129612,\n",
       "  0.0,\n",
       "  0.015265722203025746,\n",
       "  0.0,\n",
       "  0.0,\n",
       "  0.0,\n",
       "  0.0,\n",
       "  0.0,\n",
       "  0.0,\n",
       "  0.0,\n",
       "  0.0,\n",
       "  0.0,\n",
       "  0.0006410616427627176,\n",
       "  0.0,\n",
       "  0.0,\n",
       "  0.00037623932947825913,\n",
       "  0.0,\n",
       "  0.002308654696606704,\n",
       "  0.0,\n",
       "  0.0,\n",
       "  0.0,\n",
       "  0.0,\n",
       "  0.0,\n",
       "  0.0,\n",
       "  0.0003141906491971537,\n",
       "  0.004198205088832696,\n",
       "  0.00012965341751950226,\n",
       "  0.01222406241613468,\n",
       "  0.0,\n",
       "  0.0,\n",
       "  0.0,\n",
       "  0.0,\n",
       "  0.0,\n",
       "  0.0,\n",
       "  0.0,\n",
       "  0.0,\n",
       "  0.0,\n",
       "  0.0,\n",
       "  0.0,\n",
       "  0.0,\n",
       "  0.00781912776439171,\n",
       "  0.0,\n",
       "  0.0,\n",
       "  -0.007506012526641716,\n",
       "  0.0,\n",
       "  0.023293997790634284,\n",
       "  0.0007552796036195662,\n",
       "  0.0,\n",
       "  0.0122781736119514,\n",
       "  0.0,\n",
       "  0.08639152883382117,\n",
       "  0.0,\n",
       "  0.0,\n",
       "  0.0,\n",
       "  0.0,\n",
       "  0.0,\n",
       "  -0.001166936026754964,\n",
       "  0.0,\n",
       "  0.0,\n",
       "  0.0,\n",
       "  0.0,\n",
       "  0.00037617545359572746,\n",
       "  0.0,\n",
       "  0.0,\n",
       "  0.003261250218338811,\n",
       "  -0.001510428138377588,\n",
       "  0.0,\n",
       "  0.0,\n",
       "  0.0,\n",
       "  0.0,\n",
       "  0.0,\n",
       "  0.0,\n",
       "  -0.0003122816036853934,\n",
       "  0.0,\n",
       "  0.0,\n",
       "  0.0,\n",
       "  0.0,\n",
       "  0.0,\n",
       "  0.0,\n",
       "  -7.710457808206999e-05,\n",
       "  0.0,\n",
       "  0.002725728082722674,\n",
       "  0.0,\n",
       "  -9.4587202948865e-05,\n",
       "  0.0,\n",
       "  0.0,\n",
       "  0.0,\n",
       "  0.0,\n",
       "  0.0013637789527016558,\n",
       "  0.0,\n",
       "  0.0,\n",
       "  -0.006050221038529931,\n",
       "  0.0,\n",
       "  -0.002264319235066414,\n",
       "  0.0,\n",
       "  0.0,\n",
       "  0.0,\n",
       "  0.0,\n",
       "  0.0,\n",
       "  0.0,\n",
       "  0.0,\n",
       "  0.0,\n",
       "  0.0,\n",
       "  0.0,\n",
       "  0.0,\n",
       "  0.0,\n",
       "  0.0,\n",
       "  0.0,\n",
       "  0.0,\n",
       "  0.0,\n",
       "  0.0,\n",
       "  0.0,\n",
       "  0.002882251353552659,\n",
       "  0.0,\n",
       "  0.00028510680370678193,\n",
       "  0.0,\n",
       "  0.0,\n",
       "  0.0010901730148818853,\n",
       "  0.0,\n",
       "  0.0,\n",
       "  0.0003161882547409657,\n",
       "  0.0,\n",
       "  -0.00016187528781784084,\n",
       "  0.0,\n",
       "  -1.6593261304621914e-05,\n",
       "  0.003322594104937344,\n",
       "  0.0,\n",
       "  0.0014664806974993324,\n",
       "  -0.0083633029300653,\n",
       "  0.0,\n",
       "  0.0,\n",
       "  0.0,\n",
       "  0.0002774244706061886,\n",
       "  0.0,\n",
       "  0.0,\n",
       "  0.0,\n",
       "  0.0,\n",
       "  0.0,\n",
       "  0.0,\n",
       "  0.0,\n",
       "  -0.0006577192984582312,\n",
       "  0.0,\n",
       "  0.0,\n",
       "  0.0,\n",
       "  0.0,\n",
       "  0.0,\n",
       "  0.0,\n",
       "  0.0,\n",
       "  0.0,\n",
       "  0.0,\n",
       "  0.0,\n",
       "  0.0,\n",
       "  0.0,\n",
       "  0.0,\n",
       "  0.0,\n",
       "  0.0,\n",
       "  -0.044178684424375114,\n",
       "  0.0,\n",
       "  0.0,\n",
       "  0.0,\n",
       "  0.014720454361122574,\n",
       "  -0.015029142262558524,\n",
       "  0.02771677417517886,\n",
       "  -0.030940361210212267,\n",
       "  0.01770405075460312,\n",
       "  -0.0006702256774076907,\n",
       "  -0.011035694774105915,\n",
       "  0.011441841568768216,\n",
       "  0.0002372364267260697,\n",
       "  -0.00020117752494373375,\n",
       "  -0.0006430732132322161,\n",
       "  0.0003422872919209795,\n",
       "  0.00225407660179547,\n",
       "  0.0,\n",
       "  0.0,\n",
       "  0.08473265855407877,\n",
       "  0.0023879080141207243,\n",
       "  -0.01144807291288505,\n",
       "  0.01074466091489532,\n",
       "  -0.001984097748004307,\n",
       "  -0.026950211935989326,\n",
       "  -0.0014757453928171363,\n",
       "  -0.0006377477855151687,\n",
       "  -0.0010219982466320484,\n",
       "  0.0,\n",
       "  0.0,\n",
       "  -0.0005522145701146008,\n",
       "  0.0,\n",
       "  0.0011373117734790673,\n",
       "  0.0,\n",
       "  -0.0021378003060397235,\n",
       "  0.0010906832433682004,\n",
       "  0.006540834352228625,\n",
       "  0.0,\n",
       "  0.014342971125802743,\n",
       "  -1.9867339657784542e-05,\n",
       "  0.0,\n",
       "  0.0,\n",
       "  0.0,\n",
       "  0.0,\n",
       "  0.0,\n",
       "  0.0,\n",
       "  0.0002052096325530515,\n",
       "  0.0024961013539220775,\n",
       "  0.0,\n",
       "  0.0004655772504539417,\n",
       "  0.0,\n",
       "  0.0,\n",
       "  0.0,\n",
       "  0.0,\n",
       "  0.0,\n",
       "  0.0,\n",
       "  -0.004637240958751917,\n",
       "  0.0,\n",
       "  0.004971395474913766,\n",
       "  0.0,\n",
       "  0.0,\n",
       "  0.0,\n",
       "  0.0011624847844187189,\n",
       "  0.047839881415886853,\n",
       "  0.0,\n",
       "  0.0,\n",
       "  0.0,\n",
       "  0.0,\n",
       "  0.0010553841405311105,\n",
       "  0.0,\n",
       "  0.0,\n",
       "  -0.0004910520341460054,\n",
       "  -0.02184102398899459,\n",
       "  0.0029048653191709683,\n",
       "  -0.00011525606174211951,\n",
       "  0.02869937957769906,\n",
       "  -0.027105608893596398,\n",
       "  -0.03864229425503244,\n",
       "  -0.001842330759847509,\n",
       "  0.0,\n",
       "  0.0,\n",
       "  0.11743546371764683,\n",
       "  -0.014803302565905362,\n",
       "  0.009529333186096885,\n",
       "  -0.010158004478541245,\n",
       "  -0.01734244776268604,\n",
       "  -0.013192381984268866,\n",
       "  -0.0048448331417718414,\n",
       "  -0.00043467958265167413,\n",
       "  0.010189112387949308,\n",
       "  0.009039755540947509,\n",
       "  0.0,\n",
       "  0.0027943266742697327,\n",
       "  0.0,\n",
       "  -0.00030462862754918594,\n",
       "  0.0,\n",
       "  -0.0002409198825249163,\n",
       "  0.0003450063958503261,\n",
       "  -0.00037446186736230647,\n",
       "  0.03117314764755224,\n",
       "  -3.522779465424455e-05,\n",
       "  0.018092126065785474,\n",
       "  9.177575367650663e-06,\n",
       "  0.0019615712485185136,\n",
       "  0.0004145645767391678,\n",
       "  0.0022358496027497636,\n",
       "  0.0,\n",
       "  0.0,\n",
       "  0.001282432640613556,\n",
       "  -0.0006077892700732501,\n",
       "  -0.008553220806221059,\n",
       "  0.016657295569894887,\n",
       "  -0.0005691998598650256,\n",
       "  0.020758424356066212,\n",
       "  0.0,\n",
       "  0.0,\n",
       "  -0.0004199648226403145,\n",
       "  0.0,\n",
       "  4.045486561033651e-05,\n",
       "  -0.0002310103076092904,\n",
       "  0.0,\n",
       "  0.00023688580379106042,\n",
       "  0.0,\n",
       "  0.0004980593183666673,\n",
       "  0.0010601044414537194,\n",
       "  -0.008802316884064526,\n",
       "  0.005270484691429926,\n",
       "  0.01600476596066431,\n",
       "  0.00022446483076241541,\n",
       "  -0.002058353964777175,\n",
       "  -0.0006236127936847819,\n",
       "  -4.723122877083547e-05,\n",
       "  0.01013789842960826,\n",
       "  -0.0022770898973417234,\n",
       "  -0.017929615194476976,\n",
       "  0.006021417673335001,\n",
       "  0.024551345954115802,\n",
       "  0.005664113392938403,\n",
       "  0.0,\n",
       "  0.008282006869350341,\n",
       "  -0.00039404877457442666,\n",
       "  -3.710575151587148e-05,\n",
       "  -0.002131472470718635,\n",
       "  -0.026027729151352944,\n",
       "  -1.5369009918266913e-05,\n",
       "  0.0004812948485078086,\n",
       "  -0.00010681452297661793,\n",
       "  0.001969264821349325,\n",
       "  -1.2005461827242021e-05,\n",
       "  0.0005670751248817658,\n",
       "  0.0022871991341735847,\n",
       "  0.013793276349325955,\n",
       "  -0.056553923440576005,\n",
       "  -0.03535540318200571,\n",
       "  -0.004322426847477043,\n",
       "  0.0009977572252001725,\n",
       "  0.001239172460738222,\n",
       "  0.0,\n",
       "  0.0,\n",
       "  0.0,\n",
       "  -0.0003595838365567795,\n",
       "  7.793425691689903e-05,\n",
       "  -0.0008987119897599535,\n",
       "  0.0005211848347089713,\n",
       "  -0.0012476460574467872,\n",
       "  0.0005607921329129565,\n",
       "  7.475713480950162e-05,\n",
       "  0.0,\n",
       "  0.0,\n",
       "  0.0,\n",
       "  0.0,\n",
       "  0.0,\n",
       "  0.0,\n",
       "  0.0,\n",
       "  0.0,\n",
       "  0.0,\n",
       "  0.0,\n",
       "  0.0,\n",
       "  0.0,\n",
       "  0.0,\n",
       "  0.0,\n",
       "  0.0001484167722188464,\n",
       "  0.0,\n",
       "  0.0,\n",
       "  0.0,\n",
       "  0.0,\n",
       "  0.0,\n",
       "  0.0,\n",
       "  0.0,\n",
       "  0.0,\n",
       "  0.0,\n",
       "  0.0,\n",
       "  0.0,\n",
       "  0.0,\n",
       "  0.0,\n",
       "  -0.00027835801077583875,\n",
       "  0.0,\n",
       "  0.006816496443255579,\n",
       "  -0.022720201179600902,\n",
       "  -0.00565950409581545,\n",
       "  0.0,\n",
       "  0.0,\n",
       "  -2.302417264378731e-05,\n",
       "  0.0,\n",
       "  0.0,\n",
       "  0.0002603510209931023,\n",
       "  0.0,\n",
       "  0.0,\n",
       "  -1.779775582523337e-05,\n",
       "  -0.00011825132486693331,\n",
       "  0.0017027782745017601,\n",
       "  0.0,\n",
       "  0.0,\n",
       "  6.802620364979549e-05,\n",
       "  -0.01045175103014047,\n",
       "  0.0,\n",
       "  0.0,\n",
       "  0.0,\n",
       "  -0.0005420577367689069,\n",
       "  0.0,\n",
       "  0.0,\n",
       "  0.0,\n",
       "  -5.927078518163275e-05,\n",
       "  0.001689459751534286,\n",
       "  0.0008340307918591596,\n",
       "  0.0025174223412639542,\n",
       "  0.00026932753055014535,\n",
       "  0.0,\n",
       "  0.0,\n",
       "  0.0,\n",
       "  0.0,\n",
       "  0.0,\n",
       "  -2.1675786805738e-05,\n",
       "  0.0,\n",
       "  0.00016959662726697197,\n",
       "  -0.001031051101332131,\n",
       "  -3.7552362662349474e-05,\n",
       "  -0.0007661766153083575,\n",
       "  -9.853419044698666e-05,\n",
       "  0.0,\n",
       "  0.0,\n",
       "  0.001553487611298738,\n",
       "  0.00037947278902558315,\n",
       "  0.0,\n",
       "  0.0,\n",
       "  0.0,\n",
       "  0.0,\n",
       "  0.0,\n",
       "  0.0,\n",
       "  0.0027126927246415326,\n",
       "  0.0,\n",
       "  0.0009757007783443931,\n",
       "  0.00022737483663529882,\n",
       "  0.0002759259036777395,\n",
       "  -0.0005527321089453636,\n",
       "  0.0,\n",
       "  0.0,\n",
       "  0.0003650731859589153,\n",
       "  0.0,\n",
       "  -0.0011668216677329312,\n",
       "  0.0,\n",
       "  0.0013359408616728078,\n",
       "  -0.012909065614393127,\n",
       "  0.0,\n",
       "  0.0,\n",
       "  -0.00025013314900886843,\n",
       "  -0.010476332592433864,\n",
       "  0.000557866345466393,\n",
       "  0.0,\n",
       "  -0.0021849612707789353,\n",
       "  0.0,\n",
       "  0.0020978129851271007,\n",
       "  0.0,\n",
       "  0.0,\n",
       "  0.001174031882037355,\n",
       "  0.0002449454082620752,\n",
       "  0.0,\n",
       "  0.0,\n",
       "  -2.4512762865933715e-05,\n",
       "  0.0005173119122117753,\n",
       "  -0.001000423444582899,\n",
       "  0.00016417250096721994,\n",
       "  -0.00017540446928153232,\n",
       "  0.001896188360899594,\n",
       "  0.0,\n",
       "  0.0,\n",
       "  0.0,\n",
       "  0.0,\n",
       "  9.875052613609819e-05,\n",
       "  0.0,\n",
       "  0.001102808565656184,\n",
       "  -0.023929126251237425,\n",
       "  0.018406645658601287,\n",
       "  -0.007511066291160584,\n",
       "  0.0,\n",
       "  0.0,\n",
       "  8.208791587369794e-05,\n",
       "  -0.0002380751820153892,\n",
       "  0.0,\n",
       "  -0.0006431130116757705,\n",
       "  0.006477426643281878,\n",
       "  3.748674480890009e-05,\n",
       "  -0.00035763207004449373,\n",
       "  0.005176628176592651,\n",
       "  -0.0003922973820265715,\n",
       "  0.0,\n",
       "  -0.0011813068372431013,\n",
       "  0.0011593972903566354,\n",
       "  -0.00011339118003640908,\n",
       "  -0.0003837920221650765,\n",
       "  0.0,\n",
       "  -7.348988029826207e-05,\n",
       "  -2.8975145098036104e-05,\n",
       "  0.0,\n",
       "  -0.002671494530939197,\n",
       "  0.0428551006251617,\n",
       "  0.011736994097349737,\n",
       "  0.0018978330945814636,\n",
       "  -0.0027590754800850634,\n",
       "  0.00047305522119467537,\n",
       "  -0.004137883985891483,\n",
       "  -0.0019215545570839192,\n",
       "  -5.992688152293339e-05,\n",
       "  0.0,\n",
       "  0.0014287419320984744,\n",
       "  0.00045499208112092496,\n",
       "  0.001205891219256079,\n",
       "  0.0007384165424357306,\n",
       "  0.01646886184321463,\n",
       "  0.0008225592856777719,\n",
       "  -0.002760829360882005,\n",
       "  -0.0043845588471328086,\n",
       "  -0.0013178365135282067,\n",
       "  0.000117811325062976,\n",
       "  -0.014321857594169273,\n",
       "  -0.0005065957248461478,\n",
       "  0.0,\n",
       "  0.00021609535893348132,\n",
       "  -0.00020311925687652413,\n",
       "  0.012895169939663675,\n",
       "  -0.007462247651622362,\n",
       "  -0.0031604205546811323,\n",
       "  -0.07498000973264447,\n",
       "  -0.002330428644876037,\n",
       "  0.0002731792693009442,\n",
       "  -4.150407465762605e-06,\n",
       "  0.00013269265841719951,\n",
       "  -0.0011027035934501749,\n",
       "  0.0004976802941041379,\n",
       "  0.0,\n",
       "  -0.0008579898729082459,\n",
       "  0.0,\n",
       "  0.00017749413559698114,\n",
       "  0.0,\n",
       "  -7.438402633957542e-05,\n",
       "  -0.00099760398994888,\n",
       "  0.0,\n",
       "  0.0,\n",
       "  -0.00010878435915888531,\n",
       "  -0.00025383858076637856,\n",
       "  0.0002815180002803528,\n",
       "  -0.0004716870204464,\n",
       "  0.00031638435487667537,\n",
       "  -0.0011564950264682182,\n",
       "  -0.0002374130138976936,\n",
       "  0.0003443279829801699,\n",
       "  -5.271762770053398e-05,\n",
       "  0.00010470420862992333,\n",
       "  0.0001466901195668657,\n",
       "  -3.560852281473648e-05,\n",
       "  -0.008323689870077804,\n",
       "  -0.023105154357945974,\n",
       "  0.0,\n",
       "  -0.001085389852251132,\n",
       "  -0.008328696417096944,\n",
       "  0.0015270516841741418,\n",
       "  0.04260775232893554,\n",
       "  -7.51878018574437e-05,\n",
       "  5.152936751020144e-05,\n",
       "  -0.0011686059094863093,\n",
       "  -0.00834680086000779,\n",
       "  0.00526196634402164,\n",
       "  0.0,\n",
       "  0.0,\n",
       "  0.0,\n",
       "  0.0015735610956300764,\n",
       "  0.0,\n",
       "  -0.001018902619930084,\n",
       "  0.0,\n",
       "  0.0,\n",
       "  0.0,\n",
       "  0.009344560496025622,\n",
       "  0.00030315540262963053,\n",
       "  -0.0005976461098161338,\n",
       "  -0.06549028319145991,\n",
       "  -0.00012869394160049471,\n",
       "  -0.0013715394271975366,\n",
       "  -0.0003368997266382739,\n",
       "  0.012498009145373553,\n",
       "  0.0011127764675706862,\n",
       "  -0.01446020520235256,\n",
       "  0.034105324141455284,\n",
       "  0.0040191158199396355,\n",
       "  -0.005554371006842029,\n",
       "  -0.024000842865250442,\n",
       "  0.0006866553665367038,\n",
       "  0.0,\n",
       "  -0.0017831144732572697,\n",
       "  -0.001316676905581046,\n",
       "  0.0036064273881437903,\n",
       "  -0.017365349906621155,\n",
       "  1.11396431970983e-05,\n",
       "  -0.0015904116608694225,\n",
       "  0.12180352039869329,\n",
       "  -0.021814019447708517,\n",
       "  0.06716299069893532,\n",
       "  0.006123343940702716,\n",
       "  0.005519955694725521,\n",
       "  -0.00019655667727195856,\n",
       "  -0.00011053380798063043,\n",
       "  -2.5981330794802534e-05,\n",
       "  0.0,\n",
       "  0.0033534685528635983,\n",
       "  -6.333513210840094e-05,\n",
       "  -0.0006675164384725606,\n",
       "  -0.0015949363643466856,\n",
       "  0.0,\n",
       "  -0.002128056414089681,\n",
       "  0.0029572312142438833,\n",
       "  0.0,\n",
       "  0.00042864578543886744,\n",
       "  0.000769332977949637,\n",
       "  0.0005571054784367661,\n",
       "  0.0,\n",
       "  0.0,\n",
       "  0.0,\n",
       "  0.0,\n",
       "  -0.0010810234142270914,\n",
       "  0.0,\n",
       "  -0.0002969910440979025,\n",
       "  -0.00022801920413969957,\n",
       "  0.0003413993768575051,\n",
       "  0.0012642945824546039,\n",
       "  0.0,\n",
       "  -0.0004078972267496432,\n",
       "  0.0,\n",
       "  0.0,\n",
       "  0.0,\n",
       "  0.0,\n",
       "  0.0,\n",
       "  0.00010284115467888304,\n",
       "  0.0007670337128128893,\n",
       "  0.0,\n",
       "  0.0,\n",
       "  0.0,\n",
       "  0.0,\n",
       "  0.0,\n",
       "  0.0,\n",
       "  -5.503067977090635e-05,\n",
       "  0.0,\n",
       "  -0.0007634336240158854,\n",
       "  -0.0041710049637397485,\n",
       "  0.0,\n",
       "  0.0,\n",
       "  0.0,\n",
       "  0.0,\n",
       "  -0.001339137902048631,\n",
       "  0.0,\n",
       "  -0.00041064381397155816,\n",
       "  0.00014867650411526216,\n",
       "  0.0,\n",
       "  7.566790943627406e-05,\n",
       "  0.000268781159838657,\n",
       "  0.0,\n",
       "  0.0,\n",
       "  0.0026215953355633458,\n",
       "  0.011500474676846463,\n",
       "  -0.0005871402077828059,\n",
       "  0.0001358518077638319,\n",
       "  0.0,\n",
       "  -0.008831322921650196,\n",
       "  0.0,\n",
       "  0.0,\n",
       "  0.0,\n",
       "  0.0,\n",
       "  -0.013377126949197963,\n",
       "  0.0017544546797766854,\n",
       "  9.684308877777805e-05,\n",
       "  0.0,\n",
       "  -0.0012752869192017185,\n",
       "  -0.004758301750868567,\n",
       "  0.000233884211859198,\n",
       "  -0.013266497313556514,\n",
       "  0.0,\n",
       "  0.0,\n",
       "  0.0,\n",
       "  0.0,\n",
       "  3.922165064093732e-05,\n",
       "  0.0,\n",
       "  0.0,\n",
       "  -5.024906222846037e-05,\n",
       "  0.0,\n",
       "  0.0,\n",
       "  0.0,\n",
       "  0.0,\n",
       "  0.00016396809474573596,\n",
       "  -0.0005240311116163016,\n",
       "  0.00019189096746374806,\n",
       "  0.0,\n",
       "  0.0,\n",
       "  -1.361203738078501e-05,\n",
       "  0.0,\n",
       "  0.0,\n",
       "  0.0,\n",
       "  0.0,\n",
       "  0.00029737065681776796,\n",
       "  0.00012985296338891296,\n",
       "  0.0,\n",
       "  0.0,\n",
       "  0.0,\n",
       "  0.0,\n",
       "  0.0012696545730898868,\n",
       "  0.0012326395730046535,\n",
       "  0.0,\n",
       "  0.0,\n",
       "  0.0,\n",
       "  0.0,\n",
       "  0.0,\n",
       "  0.0,\n",
       "  0.0,\n",
       "  -0.006116870026270196,\n",
       "  0.0,\n",
       "  0.00044024373162152833,\n",
       "  0.0,\n",
       "  0.0,\n",
       "  0.0,\n",
       "  0.0,\n",
       "  0.0,\n",
       "  0.0,\n",
       "  0.0,\n",
       "  0.0,\n",
       "  0.0,\n",
       "  0.0,\n",
       "  0.0,\n",
       "  0.0,\n",
       "  0.0,\n",
       "  0.0,\n",
       "  0.0,\n",
       "  0.0,\n",
       "  0.0,\n",
       "  0.0,\n",
       "  -2.05895415125497e-05,\n",
       "  0.0,\n",
       "  0.0,\n",
       "  0.0,\n",
       "  0.0,\n",
       "  0.0,\n",
       "  0.0,\n",
       "  -0.0002676859946481757]]"
      ]
     },
     "execution_count": 8,
     "metadata": {},
     "output_type": "execute_result"
    }
   ],
   "source": [
    "shap_values[1].tolist()"
   ]
  },
  {
   "cell_type": "code",
   "execution_count": null,
   "metadata": {},
   "outputs": [
    {
     "name": "stdout",
     "output_type": "stream",
     "text": [
      "{'shap_values': [[-0.13772704139940112, 0.008457680770055816, -8.602041364610399e-05, 0.0, 0.00032278225980464175, -0.03711319243048115, -0.1680007033673694, 0.06079259074065294, 0.013574485265281145, -0.09318713582371108, -0.1332758331900685, -0.018326595863772388, -0.1025121749905523, 0.028189884079517533, 0.0, 0.0, -0.004387074258830336, 0.0, 0.004765479759820903, 0.0, -4.792344495370585e-05, -0.0014965251028659, -0.002121746924280719, 0.011130215291421282, 0.0002882318308464373, 0.0, 0.0, -0.007714312236165733, 0.0, 0.0, -0.1498366016799389, -0.47328468419157477, 0.8775235002898577, -0.005058168506619129, -0.0009712925909534074, 0.003794801976817622, -0.0019026311320304, -7.733915726114733e-05, -9.342283279822817e-06, -2.5716293668332083e-05, 0.00020899222986718087, 0.00022857278770336908, 0.0016999347316364135, -0.0012257286583986205, -0.0012287816157981971, 0.0, 0.0009837199004159047, -0.0022807381275565465, 8.215791664030388e-05, 0.0018056103767260952, 0.0, -0.001288661727903919, 0.0, 0.0, 0.0, -4.928357564483286e-05, 0.0021299854693991763, -0.0007019640684993858, -0.001232898308425057, -1.689826433452066e-05, 0.00043234313417011856, 0.0, 0.000105872741403346, -0.004557417644798624, 0.0, 0.0, -3.178464043435339e-05, 0.019328952471114713, -0.006857362069538265, 0.0, -0.00013455062899549725, -0.0005306035516796437, 0.0006749848732197765, 0.0, -0.000848919671859573, -0.018473588834767254, -0.0016279649305723216, -0.008759014141769038, 0.0, -0.012731137386024528, 0.01657609377129612, 0.0, 0.015265722203025746, 0.0, 0.0, 0.0, 0.0, 0.0, 0.0, 0.0, 0.0, 0.0, 0.0006410616427627176, 0.0, 0.0, 0.00037623932947825913, 0.0, 0.002308654696606704, 0.0, 0.0, 0.0, 0.0, 0.0, 0.0, 0.0003141906491971537, 0.004198205088832696, 0.00012965341751950226, 0.01222406241613468, 0.0, 0.0, 0.0, 0.0, 0.0, 0.0, 0.0, 0.0, 0.0, 0.0, 0.0, 0.0, 0.00781912776439171, 0.0, 0.0, -0.007506012526641716, 0.0, 0.023293997790634284, 0.0007552796036195662, 0.0, 0.0122781736119514, 0.0, 0.08639152883382117, 0.0, 0.0, 0.0, 0.0, 0.0, -0.001166936026754964, 0.0, 0.0, 0.0, 0.0, 0.00037617545359572746, 0.0, 0.0, 0.003261250218338811, -0.001510428138377588, 0.0, 0.0, 0.0, 0.0, 0.0, 0.0, -0.0003122816036853934, 0.0, 0.0, 0.0, 0.0, 0.0, 0.0, -7.710457808206999e-05, 0.0, 0.002725728082722674, 0.0, -9.4587202948865e-05, 0.0, 0.0, 0.0, 0.0, 0.0013637789527016558, 0.0, 0.0, -0.006050221038529931, 0.0, -0.002264319235066414, 0.0, 0.0, 0.0, 0.0, 0.0, 0.0, 0.0, 0.0, 0.0, 0.0, 0.0, 0.0, 0.0, 0.0, 0.0, 0.0, 0.0, 0.0, 0.002882251353552659, 0.0, 0.00028510680370678193, 0.0, 0.0, 0.0010901730148818853, 0.0, 0.0, 0.0003161882547409657, 0.0, -0.00016187528781784084, 0.0, -1.6593261304621914e-05, 0.003322594104937344, 0.0, 0.0014664806974993324, -0.0083633029300653, 0.0, 0.0, 0.0, 0.0002774244706061886, 0.0, 0.0, 0.0, 0.0, 0.0, 0.0, 0.0, -0.0006577192984582312, 0.0, 0.0, 0.0, 0.0, 0.0, 0.0, 0.0, 0.0, 0.0, 0.0, 0.0, 0.0, 0.0, 0.0, 0.0, -0.044178684424375114, 0.0, 0.0, 0.0, 0.014720454361122574, -0.015029142262558524, 0.02771677417517886, -0.030940361210212267, 0.01770405075460312, -0.0006702256774076907, -0.011035694774105915, 0.011441841568768216, 0.0002372364267260697, -0.00020117752494373375, -0.0006430732132322161, 0.0003422872919209795, 0.00225407660179547, 0.0, 0.0, 0.08473265855407877, 0.0023879080141207243, -0.01144807291288505, 0.01074466091489532, -0.001984097748004307, -0.026950211935989326, -0.0014757453928171363, -0.0006377477855151687, -0.0010219982466320484, 0.0, 0.0, -0.0005522145701146008, 0.0, 0.0011373117734790673, 0.0, -0.0021378003060397235, 0.0010906832433682004, 0.006540834352228625, 0.0, 0.014342971125802743, -1.9867339657784542e-05, 0.0, 0.0, 0.0, 0.0, 0.0, 0.0, 0.0002052096325530515, 0.0024961013539220775, 0.0, 0.0004655772504539417, 0.0, 0.0, 0.0, 0.0, 0.0, 0.0, -0.004637240958751917, 0.0, 0.004971395474913766, 0.0, 0.0, 0.0, 0.0011624847844187189, 0.047839881415886853, 0.0, 0.0, 0.0, 0.0, 0.0010553841405311105, 0.0, 0.0, -0.0004910520341460054, -0.02184102398899459, 0.0029048653191709683, -0.00011525606174211951, 0.02869937957769906, -0.027105608893596398, -0.03864229425503244, -0.001842330759847509, 0.0, 0.0, 0.11743546371764683, -0.014803302565905362, 0.009529333186096885, -0.010158004478541245, -0.01734244776268604, -0.013192381984268866, -0.0048448331417718414, -0.00043467958265167413, 0.010189112387949308, 0.009039755540947509, 0.0, 0.0027943266742697327, 0.0, -0.00030462862754918594, 0.0, -0.0002409198825249163, 0.0003450063958503261, -0.00037446186736230647, 0.03117314764755224, -3.522779465424455e-05, 0.018092126065785474, 9.177575367650663e-06, 0.0019615712485185136, 0.0004145645767391678, 0.0022358496027497636, 0.0, 0.0, 0.001282432640613556, -0.0006077892700732501, -0.008553220806221059, 0.016657295569894887, -0.0005691998598650256, 0.020758424356066212, 0.0, 0.0, -0.0004199648226403145, 0.0, 4.045486561033651e-05, -0.0002310103076092904, 0.0, 0.00023688580379106042, 0.0, 0.0004980593183666673, 0.0010601044414537194, -0.008802316884064526, 0.005270484691429926, 0.01600476596066431, 0.00022446483076241541, -0.002058353964777175, -0.0006236127936847819, -4.723122877083547e-05, 0.01013789842960826, -0.0022770898973417234, -0.017929615194476976, 0.006021417673335001, 0.024551345954115802, 0.005664113392938403, 0.0, 0.008282006869350341, -0.00039404877457442666, -3.710575151587148e-05, -0.002131472470718635, -0.026027729151352944, -1.5369009918266913e-05, 0.0004812948485078086, -0.00010681452297661793, 0.001969264821349325, -1.2005461827242021e-05, 0.0005670751248817658, 0.0022871991341735847, 0.013793276349325955, -0.056553923440576005, -0.03535540318200571, -0.004322426847477043, 0.0009977572252001725, 0.001239172460738222, 0.0, 0.0, 0.0, -0.0003595838365567795, 7.793425691689903e-05, -0.0008987119897599535, 0.0005211848347089713, -0.0012476460574467872, 0.0005607921329129565, 7.475713480950162e-05, 0.0, 0.0, 0.0, 0.0, 0.0, 0.0, 0.0, 0.0, 0.0, 0.0, 0.0, 0.0, 0.0, 0.0, 0.0001484167722188464, 0.0, 0.0, 0.0, 0.0, 0.0, 0.0, 0.0, 0.0, 0.0, 0.0, 0.0, 0.0, 0.0, -0.00027835801077583875, 0.0, 0.006816496443255579, -0.022720201179600902, -0.00565950409581545, 0.0, 0.0, -2.302417264378731e-05, 0.0, 0.0, 0.0002603510209931023, 0.0, 0.0, -1.779775582523337e-05, -0.00011825132486693331, 0.0017027782745017601, 0.0, 0.0, 6.802620364979549e-05, -0.01045175103014047, 0.0, 0.0, 0.0, -0.0005420577367689069, 0.0, 0.0, 0.0, -5.927078518163275e-05, 0.001689459751534286, 0.0008340307918591596, 0.0025174223412639542, 0.00026932753055014535, 0.0, 0.0, 0.0, 0.0, 0.0, -2.1675786805738e-05, 0.0, 0.00016959662726697197, -0.001031051101332131, -3.7552362662349474e-05, -0.0007661766153083575, -9.853419044698666e-05, 0.0, 0.0, 0.001553487611298738, 0.00037947278902558315, 0.0, 0.0, 0.0, 0.0, 0.0, 0.0, 0.0027126927246415326, 0.0, 0.0009757007783443931, 0.00022737483663529882, 0.0002759259036777395, -0.0005527321089453636, 0.0, 0.0, 0.0003650731859589153, 0.0, -0.0011668216677329312, 0.0, 0.0013359408616728078, -0.012909065614393127, 0.0, 0.0, -0.00025013314900886843, -0.010476332592433864, 0.000557866345466393, 0.0, -0.0021849612707789353, 0.0, 0.0020978129851271007, 0.0, 0.0, 0.001174031882037355, 0.0002449454082620752, 0.0, 0.0, -2.4512762865933715e-05, 0.0005173119122117753, -0.001000423444582899, 0.00016417250096721994, -0.00017540446928153232, 0.001896188360899594, 0.0, 0.0, 0.0, 0.0, 9.875052613609819e-05, 0.0, 0.001102808565656184, -0.023929126251237425, 0.018406645658601287, -0.007511066291160584, 0.0, 0.0, 8.208791587369794e-05, -0.0002380751820153892, 0.0, -0.0006431130116757705, 0.006477426643281878, 3.748674480890009e-05, -0.00035763207004449373, 0.005176628176592651, -0.0003922973820265715, 0.0, -0.0011813068372431013, 0.0011593972903566354, -0.00011339118003640908, -0.0003837920221650765, 0.0, -7.348988029826207e-05, -2.8975145098036104e-05, 0.0, -0.002671494530939197, 0.0428551006251617, 0.011736994097349737, 0.0018978330945814636, -0.0027590754800850634, 0.00047305522119467537, -0.004137883985891483, -0.0019215545570839192, -5.992688152293339e-05, 0.0, 0.0014287419320984744, 0.00045499208112092496, 0.001205891219256079, 0.0007384165424357306, 0.01646886184321463, 0.0008225592856777719, -0.002760829360882005, -0.0043845588471328086, -0.0013178365135282067, 0.000117811325062976, -0.014321857594169273, -0.0005065957248461478, 0.0, 0.00021609535893348132, -0.00020311925687652413, 0.012895169939663675, -0.007462247651622362, -0.0031604205546811323, -0.07498000973264447, -0.002330428644876037, 0.0002731792693009442, -4.150407465762605e-06, 0.00013269265841719951, -0.0011027035934501749, 0.0004976802941041379, 0.0, -0.0008579898729082459, 0.0, 0.00017749413559698114, 0.0, -7.438402633957542e-05, -0.00099760398994888, 0.0, 0.0, -0.00010878435915888531, -0.00025383858076637856, 0.0002815180002803528, -0.0004716870204464, 0.00031638435487667537, -0.0011564950264682182, -0.0002374130138976936, 0.0003443279829801699, -5.271762770053398e-05, 0.00010470420862992333, 0.0001466901195668657, -3.560852281473648e-05, -0.008323689870077804, -0.023105154357945974, 0.0, -0.001085389852251132, -0.008328696417096944, 0.0015270516841741418, 0.04260775232893554, -7.51878018574437e-05, 5.152936751020144e-05, -0.0011686059094863093, -0.00834680086000779, 0.00526196634402164, 0.0, 0.0, 0.0, 0.0015735610956300764, 0.0, -0.001018902619930084, 0.0, 0.0, 0.0, 0.009344560496025622, 0.00030315540262963053, -0.0005976461098161338, -0.06549028319145991, -0.00012869394160049471, -0.0013715394271975366, -0.0003368997266382739, 0.012498009145373553, 0.0011127764675706862, -0.01446020520235256, 0.034105324141455284, 0.0040191158199396355, -0.005554371006842029, -0.024000842865250442, 0.0006866553665367038, 0.0, -0.0017831144732572697, -0.001316676905581046, 0.0036064273881437903, -0.017365349906621155, 1.11396431970983e-05, -0.0015904116608694225, 0.12180352039869329, -0.021814019447708517, 0.06716299069893532, 0.006123343940702716, 0.005519955694725521, -0.00019655667727195856, -0.00011053380798063043, -2.5981330794802534e-05, 0.0, 0.0033534685528635983, -6.333513210840094e-05, -0.0006675164384725606, -0.0015949363643466856, 0.0, -0.002128056414089681, 0.0029572312142438833, 0.0, 0.00042864578543886744, 0.000769332977949637, 0.0005571054784367661, 0.0, 0.0, 0.0, 0.0, -0.0010810234142270914, 0.0, -0.0002969910440979025, -0.00022801920413969957, 0.0003413993768575051, 0.0012642945824546039, 0.0, -0.0004078972267496432, 0.0, 0.0, 0.0, 0.0, 0.0, 0.00010284115467888304, 0.0007670337128128893, 0.0, 0.0, 0.0, 0.0, 0.0, 0.0, -5.503067977090635e-05, 0.0, -0.0007634336240158854, -0.0041710049637397485, 0.0, 0.0, 0.0, 0.0, -0.001339137902048631, 0.0, -0.00041064381397155816, 0.00014867650411526216, 0.0, 7.566790943627406e-05, 0.000268781159838657, 0.0, 0.0, 0.0026215953355633458, 0.011500474676846463, -0.0005871402077828059, 0.0001358518077638319, 0.0, -0.008831322921650196, 0.0, 0.0, 0.0, 0.0, -0.013377126949197963, 0.0017544546797766854, 9.684308877777805e-05, 0.0, -0.0012752869192017185, -0.004758301750868567, 0.000233884211859198, -0.013266497313556514, 0.0, 0.0, 0.0, 0.0, 3.922165064093732e-05, 0.0, 0.0, -5.024906222846037e-05, 0.0, 0.0, 0.0, 0.0, 0.00016396809474573596, -0.0005240311116163016, 0.00019189096746374806, 0.0, 0.0, -1.361203738078501e-05, 0.0, 0.0, 0.0, 0.0, 0.00029737065681776796, 0.00012985296338891296, 0.0, 0.0, 0.0, 0.0, 0.0012696545730898868, 0.0012326395730046535, 0.0, 0.0, 0.0, 0.0, 0.0, 0.0, 0.0, -0.006116870026270196, 0.0, 0.00044024373162152833, 0.0, 0.0, 0.0, 0.0, 0.0, 0.0, 0.0, 0.0, 0.0, 0.0, 0.0, 0.0, 0.0, 0.0, 0.0, 0.0, 0.0, 0.0, -2.05895415125497e-05, 0.0, 0.0, 0.0, 0.0, 0.0, 0.0, -0.0002676859946481757]]}\n",
      "<class 'dict'>\n"
     ]
    }
   ],
   "source": [
    "# Supposons que shap_values_list soit votre liste de Shapley values\n",
    "# shap_values_list = [np.array([[0.13772704139940112, -0.008457680770055816, ...]]),\n",
    "#                    np.array([[...]])]\n",
    "\n",
    "# shap_values_list = [i for i in shap_values]\n",
    "\n",
    "shap_values_list = shap_values[1].tolist()\n",
    "\n",
    "# Créez un dictionnaire pour stocker les Shapley values\n",
    "shap_values_dict = {}\n",
    "key = 'shap_values'\n",
    "shap_values_dict[key] = shap_values_list\n",
    "\n",
    "# Ajoutez chaque tableau NumPy avec une clé appropriée\n",
    "# for i, shap_values_array in enumerate(shap_values_list):\n",
    "#     key = f'shap_values_{i + 1}'  # Vous pouvez utiliser une clé plus significative si nécessaire\n",
    "#     shap_values_dict[key] = shap_values_array.tolist()\n",
    "\n",
    "# Maintenant, shap_values_dict contient les Shapley values sous forme de dictionnaire\n",
    "print(shap_values_dict)\n",
    "print(type(shap_values_dict))"
   ]
  },
  {
   "cell_type": "code",
   "execution_count": null,
   "metadata": {},
   "outputs": [
    {
     "data": {
      "text/plain": [
       "array([[-1.37727041e-01,  8.45768077e-03, -8.60204136e-05,\n",
       "         0.00000000e+00,  3.22782260e-04, -3.71131924e-02,\n",
       "        -1.68000703e-01,  6.07925907e-02,  1.35744853e-02,\n",
       "        -9.31871358e-02, -1.33275833e-01, -1.83265959e-02,\n",
       "        -1.02512175e-01,  2.81898841e-02,  0.00000000e+00,\n",
       "         0.00000000e+00, -4.38707426e-03,  0.00000000e+00,\n",
       "         4.76547976e-03,  0.00000000e+00, -4.79234450e-05,\n",
       "        -1.49652510e-03, -2.12174692e-03,  1.11302153e-02,\n",
       "         2.88231831e-04,  0.00000000e+00,  0.00000000e+00,\n",
       "        -7.71431224e-03,  0.00000000e+00,  0.00000000e+00,\n",
       "        -1.49836602e-01, -4.73284684e-01,  8.77523500e-01,\n",
       "        -5.05816851e-03, -9.71292591e-04,  3.79480198e-03,\n",
       "        -1.90263113e-03, -7.73391573e-05, -9.34228328e-06,\n",
       "        -2.57162937e-05,  2.08992230e-04,  2.28572788e-04,\n",
       "         1.69993473e-03, -1.22572866e-03, -1.22878162e-03,\n",
       "         0.00000000e+00,  9.83719900e-04, -2.28073813e-03,\n",
       "         8.21579166e-05,  1.80561038e-03,  0.00000000e+00,\n",
       "        -1.28866173e-03,  0.00000000e+00,  0.00000000e+00,\n",
       "         0.00000000e+00, -4.92835756e-05,  2.12998547e-03,\n",
       "        -7.01964068e-04, -1.23289831e-03, -1.68982643e-05,\n",
       "         4.32343134e-04,  0.00000000e+00,  1.05872741e-04,\n",
       "        -4.55741764e-03,  0.00000000e+00,  0.00000000e+00,\n",
       "        -3.17846404e-05,  1.93289525e-02, -6.85736207e-03,\n",
       "         0.00000000e+00, -1.34550629e-04, -5.30603552e-04,\n",
       "         6.74984873e-04,  0.00000000e+00, -8.48919672e-04,\n",
       "        -1.84735888e-02, -1.62796493e-03, -8.75901414e-03,\n",
       "         0.00000000e+00, -1.27311374e-02,  1.65760938e-02,\n",
       "         0.00000000e+00,  1.52657222e-02,  0.00000000e+00,\n",
       "         0.00000000e+00,  0.00000000e+00,  0.00000000e+00,\n",
       "         0.00000000e+00,  0.00000000e+00,  0.00000000e+00,\n",
       "         0.00000000e+00,  0.00000000e+00,  6.41061643e-04,\n",
       "         0.00000000e+00,  0.00000000e+00,  3.76239329e-04,\n",
       "         0.00000000e+00,  2.30865470e-03,  0.00000000e+00,\n",
       "         0.00000000e+00,  0.00000000e+00,  0.00000000e+00,\n",
       "         0.00000000e+00,  0.00000000e+00,  3.14190649e-04,\n",
       "         4.19820509e-03,  1.29653418e-04,  1.22240624e-02,\n",
       "         0.00000000e+00,  0.00000000e+00,  0.00000000e+00,\n",
       "         0.00000000e+00,  0.00000000e+00,  0.00000000e+00,\n",
       "         0.00000000e+00,  0.00000000e+00,  0.00000000e+00,\n",
       "         0.00000000e+00,  0.00000000e+00,  0.00000000e+00,\n",
       "         7.81912776e-03,  0.00000000e+00,  0.00000000e+00,\n",
       "        -7.50601253e-03,  0.00000000e+00,  2.32939978e-02,\n",
       "         7.55279604e-04,  0.00000000e+00,  1.22781736e-02,\n",
       "         0.00000000e+00,  8.63915288e-02,  0.00000000e+00,\n",
       "         0.00000000e+00,  0.00000000e+00,  0.00000000e+00,\n",
       "         0.00000000e+00, -1.16693603e-03,  0.00000000e+00,\n",
       "         0.00000000e+00,  0.00000000e+00,  0.00000000e+00,\n",
       "         3.76175454e-04,  0.00000000e+00,  0.00000000e+00,\n",
       "         3.26125022e-03, -1.51042814e-03,  0.00000000e+00,\n",
       "         0.00000000e+00,  0.00000000e+00,  0.00000000e+00,\n",
       "         0.00000000e+00,  0.00000000e+00, -3.12281604e-04,\n",
       "         0.00000000e+00,  0.00000000e+00,  0.00000000e+00,\n",
       "         0.00000000e+00,  0.00000000e+00,  0.00000000e+00,\n",
       "        -7.71045781e-05,  0.00000000e+00,  2.72572808e-03,\n",
       "         0.00000000e+00, -9.45872029e-05,  0.00000000e+00,\n",
       "         0.00000000e+00,  0.00000000e+00,  0.00000000e+00,\n",
       "         1.36377895e-03,  0.00000000e+00,  0.00000000e+00,\n",
       "        -6.05022104e-03,  0.00000000e+00, -2.26431924e-03,\n",
       "         0.00000000e+00,  0.00000000e+00,  0.00000000e+00,\n",
       "         0.00000000e+00,  0.00000000e+00,  0.00000000e+00,\n",
       "         0.00000000e+00,  0.00000000e+00,  0.00000000e+00,\n",
       "         0.00000000e+00,  0.00000000e+00,  0.00000000e+00,\n",
       "         0.00000000e+00,  0.00000000e+00,  0.00000000e+00,\n",
       "         0.00000000e+00,  0.00000000e+00,  0.00000000e+00,\n",
       "         2.88225135e-03,  0.00000000e+00,  2.85106804e-04,\n",
       "         0.00000000e+00,  0.00000000e+00,  1.09017301e-03,\n",
       "         0.00000000e+00,  0.00000000e+00,  3.16188255e-04,\n",
       "         0.00000000e+00, -1.61875288e-04,  0.00000000e+00,\n",
       "        -1.65932613e-05,  3.32259410e-03,  0.00000000e+00,\n",
       "         1.46648070e-03, -8.36330293e-03,  0.00000000e+00,\n",
       "         0.00000000e+00,  0.00000000e+00,  2.77424471e-04,\n",
       "         0.00000000e+00,  0.00000000e+00,  0.00000000e+00,\n",
       "         0.00000000e+00,  0.00000000e+00,  0.00000000e+00,\n",
       "         0.00000000e+00, -6.57719298e-04,  0.00000000e+00,\n",
       "         0.00000000e+00,  0.00000000e+00,  0.00000000e+00,\n",
       "         0.00000000e+00,  0.00000000e+00,  0.00000000e+00,\n",
       "         0.00000000e+00,  0.00000000e+00,  0.00000000e+00,\n",
       "         0.00000000e+00,  0.00000000e+00,  0.00000000e+00,\n",
       "         0.00000000e+00,  0.00000000e+00, -4.41786844e-02,\n",
       "         0.00000000e+00,  0.00000000e+00,  0.00000000e+00,\n",
       "         1.47204544e-02, -1.50291423e-02,  2.77167742e-02,\n",
       "        -3.09403612e-02,  1.77040508e-02, -6.70225677e-04,\n",
       "        -1.10356948e-02,  1.14418416e-02,  2.37236427e-04,\n",
       "        -2.01177525e-04, -6.43073213e-04,  3.42287292e-04,\n",
       "         2.25407660e-03,  0.00000000e+00,  0.00000000e+00,\n",
       "         8.47326586e-02,  2.38790801e-03, -1.14480729e-02,\n",
       "         1.07446609e-02, -1.98409775e-03, -2.69502119e-02,\n",
       "        -1.47574539e-03, -6.37747786e-04, -1.02199825e-03,\n",
       "         0.00000000e+00,  0.00000000e+00, -5.52214570e-04,\n",
       "         0.00000000e+00,  1.13731177e-03,  0.00000000e+00,\n",
       "        -2.13780031e-03,  1.09068324e-03,  6.54083435e-03,\n",
       "         0.00000000e+00,  1.43429711e-02, -1.98673397e-05,\n",
       "         0.00000000e+00,  0.00000000e+00,  0.00000000e+00,\n",
       "         0.00000000e+00,  0.00000000e+00,  0.00000000e+00,\n",
       "         2.05209633e-04,  2.49610135e-03,  0.00000000e+00,\n",
       "         4.65577250e-04,  0.00000000e+00,  0.00000000e+00,\n",
       "         0.00000000e+00,  0.00000000e+00,  0.00000000e+00,\n",
       "         0.00000000e+00, -4.63724096e-03,  0.00000000e+00,\n",
       "         4.97139547e-03,  0.00000000e+00,  0.00000000e+00,\n",
       "         0.00000000e+00,  1.16248478e-03,  4.78398814e-02,\n",
       "         0.00000000e+00,  0.00000000e+00,  0.00000000e+00,\n",
       "         0.00000000e+00,  1.05538414e-03,  0.00000000e+00,\n",
       "         0.00000000e+00, -4.91052034e-04, -2.18410240e-02,\n",
       "         2.90486532e-03, -1.15256062e-04,  2.86993796e-02,\n",
       "        -2.71056089e-02, -3.86422943e-02, -1.84233076e-03,\n",
       "         0.00000000e+00,  0.00000000e+00,  1.17435464e-01,\n",
       "        -1.48033026e-02,  9.52933319e-03, -1.01580045e-02,\n",
       "        -1.73424478e-02, -1.31923820e-02, -4.84483314e-03,\n",
       "        -4.34679583e-04,  1.01891124e-02,  9.03975554e-03,\n",
       "         0.00000000e+00,  2.79432667e-03,  0.00000000e+00,\n",
       "        -3.04628628e-04,  0.00000000e+00, -2.40919883e-04,\n",
       "         3.45006396e-04, -3.74461867e-04,  3.11731476e-02,\n",
       "        -3.52277947e-05,  1.80921261e-02,  9.17757537e-06,\n",
       "         1.96157125e-03,  4.14564577e-04,  2.23584960e-03,\n",
       "         0.00000000e+00,  0.00000000e+00,  1.28243264e-03,\n",
       "        -6.07789270e-04, -8.55322081e-03,  1.66572956e-02,\n",
       "        -5.69199860e-04,  2.07584244e-02,  0.00000000e+00,\n",
       "         0.00000000e+00, -4.19964823e-04,  0.00000000e+00,\n",
       "         4.04548656e-05, -2.31010308e-04,  0.00000000e+00,\n",
       "         2.36885804e-04,  0.00000000e+00,  4.98059318e-04,\n",
       "         1.06010444e-03, -8.80231688e-03,  5.27048469e-03,\n",
       "         1.60047660e-02,  2.24464831e-04, -2.05835396e-03,\n",
       "        -6.23612794e-04, -4.72312288e-05,  1.01378984e-02,\n",
       "        -2.27708990e-03, -1.79296152e-02,  6.02141767e-03,\n",
       "         2.45513460e-02,  5.66411339e-03,  0.00000000e+00,\n",
       "         8.28200687e-03, -3.94048775e-04, -3.71057515e-05,\n",
       "        -2.13147247e-03, -2.60277292e-02, -1.53690099e-05,\n",
       "         4.81294849e-04, -1.06814523e-04,  1.96926482e-03,\n",
       "        -1.20054618e-05,  5.67075125e-04,  2.28719913e-03,\n",
       "         1.37932763e-02, -5.65539234e-02, -3.53554032e-02,\n",
       "        -4.32242685e-03,  9.97757225e-04,  1.23917246e-03,\n",
       "         0.00000000e+00,  0.00000000e+00,  0.00000000e+00,\n",
       "        -3.59583837e-04,  7.79342569e-05, -8.98711990e-04,\n",
       "         5.21184835e-04, -1.24764606e-03,  5.60792133e-04,\n",
       "         7.47571348e-05,  0.00000000e+00,  0.00000000e+00,\n",
       "         0.00000000e+00,  0.00000000e+00,  0.00000000e+00,\n",
       "         0.00000000e+00,  0.00000000e+00,  0.00000000e+00,\n",
       "         0.00000000e+00,  0.00000000e+00,  0.00000000e+00,\n",
       "         0.00000000e+00,  0.00000000e+00,  0.00000000e+00,\n",
       "         1.48416772e-04,  0.00000000e+00,  0.00000000e+00,\n",
       "         0.00000000e+00,  0.00000000e+00,  0.00000000e+00,\n",
       "         0.00000000e+00,  0.00000000e+00,  0.00000000e+00,\n",
       "         0.00000000e+00,  0.00000000e+00,  0.00000000e+00,\n",
       "         0.00000000e+00,  0.00000000e+00, -2.78358011e-04,\n",
       "         0.00000000e+00,  6.81649644e-03, -2.27202012e-02,\n",
       "        -5.65950410e-03,  0.00000000e+00,  0.00000000e+00,\n",
       "        -2.30241726e-05,  0.00000000e+00,  0.00000000e+00,\n",
       "         2.60351021e-04,  0.00000000e+00,  0.00000000e+00,\n",
       "        -1.77977558e-05, -1.18251325e-04,  1.70277827e-03,\n",
       "         0.00000000e+00,  0.00000000e+00,  6.80262036e-05,\n",
       "        -1.04517510e-02,  0.00000000e+00,  0.00000000e+00,\n",
       "         0.00000000e+00, -5.42057737e-04,  0.00000000e+00,\n",
       "         0.00000000e+00,  0.00000000e+00, -5.92707852e-05,\n",
       "         1.68945975e-03,  8.34030792e-04,  2.51742234e-03,\n",
       "         2.69327531e-04,  0.00000000e+00,  0.00000000e+00,\n",
       "         0.00000000e+00,  0.00000000e+00,  0.00000000e+00,\n",
       "        -2.16757868e-05,  0.00000000e+00,  1.69596627e-04,\n",
       "        -1.03105110e-03, -3.75523627e-05, -7.66176615e-04,\n",
       "        -9.85341904e-05,  0.00000000e+00,  0.00000000e+00,\n",
       "         1.55348761e-03,  3.79472789e-04,  0.00000000e+00,\n",
       "         0.00000000e+00,  0.00000000e+00,  0.00000000e+00,\n",
       "         0.00000000e+00,  0.00000000e+00,  2.71269272e-03,\n",
       "         0.00000000e+00,  9.75700778e-04,  2.27374837e-04,\n",
       "         2.75925904e-04, -5.52732109e-04,  0.00000000e+00,\n",
       "         0.00000000e+00,  3.65073186e-04,  0.00000000e+00,\n",
       "        -1.16682167e-03,  0.00000000e+00,  1.33594086e-03,\n",
       "        -1.29090656e-02,  0.00000000e+00,  0.00000000e+00,\n",
       "        -2.50133149e-04, -1.04763326e-02,  5.57866345e-04,\n",
       "         0.00000000e+00, -2.18496127e-03,  0.00000000e+00,\n",
       "         2.09781299e-03,  0.00000000e+00,  0.00000000e+00,\n",
       "         1.17403188e-03,  2.44945408e-04,  0.00000000e+00,\n",
       "         0.00000000e+00, -2.45127629e-05,  5.17311912e-04,\n",
       "        -1.00042344e-03,  1.64172501e-04, -1.75404469e-04,\n",
       "         1.89618836e-03,  0.00000000e+00,  0.00000000e+00,\n",
       "         0.00000000e+00,  0.00000000e+00,  9.87505261e-05,\n",
       "         0.00000000e+00,  1.10280857e-03, -2.39291263e-02,\n",
       "         1.84066457e-02, -7.51106629e-03,  0.00000000e+00,\n",
       "         0.00000000e+00,  8.20879159e-05, -2.38075182e-04,\n",
       "         0.00000000e+00, -6.43113012e-04,  6.47742664e-03,\n",
       "         3.74867448e-05, -3.57632070e-04,  5.17662818e-03,\n",
       "        -3.92297382e-04,  0.00000000e+00, -1.18130684e-03,\n",
       "         1.15939729e-03, -1.13391180e-04, -3.83792022e-04,\n",
       "         0.00000000e+00, -7.34898803e-05, -2.89751451e-05,\n",
       "         0.00000000e+00, -2.67149453e-03,  4.28551006e-02,\n",
       "         1.17369941e-02,  1.89783309e-03, -2.75907548e-03,\n",
       "         4.73055221e-04, -4.13788399e-03, -1.92155456e-03,\n",
       "        -5.99268815e-05,  0.00000000e+00,  1.42874193e-03,\n",
       "         4.54992081e-04,  1.20589122e-03,  7.38416542e-04,\n",
       "         1.64688618e-02,  8.22559286e-04, -2.76082936e-03,\n",
       "        -4.38455885e-03, -1.31783651e-03,  1.17811325e-04,\n",
       "        -1.43218576e-02, -5.06595725e-04,  0.00000000e+00,\n",
       "         2.16095359e-04, -2.03119257e-04,  1.28951699e-02,\n",
       "        -7.46224765e-03, -3.16042055e-03, -7.49800097e-02,\n",
       "        -2.33042864e-03,  2.73179269e-04, -4.15040747e-06,\n",
       "         1.32692658e-04, -1.10270359e-03,  4.97680294e-04,\n",
       "         0.00000000e+00, -8.57989873e-04,  0.00000000e+00,\n",
       "         1.77494136e-04,  0.00000000e+00, -7.43840263e-05,\n",
       "        -9.97603990e-04,  0.00000000e+00,  0.00000000e+00,\n",
       "        -1.08784359e-04, -2.53838581e-04,  2.81518000e-04,\n",
       "        -4.71687020e-04,  3.16384355e-04, -1.15649503e-03,\n",
       "        -2.37413014e-04,  3.44327983e-04, -5.27176277e-05,\n",
       "         1.04704209e-04,  1.46690120e-04, -3.56085228e-05,\n",
       "        -8.32368987e-03, -2.31051544e-02,  0.00000000e+00,\n",
       "        -1.08538985e-03, -8.32869642e-03,  1.52705168e-03,\n",
       "         4.26077523e-02, -7.51878019e-05,  5.15293675e-05,\n",
       "        -1.16860591e-03, -8.34680086e-03,  5.26196634e-03,\n",
       "         0.00000000e+00,  0.00000000e+00,  0.00000000e+00,\n",
       "         1.57356110e-03,  0.00000000e+00, -1.01890262e-03,\n",
       "         0.00000000e+00,  0.00000000e+00,  0.00000000e+00,\n",
       "         9.34456050e-03,  3.03155403e-04, -5.97646110e-04,\n",
       "        -6.54902832e-02, -1.28693942e-04, -1.37153943e-03,\n",
       "        -3.36899727e-04,  1.24980091e-02,  1.11277647e-03,\n",
       "        -1.44602052e-02,  3.41053241e-02,  4.01911582e-03,\n",
       "        -5.55437101e-03, -2.40008429e-02,  6.86655367e-04,\n",
       "         0.00000000e+00, -1.78311447e-03, -1.31667691e-03,\n",
       "         3.60642739e-03, -1.73653499e-02,  1.11396432e-05,\n",
       "        -1.59041166e-03,  1.21803520e-01, -2.18140194e-02,\n",
       "         6.71629907e-02,  6.12334394e-03,  5.51995569e-03,\n",
       "        -1.96556677e-04, -1.10533808e-04, -2.59813308e-05,\n",
       "         0.00000000e+00,  3.35346855e-03, -6.33351321e-05,\n",
       "        -6.67516438e-04, -1.59493636e-03,  0.00000000e+00,\n",
       "        -2.12805641e-03,  2.95723121e-03,  0.00000000e+00,\n",
       "         4.28645785e-04,  7.69332978e-04,  5.57105478e-04,\n",
       "         0.00000000e+00,  0.00000000e+00,  0.00000000e+00,\n",
       "         0.00000000e+00, -1.08102341e-03,  0.00000000e+00,\n",
       "        -2.96991044e-04, -2.28019204e-04,  3.41399377e-04,\n",
       "         1.26429458e-03,  0.00000000e+00, -4.07897227e-04,\n",
       "         0.00000000e+00,  0.00000000e+00,  0.00000000e+00,\n",
       "         0.00000000e+00,  0.00000000e+00,  1.02841155e-04,\n",
       "         7.67033713e-04,  0.00000000e+00,  0.00000000e+00,\n",
       "         0.00000000e+00,  0.00000000e+00,  0.00000000e+00,\n",
       "         0.00000000e+00, -5.50306798e-05,  0.00000000e+00,\n",
       "        -7.63433624e-04, -4.17100496e-03,  0.00000000e+00,\n",
       "         0.00000000e+00,  0.00000000e+00,  0.00000000e+00,\n",
       "        -1.33913790e-03,  0.00000000e+00, -4.10643814e-04,\n",
       "         1.48676504e-04,  0.00000000e+00,  7.56679094e-05,\n",
       "         2.68781160e-04,  0.00000000e+00,  0.00000000e+00,\n",
       "         2.62159534e-03,  1.15004747e-02, -5.87140208e-04,\n",
       "         1.35851808e-04,  0.00000000e+00, -8.83132292e-03,\n",
       "         0.00000000e+00,  0.00000000e+00,  0.00000000e+00,\n",
       "         0.00000000e+00, -1.33771269e-02,  1.75445468e-03,\n",
       "         9.68430888e-05,  0.00000000e+00, -1.27528692e-03,\n",
       "        -4.75830175e-03,  2.33884212e-04, -1.32664973e-02,\n",
       "         0.00000000e+00,  0.00000000e+00,  0.00000000e+00,\n",
       "         0.00000000e+00,  3.92216506e-05,  0.00000000e+00,\n",
       "         0.00000000e+00, -5.02490622e-05,  0.00000000e+00,\n",
       "         0.00000000e+00,  0.00000000e+00,  0.00000000e+00,\n",
       "         1.63968095e-04, -5.24031112e-04,  1.91890967e-04,\n",
       "         0.00000000e+00,  0.00000000e+00, -1.36120374e-05,\n",
       "         0.00000000e+00,  0.00000000e+00,  0.00000000e+00,\n",
       "         0.00000000e+00,  2.97370657e-04,  1.29852963e-04,\n",
       "         0.00000000e+00,  0.00000000e+00,  0.00000000e+00,\n",
       "         0.00000000e+00,  1.26965457e-03,  1.23263957e-03,\n",
       "         0.00000000e+00,  0.00000000e+00,  0.00000000e+00,\n",
       "         0.00000000e+00,  0.00000000e+00,  0.00000000e+00,\n",
       "         0.00000000e+00, -6.11687003e-03,  0.00000000e+00,\n",
       "         4.40243732e-04,  0.00000000e+00,  0.00000000e+00,\n",
       "         0.00000000e+00,  0.00000000e+00,  0.00000000e+00,\n",
       "         0.00000000e+00,  0.00000000e+00,  0.00000000e+00,\n",
       "         0.00000000e+00,  0.00000000e+00,  0.00000000e+00,\n",
       "         0.00000000e+00,  0.00000000e+00,  0.00000000e+00,\n",
       "         0.00000000e+00,  0.00000000e+00,  0.00000000e+00,\n",
       "         0.00000000e+00, -2.05895415e-05,  0.00000000e+00,\n",
       "         0.00000000e+00,  0.00000000e+00,  0.00000000e+00,\n",
       "         0.00000000e+00,  0.00000000e+00, -2.67685995e-04]])"
      ]
     },
     "execution_count": 10,
     "metadata": {},
     "output_type": "execute_result"
    }
   ],
   "source": [
    "shap_values[1]"
   ]
  },
  {
   "cell_type": "code",
   "execution_count": null,
   "metadata": {},
   "outputs": [],
   "source": [
    "# X_array = X.values\n",
    "# shap_values = explainer.shap_values(X_array)\n",
    "import json\n",
    "import numpy as np\n",
    "\n",
    "class NumpyEncoder(json.JSONEncoder):\n",
    "    def default(self, obj):\n",
    "        if isinstance(obj, np.ndarray):\n",
    "            return obj.tolist()\n",
    "        return json.JSONEncoder.default(self, obj)\n",
    "    \n",
    "# Serialize Shapley values using the custom encoder\n",
    "# shap_values_json = json.dumps({'shap_values': shap_values_dict}, cls=NumpyEncoder)\n",
    "shap_values_json = json.dumps(shap_values_dict, cls=NumpyEncoder)"
   ]
  },
  {
   "cell_type": "code",
   "execution_count": null,
   "metadata": {},
   "outputs": [
    {
     "data": {
      "text/plain": [
       "'{\"shap_values\": [[-0.13772704139940112, 0.008457680770055816, -8.602041364610399e-05, 0.0, 0.00032278225980464175, -0.03711319243048115, -0.1680007033673694, 0.06079259074065294, 0.013574485265281145, -0.09318713582371108, -0.1332758331900685, -0.018326595863772388, -0.1025121749905523, 0.028189884079517533, 0.0, 0.0, -0.004387074258830336, 0.0, 0.004765479759820903, 0.0, -4.792344495370585e-05, -0.0014965251028659, -0.002121746924280719, 0.011130215291421282, 0.0002882318308464373, 0.0, 0.0, -0.007714312236165733, 0.0, 0.0, -0.1498366016799389, -0.47328468419157477, 0.8775235002898577, -0.005058168506619129, -0.0009712925909534074, 0.003794801976817622, -0.0019026311320304, -7.733915726114733e-05, -9.342283279822817e-06, -2.5716293668332083e-05, 0.00020899222986718087, 0.00022857278770336908, 0.0016999347316364135, -0.0012257286583986205, -0.0012287816157981971, 0.0, 0.0009837199004159047, -0.0022807381275565465, 8.215791664030388e-05, 0.0018056103767260952, 0.0, -0.001288661727903919, 0.0, 0.0, 0.0, -4.928357564483286e-05, 0.0021299854693991763, -0.0007019640684993858, -0.001232898308425057, -1.689826433452066e-05, 0.00043234313417011856, 0.0, 0.000105872741403346, -0.004557417644798624, 0.0, 0.0, -3.178464043435339e-05, 0.019328952471114713, -0.006857362069538265, 0.0, -0.00013455062899549725, -0.0005306035516796437, 0.0006749848732197765, 0.0, -0.000848919671859573, -0.018473588834767254, -0.0016279649305723216, -0.008759014141769038, 0.0, -0.012731137386024528, 0.01657609377129612, 0.0, 0.015265722203025746, 0.0, 0.0, 0.0, 0.0, 0.0, 0.0, 0.0, 0.0, 0.0, 0.0006410616427627176, 0.0, 0.0, 0.00037623932947825913, 0.0, 0.002308654696606704, 0.0, 0.0, 0.0, 0.0, 0.0, 0.0, 0.0003141906491971537, 0.004198205088832696, 0.00012965341751950226, 0.01222406241613468, 0.0, 0.0, 0.0, 0.0, 0.0, 0.0, 0.0, 0.0, 0.0, 0.0, 0.0, 0.0, 0.00781912776439171, 0.0, 0.0, -0.007506012526641716, 0.0, 0.023293997790634284, 0.0007552796036195662, 0.0, 0.0122781736119514, 0.0, 0.08639152883382117, 0.0, 0.0, 0.0, 0.0, 0.0, -0.001166936026754964, 0.0, 0.0, 0.0, 0.0, 0.00037617545359572746, 0.0, 0.0, 0.003261250218338811, -0.001510428138377588, 0.0, 0.0, 0.0, 0.0, 0.0, 0.0, -0.0003122816036853934, 0.0, 0.0, 0.0, 0.0, 0.0, 0.0, -7.710457808206999e-05, 0.0, 0.002725728082722674, 0.0, -9.4587202948865e-05, 0.0, 0.0, 0.0, 0.0, 0.0013637789527016558, 0.0, 0.0, -0.006050221038529931, 0.0, -0.002264319235066414, 0.0, 0.0, 0.0, 0.0, 0.0, 0.0, 0.0, 0.0, 0.0, 0.0, 0.0, 0.0, 0.0, 0.0, 0.0, 0.0, 0.0, 0.0, 0.002882251353552659, 0.0, 0.00028510680370678193, 0.0, 0.0, 0.0010901730148818853, 0.0, 0.0, 0.0003161882547409657, 0.0, -0.00016187528781784084, 0.0, -1.6593261304621914e-05, 0.003322594104937344, 0.0, 0.0014664806974993324, -0.0083633029300653, 0.0, 0.0, 0.0, 0.0002774244706061886, 0.0, 0.0, 0.0, 0.0, 0.0, 0.0, 0.0, -0.0006577192984582312, 0.0, 0.0, 0.0, 0.0, 0.0, 0.0, 0.0, 0.0, 0.0, 0.0, 0.0, 0.0, 0.0, 0.0, 0.0, -0.044178684424375114, 0.0, 0.0, 0.0, 0.014720454361122574, -0.015029142262558524, 0.02771677417517886, -0.030940361210212267, 0.01770405075460312, -0.0006702256774076907, -0.011035694774105915, 0.011441841568768216, 0.0002372364267260697, -0.00020117752494373375, -0.0006430732132322161, 0.0003422872919209795, 0.00225407660179547, 0.0, 0.0, 0.08473265855407877, 0.0023879080141207243, -0.01144807291288505, 0.01074466091489532, -0.001984097748004307, -0.026950211935989326, -0.0014757453928171363, -0.0006377477855151687, -0.0010219982466320484, 0.0, 0.0, -0.0005522145701146008, 0.0, 0.0011373117734790673, 0.0, -0.0021378003060397235, 0.0010906832433682004, 0.006540834352228625, 0.0, 0.014342971125802743, -1.9867339657784542e-05, 0.0, 0.0, 0.0, 0.0, 0.0, 0.0, 0.0002052096325530515, 0.0024961013539220775, 0.0, 0.0004655772504539417, 0.0, 0.0, 0.0, 0.0, 0.0, 0.0, -0.004637240958751917, 0.0, 0.004971395474913766, 0.0, 0.0, 0.0, 0.0011624847844187189, 0.047839881415886853, 0.0, 0.0, 0.0, 0.0, 0.0010553841405311105, 0.0, 0.0, -0.0004910520341460054, -0.02184102398899459, 0.0029048653191709683, -0.00011525606174211951, 0.02869937957769906, -0.027105608893596398, -0.03864229425503244, -0.001842330759847509, 0.0, 0.0, 0.11743546371764683, -0.014803302565905362, 0.009529333186096885, -0.010158004478541245, -0.01734244776268604, -0.013192381984268866, -0.0048448331417718414, -0.00043467958265167413, 0.010189112387949308, 0.009039755540947509, 0.0, 0.0027943266742697327, 0.0, -0.00030462862754918594, 0.0, -0.0002409198825249163, 0.0003450063958503261, -0.00037446186736230647, 0.03117314764755224, -3.522779465424455e-05, 0.018092126065785474, 9.177575367650663e-06, 0.0019615712485185136, 0.0004145645767391678, 0.0022358496027497636, 0.0, 0.0, 0.001282432640613556, -0.0006077892700732501, -0.008553220806221059, 0.016657295569894887, -0.0005691998598650256, 0.020758424356066212, 0.0, 0.0, -0.0004199648226403145, 0.0, 4.045486561033651e-05, -0.0002310103076092904, 0.0, 0.00023688580379106042, 0.0, 0.0004980593183666673, 0.0010601044414537194, -0.008802316884064526, 0.005270484691429926, 0.01600476596066431, 0.00022446483076241541, -0.002058353964777175, -0.0006236127936847819, -4.723122877083547e-05, 0.01013789842960826, -0.0022770898973417234, -0.017929615194476976, 0.006021417673335001, 0.024551345954115802, 0.005664113392938403, 0.0, 0.008282006869350341, -0.00039404877457442666, -3.710575151587148e-05, -0.002131472470718635, -0.026027729151352944, -1.5369009918266913e-05, 0.0004812948485078086, -0.00010681452297661793, 0.001969264821349325, -1.2005461827242021e-05, 0.0005670751248817658, 0.0022871991341735847, 0.013793276349325955, -0.056553923440576005, -0.03535540318200571, -0.004322426847477043, 0.0009977572252001725, 0.001239172460738222, 0.0, 0.0, 0.0, -0.0003595838365567795, 7.793425691689903e-05, -0.0008987119897599535, 0.0005211848347089713, -0.0012476460574467872, 0.0005607921329129565, 7.475713480950162e-05, 0.0, 0.0, 0.0, 0.0, 0.0, 0.0, 0.0, 0.0, 0.0, 0.0, 0.0, 0.0, 0.0, 0.0, 0.0001484167722188464, 0.0, 0.0, 0.0, 0.0, 0.0, 0.0, 0.0, 0.0, 0.0, 0.0, 0.0, 0.0, 0.0, -0.00027835801077583875, 0.0, 0.006816496443255579, -0.022720201179600902, -0.00565950409581545, 0.0, 0.0, -2.302417264378731e-05, 0.0, 0.0, 0.0002603510209931023, 0.0, 0.0, -1.779775582523337e-05, -0.00011825132486693331, 0.0017027782745017601, 0.0, 0.0, 6.802620364979549e-05, -0.01045175103014047, 0.0, 0.0, 0.0, -0.0005420577367689069, 0.0, 0.0, 0.0, -5.927078518163275e-05, 0.001689459751534286, 0.0008340307918591596, 0.0025174223412639542, 0.00026932753055014535, 0.0, 0.0, 0.0, 0.0, 0.0, -2.1675786805738e-05, 0.0, 0.00016959662726697197, -0.001031051101332131, -3.7552362662349474e-05, -0.0007661766153083575, -9.853419044698666e-05, 0.0, 0.0, 0.001553487611298738, 0.00037947278902558315, 0.0, 0.0, 0.0, 0.0, 0.0, 0.0, 0.0027126927246415326, 0.0, 0.0009757007783443931, 0.00022737483663529882, 0.0002759259036777395, -0.0005527321089453636, 0.0, 0.0, 0.0003650731859589153, 0.0, -0.0011668216677329312, 0.0, 0.0013359408616728078, -0.012909065614393127, 0.0, 0.0, -0.00025013314900886843, -0.010476332592433864, 0.000557866345466393, 0.0, -0.0021849612707789353, 0.0, 0.0020978129851271007, 0.0, 0.0, 0.001174031882037355, 0.0002449454082620752, 0.0, 0.0, -2.4512762865933715e-05, 0.0005173119122117753, -0.001000423444582899, 0.00016417250096721994, -0.00017540446928153232, 0.001896188360899594, 0.0, 0.0, 0.0, 0.0, 9.875052613609819e-05, 0.0, 0.001102808565656184, -0.023929126251237425, 0.018406645658601287, -0.007511066291160584, 0.0, 0.0, 8.208791587369794e-05, -0.0002380751820153892, 0.0, -0.0006431130116757705, 0.006477426643281878, 3.748674480890009e-05, -0.00035763207004449373, 0.005176628176592651, -0.0003922973820265715, 0.0, -0.0011813068372431013, 0.0011593972903566354, -0.00011339118003640908, -0.0003837920221650765, 0.0, -7.348988029826207e-05, -2.8975145098036104e-05, 0.0, -0.002671494530939197, 0.0428551006251617, 0.011736994097349737, 0.0018978330945814636, -0.0027590754800850634, 0.00047305522119467537, -0.004137883985891483, -0.0019215545570839192, -5.992688152293339e-05, 0.0, 0.0014287419320984744, 0.00045499208112092496, 0.001205891219256079, 0.0007384165424357306, 0.01646886184321463, 0.0008225592856777719, -0.002760829360882005, -0.0043845588471328086, -0.0013178365135282067, 0.000117811325062976, -0.014321857594169273, -0.0005065957248461478, 0.0, 0.00021609535893348132, -0.00020311925687652413, 0.012895169939663675, -0.007462247651622362, -0.0031604205546811323, -0.07498000973264447, -0.002330428644876037, 0.0002731792693009442, -4.150407465762605e-06, 0.00013269265841719951, -0.0011027035934501749, 0.0004976802941041379, 0.0, -0.0008579898729082459, 0.0, 0.00017749413559698114, 0.0, -7.438402633957542e-05, -0.00099760398994888, 0.0, 0.0, -0.00010878435915888531, -0.00025383858076637856, 0.0002815180002803528, -0.0004716870204464, 0.00031638435487667537, -0.0011564950264682182, -0.0002374130138976936, 0.0003443279829801699, -5.271762770053398e-05, 0.00010470420862992333, 0.0001466901195668657, -3.560852281473648e-05, -0.008323689870077804, -0.023105154357945974, 0.0, -0.001085389852251132, -0.008328696417096944, 0.0015270516841741418, 0.04260775232893554, -7.51878018574437e-05, 5.152936751020144e-05, -0.0011686059094863093, -0.00834680086000779, 0.00526196634402164, 0.0, 0.0, 0.0, 0.0015735610956300764, 0.0, -0.001018902619930084, 0.0, 0.0, 0.0, 0.009344560496025622, 0.00030315540262963053, -0.0005976461098161338, -0.06549028319145991, -0.00012869394160049471, -0.0013715394271975366, -0.0003368997266382739, 0.012498009145373553, 0.0011127764675706862, -0.01446020520235256, 0.034105324141455284, 0.0040191158199396355, -0.005554371006842029, -0.024000842865250442, 0.0006866553665367038, 0.0, -0.0017831144732572697, -0.001316676905581046, 0.0036064273881437903, -0.017365349906621155, 1.11396431970983e-05, -0.0015904116608694225, 0.12180352039869329, -0.021814019447708517, 0.06716299069893532, 0.006123343940702716, 0.005519955694725521, -0.00019655667727195856, -0.00011053380798063043, -2.5981330794802534e-05, 0.0, 0.0033534685528635983, -6.333513210840094e-05, -0.0006675164384725606, -0.0015949363643466856, 0.0, -0.002128056414089681, 0.0029572312142438833, 0.0, 0.00042864578543886744, 0.000769332977949637, 0.0005571054784367661, 0.0, 0.0, 0.0, 0.0, -0.0010810234142270914, 0.0, -0.0002969910440979025, -0.00022801920413969957, 0.0003413993768575051, 0.0012642945824546039, 0.0, -0.0004078972267496432, 0.0, 0.0, 0.0, 0.0, 0.0, 0.00010284115467888304, 0.0007670337128128893, 0.0, 0.0, 0.0, 0.0, 0.0, 0.0, -5.503067977090635e-05, 0.0, -0.0007634336240158854, -0.0041710049637397485, 0.0, 0.0, 0.0, 0.0, -0.001339137902048631, 0.0, -0.00041064381397155816, 0.00014867650411526216, 0.0, 7.566790943627406e-05, 0.000268781159838657, 0.0, 0.0, 0.0026215953355633458, 0.011500474676846463, -0.0005871402077828059, 0.0001358518077638319, 0.0, -0.008831322921650196, 0.0, 0.0, 0.0, 0.0, -0.013377126949197963, 0.0017544546797766854, 9.684308877777805e-05, 0.0, -0.0012752869192017185, -0.004758301750868567, 0.000233884211859198, -0.013266497313556514, 0.0, 0.0, 0.0, 0.0, 3.922165064093732e-05, 0.0, 0.0, -5.024906222846037e-05, 0.0, 0.0, 0.0, 0.0, 0.00016396809474573596, -0.0005240311116163016, 0.00019189096746374806, 0.0, 0.0, -1.361203738078501e-05, 0.0, 0.0, 0.0, 0.0, 0.00029737065681776796, 0.00012985296338891296, 0.0, 0.0, 0.0, 0.0, 0.0012696545730898868, 0.0012326395730046535, 0.0, 0.0, 0.0, 0.0, 0.0, 0.0, 0.0, -0.006116870026270196, 0.0, 0.00044024373162152833, 0.0, 0.0, 0.0, 0.0, 0.0, 0.0, 0.0, 0.0, 0.0, 0.0, 0.0, 0.0, 0.0, 0.0, 0.0, 0.0, 0.0, 0.0, -2.05895415125497e-05, 0.0, 0.0, 0.0, 0.0, 0.0, 0.0, -0.0002676859946481757]]}'"
      ]
     },
     "execution_count": 12,
     "metadata": {},
     "output_type": "execute_result"
    }
   ],
   "source": [
    "shap_values_json"
   ]
  },
  {
   "cell_type": "code",
   "execution_count": null,
   "metadata": {},
   "outputs": [
    {
     "data": {
      "text/plain": [
       "list"
      ]
     },
     "execution_count": 13,
     "metadata": {},
     "output_type": "execute_result"
    }
   ],
   "source": [
    "test_shap_loads = json.loads(shap_values_json)\n",
    "type(test_shap_loads['shap_values'])"
   ]
  },
  {
   "cell_type": "code",
   "execution_count": null,
   "metadata": {},
   "outputs": [
    {
     "data": {
      "text/plain": [
       "dict"
      ]
     },
     "execution_count": 16,
     "metadata": {},
     "output_type": "execute_result"
    }
   ],
   "source": [
    "# Convertire un liste d'array en object array\n",
    "def numpy_hook(dct):\n",
    "    for key, value in dct.items():\n",
    "        if isinstance(value, list):\n",
    "            dct[key] = np.array(value)\n",
    "    return dct\n",
    "\n",
    "# Reconvertir le JSON en dictionnaire en utilisant le hook numpy_hook\n",
    "dictionnaire_resultat_json = json.loads(shap_values_json, object_hook=numpy_hook)\n",
    "type(dictionnaire_resultat_json)"
   ]
  },
  {
   "cell_type": "code",
   "execution_count": null,
   "metadata": {},
   "outputs": [],
   "source": [
    "shap_values = dictionnaire_resultat_json[\"shap_values\"]\n",
    "# shap_values = shap_values.reshape(1,-1)\n",
    "# shap_plot = shap.summary_plot(shap_values, X, feature_names=X.columns,plot_type='bar')"
   ]
  },
  {
   "cell_type": "code",
   "execution_count": null,
   "metadata": {},
   "outputs": [
    {
     "data": {
      "application/vnd.plotly.v1+json": {
       "config": {
        "plotlyServerURL": "https://plot.ly"
       },
       "data": [
        {
         "alignmentgroup": "True",
         "hovertemplate": "variable=0<br>Feature=%{x}<br>Mean SHAP Value=%{y}<extra></extra>",
         "legendgroup": "0",
         "marker": {
          "color": "#636efa",
          "pattern": {
           "shape": ""
          }
         },
         "name": "0",
         "offsetgroup": "0",
         "orientation": "v",
         "showlegend": true,
         "textposition": "auto",
         "type": "bar",
         "x": [
          "EXT_SOURCE_3",
          "EXT_SOURCE_2",
          "AMT_ANNUITY",
          "EXT_SOURCE_1",
          "CODE_GENDER",
          "DAYS_EMPLOYED",
          "INSTAL_AMT_PAYMENT_SUM",
          "ACTIVE_AMT_CREDIT_MAX_OVERDUE_MEAN",
          "DAYS_ID_PUBLISH",
          "DAYS_BIRTH",
          "NAME_FAMILY_STATUS_Married",
          "BURO_AMT_CREDIT_MAX_OVERDUE_MEAN",
          "APPROVED_CNT_PAYMENT_MEAN",
          "INSTAL_DAYS_ENTRY_PAYMENT_MEAN",
          "INSTAL_DPD_MEAN",
          "AMT_GOODS_PRICE",
          "PREV_DAYS_DECISION_MEAN",
          "BURO_STATUS_1_MEAN_MEAN",
          "WALLSMATERIAL_MODE_Stonebrick",
          "APPROVED_AMT_ANNUITY_MAX"
         ],
         "xaxis": "x",
         "y": [
          0.8775235002898577,
          0.47328468419157477,
          0.1680007033673694,
          0.1498366016799389,
          0.13772704139940112,
          0.1332758331900685,
          0.12180352039869329,
          0.11743546371764683,
          0.1025121749905523,
          0.09318713582371108,
          0.08639152883382117,
          0.08473265855407877,
          0.07498000973264447,
          0.06716299069893532,
          0.06549028319145991,
          0.06079259074065294,
          0.056553923440576005,
          0.047839881415886853,
          0.044178684424375114,
          0.0428551006251617
         ],
         "yaxis": "y"
        }
       ],
       "layout": {
        "barmode": "relative",
        "legend": {
         "title": {
          "text": "variable"
         },
         "tracegroupgap": 0
        },
        "template": {
         "data": {
          "bar": [
           {
            "error_x": {
             "color": "#2a3f5f"
            },
            "error_y": {
             "color": "#2a3f5f"
            },
            "marker": {
             "line": {
              "color": "#E5ECF6",
              "width": 0.5
             },
             "pattern": {
              "fillmode": "overlay",
              "size": 10,
              "solidity": 0.2
             }
            },
            "type": "bar"
           }
          ],
          "barpolar": [
           {
            "marker": {
             "line": {
              "color": "#E5ECF6",
              "width": 0.5
             },
             "pattern": {
              "fillmode": "overlay",
              "size": 10,
              "solidity": 0.2
             }
            },
            "type": "barpolar"
           }
          ],
          "carpet": [
           {
            "aaxis": {
             "endlinecolor": "#2a3f5f",
             "gridcolor": "white",
             "linecolor": "white",
             "minorgridcolor": "white",
             "startlinecolor": "#2a3f5f"
            },
            "baxis": {
             "endlinecolor": "#2a3f5f",
             "gridcolor": "white",
             "linecolor": "white",
             "minorgridcolor": "white",
             "startlinecolor": "#2a3f5f"
            },
            "type": "carpet"
           }
          ],
          "choropleth": [
           {
            "colorbar": {
             "outlinewidth": 0,
             "ticks": ""
            },
            "type": "choropleth"
           }
          ],
          "contour": [
           {
            "colorbar": {
             "outlinewidth": 0,
             "ticks": ""
            },
            "colorscale": [
             [
              0,
              "#0d0887"
             ],
             [
              0.1111111111111111,
              "#46039f"
             ],
             [
              0.2222222222222222,
              "#7201a8"
             ],
             [
              0.3333333333333333,
              "#9c179e"
             ],
             [
              0.4444444444444444,
              "#bd3786"
             ],
             [
              0.5555555555555556,
              "#d8576b"
             ],
             [
              0.6666666666666666,
              "#ed7953"
             ],
             [
              0.7777777777777778,
              "#fb9f3a"
             ],
             [
              0.8888888888888888,
              "#fdca26"
             ],
             [
              1,
              "#f0f921"
             ]
            ],
            "type": "contour"
           }
          ],
          "contourcarpet": [
           {
            "colorbar": {
             "outlinewidth": 0,
             "ticks": ""
            },
            "type": "contourcarpet"
           }
          ],
          "heatmap": [
           {
            "colorbar": {
             "outlinewidth": 0,
             "ticks": ""
            },
            "colorscale": [
             [
              0,
              "#0d0887"
             ],
             [
              0.1111111111111111,
              "#46039f"
             ],
             [
              0.2222222222222222,
              "#7201a8"
             ],
             [
              0.3333333333333333,
              "#9c179e"
             ],
             [
              0.4444444444444444,
              "#bd3786"
             ],
             [
              0.5555555555555556,
              "#d8576b"
             ],
             [
              0.6666666666666666,
              "#ed7953"
             ],
             [
              0.7777777777777778,
              "#fb9f3a"
             ],
             [
              0.8888888888888888,
              "#fdca26"
             ],
             [
              1,
              "#f0f921"
             ]
            ],
            "type": "heatmap"
           }
          ],
          "heatmapgl": [
           {
            "colorbar": {
             "outlinewidth": 0,
             "ticks": ""
            },
            "colorscale": [
             [
              0,
              "#0d0887"
             ],
             [
              0.1111111111111111,
              "#46039f"
             ],
             [
              0.2222222222222222,
              "#7201a8"
             ],
             [
              0.3333333333333333,
              "#9c179e"
             ],
             [
              0.4444444444444444,
              "#bd3786"
             ],
             [
              0.5555555555555556,
              "#d8576b"
             ],
             [
              0.6666666666666666,
              "#ed7953"
             ],
             [
              0.7777777777777778,
              "#fb9f3a"
             ],
             [
              0.8888888888888888,
              "#fdca26"
             ],
             [
              1,
              "#f0f921"
             ]
            ],
            "type": "heatmapgl"
           }
          ],
          "histogram": [
           {
            "marker": {
             "pattern": {
              "fillmode": "overlay",
              "size": 10,
              "solidity": 0.2
             }
            },
            "type": "histogram"
           }
          ],
          "histogram2d": [
           {
            "colorbar": {
             "outlinewidth": 0,
             "ticks": ""
            },
            "colorscale": [
             [
              0,
              "#0d0887"
             ],
             [
              0.1111111111111111,
              "#46039f"
             ],
             [
              0.2222222222222222,
              "#7201a8"
             ],
             [
              0.3333333333333333,
              "#9c179e"
             ],
             [
              0.4444444444444444,
              "#bd3786"
             ],
             [
              0.5555555555555556,
              "#d8576b"
             ],
             [
              0.6666666666666666,
              "#ed7953"
             ],
             [
              0.7777777777777778,
              "#fb9f3a"
             ],
             [
              0.8888888888888888,
              "#fdca26"
             ],
             [
              1,
              "#f0f921"
             ]
            ],
            "type": "histogram2d"
           }
          ],
          "histogram2dcontour": [
           {
            "colorbar": {
             "outlinewidth": 0,
             "ticks": ""
            },
            "colorscale": [
             [
              0,
              "#0d0887"
             ],
             [
              0.1111111111111111,
              "#46039f"
             ],
             [
              0.2222222222222222,
              "#7201a8"
             ],
             [
              0.3333333333333333,
              "#9c179e"
             ],
             [
              0.4444444444444444,
              "#bd3786"
             ],
             [
              0.5555555555555556,
              "#d8576b"
             ],
             [
              0.6666666666666666,
              "#ed7953"
             ],
             [
              0.7777777777777778,
              "#fb9f3a"
             ],
             [
              0.8888888888888888,
              "#fdca26"
             ],
             [
              1,
              "#f0f921"
             ]
            ],
            "type": "histogram2dcontour"
           }
          ],
          "mesh3d": [
           {
            "colorbar": {
             "outlinewidth": 0,
             "ticks": ""
            },
            "type": "mesh3d"
           }
          ],
          "parcoords": [
           {
            "line": {
             "colorbar": {
              "outlinewidth": 0,
              "ticks": ""
             }
            },
            "type": "parcoords"
           }
          ],
          "pie": [
           {
            "automargin": true,
            "type": "pie"
           }
          ],
          "scatter": [
           {
            "fillpattern": {
             "fillmode": "overlay",
             "size": 10,
             "solidity": 0.2
            },
            "type": "scatter"
           }
          ],
          "scatter3d": [
           {
            "line": {
             "colorbar": {
              "outlinewidth": 0,
              "ticks": ""
             }
            },
            "marker": {
             "colorbar": {
              "outlinewidth": 0,
              "ticks": ""
             }
            },
            "type": "scatter3d"
           }
          ],
          "scattercarpet": [
           {
            "marker": {
             "colorbar": {
              "outlinewidth": 0,
              "ticks": ""
             }
            },
            "type": "scattercarpet"
           }
          ],
          "scattergeo": [
           {
            "marker": {
             "colorbar": {
              "outlinewidth": 0,
              "ticks": ""
             }
            },
            "type": "scattergeo"
           }
          ],
          "scattergl": [
           {
            "marker": {
             "colorbar": {
              "outlinewidth": 0,
              "ticks": ""
             }
            },
            "type": "scattergl"
           }
          ],
          "scattermapbox": [
           {
            "marker": {
             "colorbar": {
              "outlinewidth": 0,
              "ticks": ""
             }
            },
            "type": "scattermapbox"
           }
          ],
          "scatterpolar": [
           {
            "marker": {
             "colorbar": {
              "outlinewidth": 0,
              "ticks": ""
             }
            },
            "type": "scatterpolar"
           }
          ],
          "scatterpolargl": [
           {
            "marker": {
             "colorbar": {
              "outlinewidth": 0,
              "ticks": ""
             }
            },
            "type": "scatterpolargl"
           }
          ],
          "scatterternary": [
           {
            "marker": {
             "colorbar": {
              "outlinewidth": 0,
              "ticks": ""
             }
            },
            "type": "scatterternary"
           }
          ],
          "surface": [
           {
            "colorbar": {
             "outlinewidth": 0,
             "ticks": ""
            },
            "colorscale": [
             [
              0,
              "#0d0887"
             ],
             [
              0.1111111111111111,
              "#46039f"
             ],
             [
              0.2222222222222222,
              "#7201a8"
             ],
             [
              0.3333333333333333,
              "#9c179e"
             ],
             [
              0.4444444444444444,
              "#bd3786"
             ],
             [
              0.5555555555555556,
              "#d8576b"
             ],
             [
              0.6666666666666666,
              "#ed7953"
             ],
             [
              0.7777777777777778,
              "#fb9f3a"
             ],
             [
              0.8888888888888888,
              "#fdca26"
             ],
             [
              1,
              "#f0f921"
             ]
            ],
            "type": "surface"
           }
          ],
          "table": [
           {
            "cells": {
             "fill": {
              "color": "#EBF0F8"
             },
             "line": {
              "color": "white"
             }
            },
            "header": {
             "fill": {
              "color": "#C8D4E3"
             },
             "line": {
              "color": "white"
             }
            },
            "type": "table"
           }
          ]
         },
         "layout": {
          "annotationdefaults": {
           "arrowcolor": "#2a3f5f",
           "arrowhead": 0,
           "arrowwidth": 1
          },
          "autotypenumbers": "strict",
          "coloraxis": {
           "colorbar": {
            "outlinewidth": 0,
            "ticks": ""
           }
          },
          "colorscale": {
           "diverging": [
            [
             0,
             "#8e0152"
            ],
            [
             0.1,
             "#c51b7d"
            ],
            [
             0.2,
             "#de77ae"
            ],
            [
             0.3,
             "#f1b6da"
            ],
            [
             0.4,
             "#fde0ef"
            ],
            [
             0.5,
             "#f7f7f7"
            ],
            [
             0.6,
             "#e6f5d0"
            ],
            [
             0.7,
             "#b8e186"
            ],
            [
             0.8,
             "#7fbc41"
            ],
            [
             0.9,
             "#4d9221"
            ],
            [
             1,
             "#276419"
            ]
           ],
           "sequential": [
            [
             0,
             "#0d0887"
            ],
            [
             0.1111111111111111,
             "#46039f"
            ],
            [
             0.2222222222222222,
             "#7201a8"
            ],
            [
             0.3333333333333333,
             "#9c179e"
            ],
            [
             0.4444444444444444,
             "#bd3786"
            ],
            [
             0.5555555555555556,
             "#d8576b"
            ],
            [
             0.6666666666666666,
             "#ed7953"
            ],
            [
             0.7777777777777778,
             "#fb9f3a"
            ],
            [
             0.8888888888888888,
             "#fdca26"
            ],
            [
             1,
             "#f0f921"
            ]
           ],
           "sequentialminus": [
            [
             0,
             "#0d0887"
            ],
            [
             0.1111111111111111,
             "#46039f"
            ],
            [
             0.2222222222222222,
             "#7201a8"
            ],
            [
             0.3333333333333333,
             "#9c179e"
            ],
            [
             0.4444444444444444,
             "#bd3786"
            ],
            [
             0.5555555555555556,
             "#d8576b"
            ],
            [
             0.6666666666666666,
             "#ed7953"
            ],
            [
             0.7777777777777778,
             "#fb9f3a"
            ],
            [
             0.8888888888888888,
             "#fdca26"
            ],
            [
             1,
             "#f0f921"
            ]
           ]
          },
          "colorway": [
           "#636efa",
           "#EF553B",
           "#00cc96",
           "#ab63fa",
           "#FFA15A",
           "#19d3f3",
           "#FF6692",
           "#B6E880",
           "#FF97FF",
           "#FECB52"
          ],
          "font": {
           "color": "#2a3f5f"
          },
          "geo": {
           "bgcolor": "white",
           "lakecolor": "white",
           "landcolor": "#E5ECF6",
           "showlakes": true,
           "showland": true,
           "subunitcolor": "white"
          },
          "hoverlabel": {
           "align": "left"
          },
          "hovermode": "closest",
          "mapbox": {
           "style": "light"
          },
          "paper_bgcolor": "white",
          "plot_bgcolor": "#E5ECF6",
          "polar": {
           "angularaxis": {
            "gridcolor": "white",
            "linecolor": "white",
            "ticks": ""
           },
           "bgcolor": "#E5ECF6",
           "radialaxis": {
            "gridcolor": "white",
            "linecolor": "white",
            "ticks": ""
           }
          },
          "scene": {
           "xaxis": {
            "backgroundcolor": "#E5ECF6",
            "gridcolor": "white",
            "gridwidth": 2,
            "linecolor": "white",
            "showbackground": true,
            "ticks": "",
            "zerolinecolor": "white"
           },
           "yaxis": {
            "backgroundcolor": "#E5ECF6",
            "gridcolor": "white",
            "gridwidth": 2,
            "linecolor": "white",
            "showbackground": true,
            "ticks": "",
            "zerolinecolor": "white"
           },
           "zaxis": {
            "backgroundcolor": "#E5ECF6",
            "gridcolor": "white",
            "gridwidth": 2,
            "linecolor": "white",
            "showbackground": true,
            "ticks": "",
            "zerolinecolor": "white"
           }
          },
          "shapedefaults": {
           "line": {
            "color": "#2a3f5f"
           }
          },
          "ternary": {
           "aaxis": {
            "gridcolor": "white",
            "linecolor": "white",
            "ticks": ""
           },
           "baxis": {
            "gridcolor": "white",
            "linecolor": "white",
            "ticks": ""
           },
           "bgcolor": "#E5ECF6",
           "caxis": {
            "gridcolor": "white",
            "linecolor": "white",
            "ticks": ""
           }
          },
          "title": {
           "x": 0.05
          },
          "xaxis": {
           "automargin": true,
           "gridcolor": "white",
           "linecolor": "white",
           "ticks": "",
           "title": {
            "standoff": 15
           },
           "zerolinecolor": "white",
           "zerolinewidth": 2
          },
          "yaxis": {
           "automargin": true,
           "gridcolor": "white",
           "linecolor": "white",
           "ticks": "",
           "title": {
            "standoff": 15
           },
           "zerolinecolor": "white",
           "zerolinewidth": 2
          }
         }
        },
        "title": {
         "text": "<b>Top 20 des variables prédictives par SHAP Value</b><br><sup>lecture : variables qui ont le plus d'influence sur la probabilité de faire défault </sup>"
        },
        "xaxis": {
         "anchor": "y",
         "domain": [
          0,
          1
         ],
         "title": {
          "text": ""
         }
        },
        "yaxis": {
         "anchor": "x",
         "domain": [
          0,
          1
         ],
         "title": {
          "text": "Importance"
         }
        }
       }
      }
     },
     "metadata": {},
     "output_type": "display_data"
    }
   ],
   "source": [
    "# Création d'un DataFrame pandas avec les valeurs SHAP\n",
    "shap_df = pd.DataFrame(shap_values, columns=X.columns)\n",
    "\n",
    "# Calcul de la moyenne des valeurs SHAP absolues pour chaque caractéristique\n",
    "mean_shap_values = shap_df.abs().mean()\n",
    "\n",
    "# Sélection des dix caractéristiques les plus prédictives\n",
    "top_features = mean_shap_values.nlargest(20).index\n",
    "\n",
    "# Création d'un graphique interactif avec plotly express pour les dix caractéristiques\n",
    "fig = px.bar(\n",
    "    mean_shap_values[top_features],\n",
    "    title=\"<b>Top 20 des variables prédictives par SHAP Value</b><br><sup>lecture : variables qui ont le plus d'influence sur la probabilité de faire défault </sup>\",\n",
    "    labels={'value': 'Mean SHAP Value', 'index': 'Feature'}\n",
    "    )\n",
    "fig.update_layout(xaxis_title=\"\", yaxis_title=\"Importance\")\n",
    "fig.show()"
   ]
  },
  {
   "cell_type": "code",
   "execution_count": null,
   "metadata": {},
   "outputs": [],
   "source": [
    "# shap_df[top_features].plot(kind=\"bar\",legend=False)"
   ]
  },
  {
   "cell_type": "code",
   "execution_count": null,
   "metadata": {},
   "outputs": [
    {
     "data": {
      "application/vnd.plotly.v1+json": {
       "config": {
        "plotlyServerURL": "https://plot.ly"
       },
       "data": [
        {
         "alignmentgroup": "True",
         "hovertemplate": "variable=EXT_SOURCE_3<br>Feature=%{x}<br>SHAP Value=%{y}<extra></extra>",
         "legendgroup": "EXT_SOURCE_3",
         "marker": {
          "color": "#636efa",
          "pattern": {
           "shape": ""
          }
         },
         "name": "EXT_SOURCE_3",
         "offsetgroup": "EXT_SOURCE_3",
         "orientation": "v",
         "showlegend": true,
         "textposition": "auto",
         "type": "bar",
         "x": [
          0
         ],
         "xaxis": "x",
         "y": [
          0.8775235002898577
         ],
         "yaxis": "y"
        },
        {
         "alignmentgroup": "True",
         "hovertemplate": "variable=EXT_SOURCE_2<br>Feature=%{x}<br>SHAP Value=%{y}<extra></extra>",
         "legendgroup": "EXT_SOURCE_2",
         "marker": {
          "color": "#EF553B",
          "pattern": {
           "shape": ""
          }
         },
         "name": "EXT_SOURCE_2",
         "offsetgroup": "EXT_SOURCE_2",
         "orientation": "v",
         "showlegend": true,
         "textposition": "auto",
         "type": "bar",
         "x": [
          0
         ],
         "xaxis": "x",
         "y": [
          -0.47328468419157477
         ],
         "yaxis": "y"
        },
        {
         "alignmentgroup": "True",
         "hovertemplate": "variable=AMT_ANNUITY<br>Feature=%{x}<br>SHAP Value=%{y}<extra></extra>",
         "legendgroup": "AMT_ANNUITY",
         "marker": {
          "color": "#00cc96",
          "pattern": {
           "shape": ""
          }
         },
         "name": "AMT_ANNUITY",
         "offsetgroup": "AMT_ANNUITY",
         "orientation": "v",
         "showlegend": true,
         "textposition": "auto",
         "type": "bar",
         "x": [
          0
         ],
         "xaxis": "x",
         "y": [
          -0.1680007033673694
         ],
         "yaxis": "y"
        },
        {
         "alignmentgroup": "True",
         "hovertemplate": "variable=EXT_SOURCE_1<br>Feature=%{x}<br>SHAP Value=%{y}<extra></extra>",
         "legendgroup": "EXT_SOURCE_1",
         "marker": {
          "color": "#ab63fa",
          "pattern": {
           "shape": ""
          }
         },
         "name": "EXT_SOURCE_1",
         "offsetgroup": "EXT_SOURCE_1",
         "orientation": "v",
         "showlegend": true,
         "textposition": "auto",
         "type": "bar",
         "x": [
          0
         ],
         "xaxis": "x",
         "y": [
          -0.1498366016799389
         ],
         "yaxis": "y"
        },
        {
         "alignmentgroup": "True",
         "hovertemplate": "variable=CODE_GENDER<br>Feature=%{x}<br>SHAP Value=%{y}<extra></extra>",
         "legendgroup": "CODE_GENDER",
         "marker": {
          "color": "#FFA15A",
          "pattern": {
           "shape": ""
          }
         },
         "name": "CODE_GENDER",
         "offsetgroup": "CODE_GENDER",
         "orientation": "v",
         "showlegend": true,
         "textposition": "auto",
         "type": "bar",
         "x": [
          0
         ],
         "xaxis": "x",
         "y": [
          -0.13772704139940112
         ],
         "yaxis": "y"
        },
        {
         "alignmentgroup": "True",
         "hovertemplate": "variable=DAYS_EMPLOYED<br>Feature=%{x}<br>SHAP Value=%{y}<extra></extra>",
         "legendgroup": "DAYS_EMPLOYED",
         "marker": {
          "color": "#19d3f3",
          "pattern": {
           "shape": ""
          }
         },
         "name": "DAYS_EMPLOYED",
         "offsetgroup": "DAYS_EMPLOYED",
         "orientation": "v",
         "showlegend": true,
         "textposition": "auto",
         "type": "bar",
         "x": [
          0
         ],
         "xaxis": "x",
         "y": [
          -0.1332758331900685
         ],
         "yaxis": "y"
        },
        {
         "alignmentgroup": "True",
         "hovertemplate": "variable=INSTAL_AMT_PAYMENT_SUM<br>Feature=%{x}<br>SHAP Value=%{y}<extra></extra>",
         "legendgroup": "INSTAL_AMT_PAYMENT_SUM",
         "marker": {
          "color": "#FF6692",
          "pattern": {
           "shape": ""
          }
         },
         "name": "INSTAL_AMT_PAYMENT_SUM",
         "offsetgroup": "INSTAL_AMT_PAYMENT_SUM",
         "orientation": "v",
         "showlegend": true,
         "textposition": "auto",
         "type": "bar",
         "x": [
          0
         ],
         "xaxis": "x",
         "y": [
          0.12180352039869329
         ],
         "yaxis": "y"
        },
        {
         "alignmentgroup": "True",
         "hovertemplate": "variable=ACTIVE_AMT_CREDIT_MAX_OVERDUE_MEAN<br>Feature=%{x}<br>SHAP Value=%{y}<extra></extra>",
         "legendgroup": "ACTIVE_AMT_CREDIT_MAX_OVERDUE_MEAN",
         "marker": {
          "color": "#B6E880",
          "pattern": {
           "shape": ""
          }
         },
         "name": "ACTIVE_AMT_CREDIT_MAX_OVERDUE_MEAN",
         "offsetgroup": "ACTIVE_AMT_CREDIT_MAX_OVERDUE_MEAN",
         "orientation": "v",
         "showlegend": true,
         "textposition": "auto",
         "type": "bar",
         "x": [
          0
         ],
         "xaxis": "x",
         "y": [
          0.11743546371764683
         ],
         "yaxis": "y"
        },
        {
         "alignmentgroup": "True",
         "hovertemplate": "variable=DAYS_ID_PUBLISH<br>Feature=%{x}<br>SHAP Value=%{y}<extra></extra>",
         "legendgroup": "DAYS_ID_PUBLISH",
         "marker": {
          "color": "#FF97FF",
          "pattern": {
           "shape": ""
          }
         },
         "name": "DAYS_ID_PUBLISH",
         "offsetgroup": "DAYS_ID_PUBLISH",
         "orientation": "v",
         "showlegend": true,
         "textposition": "auto",
         "type": "bar",
         "x": [
          0
         ],
         "xaxis": "x",
         "y": [
          -0.1025121749905523
         ],
         "yaxis": "y"
        },
        {
         "alignmentgroup": "True",
         "hovertemplate": "variable=DAYS_BIRTH<br>Feature=%{x}<br>SHAP Value=%{y}<extra></extra>",
         "legendgroup": "DAYS_BIRTH",
         "marker": {
          "color": "#FECB52",
          "pattern": {
           "shape": ""
          }
         },
         "name": "DAYS_BIRTH",
         "offsetgroup": "DAYS_BIRTH",
         "orientation": "v",
         "showlegend": true,
         "textposition": "auto",
         "type": "bar",
         "x": [
          0
         ],
         "xaxis": "x",
         "y": [
          -0.09318713582371108
         ],
         "yaxis": "y"
        },
        {
         "alignmentgroup": "True",
         "hovertemplate": "variable=NAME_FAMILY_STATUS_Married<br>Feature=%{x}<br>SHAP Value=%{y}<extra></extra>",
         "legendgroup": "NAME_FAMILY_STATUS_Married",
         "marker": {
          "color": "#636efa",
          "pattern": {
           "shape": ""
          }
         },
         "name": "NAME_FAMILY_STATUS_Married",
         "offsetgroup": "NAME_FAMILY_STATUS_Married",
         "orientation": "v",
         "showlegend": true,
         "textposition": "auto",
         "type": "bar",
         "x": [
          0
         ],
         "xaxis": "x",
         "y": [
          0.08639152883382117
         ],
         "yaxis": "y"
        },
        {
         "alignmentgroup": "True",
         "hovertemplate": "variable=BURO_AMT_CREDIT_MAX_OVERDUE_MEAN<br>Feature=%{x}<br>SHAP Value=%{y}<extra></extra>",
         "legendgroup": "BURO_AMT_CREDIT_MAX_OVERDUE_MEAN",
         "marker": {
          "color": "#EF553B",
          "pattern": {
           "shape": ""
          }
         },
         "name": "BURO_AMT_CREDIT_MAX_OVERDUE_MEAN",
         "offsetgroup": "BURO_AMT_CREDIT_MAX_OVERDUE_MEAN",
         "orientation": "v",
         "showlegend": true,
         "textposition": "auto",
         "type": "bar",
         "x": [
          0
         ],
         "xaxis": "x",
         "y": [
          0.08473265855407877
         ],
         "yaxis": "y"
        },
        {
         "alignmentgroup": "True",
         "hovertemplate": "variable=APPROVED_CNT_PAYMENT_MEAN<br>Feature=%{x}<br>SHAP Value=%{y}<extra></extra>",
         "legendgroup": "APPROVED_CNT_PAYMENT_MEAN",
         "marker": {
          "color": "#00cc96",
          "pattern": {
           "shape": ""
          }
         },
         "name": "APPROVED_CNT_PAYMENT_MEAN",
         "offsetgroup": "APPROVED_CNT_PAYMENT_MEAN",
         "orientation": "v",
         "showlegend": true,
         "textposition": "auto",
         "type": "bar",
         "x": [
          0
         ],
         "xaxis": "x",
         "y": [
          -0.07498000973264447
         ],
         "yaxis": "y"
        },
        {
         "alignmentgroup": "True",
         "hovertemplate": "variable=INSTAL_DAYS_ENTRY_PAYMENT_MEAN<br>Feature=%{x}<br>SHAP Value=%{y}<extra></extra>",
         "legendgroup": "INSTAL_DAYS_ENTRY_PAYMENT_MEAN",
         "marker": {
          "color": "#ab63fa",
          "pattern": {
           "shape": ""
          }
         },
         "name": "INSTAL_DAYS_ENTRY_PAYMENT_MEAN",
         "offsetgroup": "INSTAL_DAYS_ENTRY_PAYMENT_MEAN",
         "orientation": "v",
         "showlegend": true,
         "textposition": "auto",
         "type": "bar",
         "x": [
          0
         ],
         "xaxis": "x",
         "y": [
          0.06716299069893532
         ],
         "yaxis": "y"
        },
        {
         "alignmentgroup": "True",
         "hovertemplate": "variable=INSTAL_DPD_MEAN<br>Feature=%{x}<br>SHAP Value=%{y}<extra></extra>",
         "legendgroup": "INSTAL_DPD_MEAN",
         "marker": {
          "color": "#FFA15A",
          "pattern": {
           "shape": ""
          }
         },
         "name": "INSTAL_DPD_MEAN",
         "offsetgroup": "INSTAL_DPD_MEAN",
         "orientation": "v",
         "showlegend": true,
         "textposition": "auto",
         "type": "bar",
         "x": [
          0
         ],
         "xaxis": "x",
         "y": [
          -0.06549028319145991
         ],
         "yaxis": "y"
        },
        {
         "alignmentgroup": "True",
         "hovertemplate": "variable=AMT_GOODS_PRICE<br>Feature=%{x}<br>SHAP Value=%{y}<extra></extra>",
         "legendgroup": "AMT_GOODS_PRICE",
         "marker": {
          "color": "#19d3f3",
          "pattern": {
           "shape": ""
          }
         },
         "name": "AMT_GOODS_PRICE",
         "offsetgroup": "AMT_GOODS_PRICE",
         "orientation": "v",
         "showlegend": true,
         "textposition": "auto",
         "type": "bar",
         "x": [
          0
         ],
         "xaxis": "x",
         "y": [
          0.06079259074065294
         ],
         "yaxis": "y"
        },
        {
         "alignmentgroup": "True",
         "hovertemplate": "variable=PREV_DAYS_DECISION_MEAN<br>Feature=%{x}<br>SHAP Value=%{y}<extra></extra>",
         "legendgroup": "PREV_DAYS_DECISION_MEAN",
         "marker": {
          "color": "#FF6692",
          "pattern": {
           "shape": ""
          }
         },
         "name": "PREV_DAYS_DECISION_MEAN",
         "offsetgroup": "PREV_DAYS_DECISION_MEAN",
         "orientation": "v",
         "showlegend": true,
         "textposition": "auto",
         "type": "bar",
         "x": [
          0
         ],
         "xaxis": "x",
         "y": [
          -0.056553923440576005
         ],
         "yaxis": "y"
        },
        {
         "alignmentgroup": "True",
         "hovertemplate": "variable=BURO_STATUS_1_MEAN_MEAN<br>Feature=%{x}<br>SHAP Value=%{y}<extra></extra>",
         "legendgroup": "BURO_STATUS_1_MEAN_MEAN",
         "marker": {
          "color": "#B6E880",
          "pattern": {
           "shape": ""
          }
         },
         "name": "BURO_STATUS_1_MEAN_MEAN",
         "offsetgroup": "BURO_STATUS_1_MEAN_MEAN",
         "orientation": "v",
         "showlegend": true,
         "textposition": "auto",
         "type": "bar",
         "x": [
          0
         ],
         "xaxis": "x",
         "y": [
          0.047839881415886853
         ],
         "yaxis": "y"
        },
        {
         "alignmentgroup": "True",
         "hovertemplate": "variable=WALLSMATERIAL_MODE_Stonebrick<br>Feature=%{x}<br>SHAP Value=%{y}<extra></extra>",
         "legendgroup": "WALLSMATERIAL_MODE_Stonebrick",
         "marker": {
          "color": "#FF97FF",
          "pattern": {
           "shape": ""
          }
         },
         "name": "WALLSMATERIAL_MODE_Stonebrick",
         "offsetgroup": "WALLSMATERIAL_MODE_Stonebrick",
         "orientation": "v",
         "showlegend": true,
         "textposition": "auto",
         "type": "bar",
         "x": [
          0
         ],
         "xaxis": "x",
         "y": [
          -0.044178684424375114
         ],
         "yaxis": "y"
        },
        {
         "alignmentgroup": "True",
         "hovertemplate": "variable=APPROVED_AMT_ANNUITY_MAX<br>Feature=%{x}<br>SHAP Value=%{y}<extra></extra>",
         "legendgroup": "APPROVED_AMT_ANNUITY_MAX",
         "marker": {
          "color": "#FECB52",
          "pattern": {
           "shape": ""
          }
         },
         "name": "APPROVED_AMT_ANNUITY_MAX",
         "offsetgroup": "APPROVED_AMT_ANNUITY_MAX",
         "orientation": "v",
         "showlegend": true,
         "textposition": "auto",
         "type": "bar",
         "x": [
          0
         ],
         "xaxis": "x",
         "y": [
          0.0428551006251617
         ],
         "yaxis": "y"
        }
       ],
       "layout": {
        "barmode": "group",
        "height": 400,
        "legend": {
         "title": {
          "text": "variable"
         },
         "tracegroupgap": 0
        },
        "plot_bgcolor": "white",
        "template": {
         "data": {
          "bar": [
           {
            "error_x": {
             "color": "#2a3f5f"
            },
            "error_y": {
             "color": "#2a3f5f"
            },
            "marker": {
             "line": {
              "color": "#E5ECF6",
              "width": 0.5
             },
             "pattern": {
              "fillmode": "overlay",
              "size": 10,
              "solidity": 0.2
             }
            },
            "type": "bar"
           }
          ],
          "barpolar": [
           {
            "marker": {
             "line": {
              "color": "#E5ECF6",
              "width": 0.5
             },
             "pattern": {
              "fillmode": "overlay",
              "size": 10,
              "solidity": 0.2
             }
            },
            "type": "barpolar"
           }
          ],
          "carpet": [
           {
            "aaxis": {
             "endlinecolor": "#2a3f5f",
             "gridcolor": "white",
             "linecolor": "white",
             "minorgridcolor": "white",
             "startlinecolor": "#2a3f5f"
            },
            "baxis": {
             "endlinecolor": "#2a3f5f",
             "gridcolor": "white",
             "linecolor": "white",
             "minorgridcolor": "white",
             "startlinecolor": "#2a3f5f"
            },
            "type": "carpet"
           }
          ],
          "choropleth": [
           {
            "colorbar": {
             "outlinewidth": 0,
             "ticks": ""
            },
            "type": "choropleth"
           }
          ],
          "contour": [
           {
            "colorbar": {
             "outlinewidth": 0,
             "ticks": ""
            },
            "colorscale": [
             [
              0,
              "#0d0887"
             ],
             [
              0.1111111111111111,
              "#46039f"
             ],
             [
              0.2222222222222222,
              "#7201a8"
             ],
             [
              0.3333333333333333,
              "#9c179e"
             ],
             [
              0.4444444444444444,
              "#bd3786"
             ],
             [
              0.5555555555555556,
              "#d8576b"
             ],
             [
              0.6666666666666666,
              "#ed7953"
             ],
             [
              0.7777777777777778,
              "#fb9f3a"
             ],
             [
              0.8888888888888888,
              "#fdca26"
             ],
             [
              1,
              "#f0f921"
             ]
            ],
            "type": "contour"
           }
          ],
          "contourcarpet": [
           {
            "colorbar": {
             "outlinewidth": 0,
             "ticks": ""
            },
            "type": "contourcarpet"
           }
          ],
          "heatmap": [
           {
            "colorbar": {
             "outlinewidth": 0,
             "ticks": ""
            },
            "colorscale": [
             [
              0,
              "#0d0887"
             ],
             [
              0.1111111111111111,
              "#46039f"
             ],
             [
              0.2222222222222222,
              "#7201a8"
             ],
             [
              0.3333333333333333,
              "#9c179e"
             ],
             [
              0.4444444444444444,
              "#bd3786"
             ],
             [
              0.5555555555555556,
              "#d8576b"
             ],
             [
              0.6666666666666666,
              "#ed7953"
             ],
             [
              0.7777777777777778,
              "#fb9f3a"
             ],
             [
              0.8888888888888888,
              "#fdca26"
             ],
             [
              1,
              "#f0f921"
             ]
            ],
            "type": "heatmap"
           }
          ],
          "heatmapgl": [
           {
            "colorbar": {
             "outlinewidth": 0,
             "ticks": ""
            },
            "colorscale": [
             [
              0,
              "#0d0887"
             ],
             [
              0.1111111111111111,
              "#46039f"
             ],
             [
              0.2222222222222222,
              "#7201a8"
             ],
             [
              0.3333333333333333,
              "#9c179e"
             ],
             [
              0.4444444444444444,
              "#bd3786"
             ],
             [
              0.5555555555555556,
              "#d8576b"
             ],
             [
              0.6666666666666666,
              "#ed7953"
             ],
             [
              0.7777777777777778,
              "#fb9f3a"
             ],
             [
              0.8888888888888888,
              "#fdca26"
             ],
             [
              1,
              "#f0f921"
             ]
            ],
            "type": "heatmapgl"
           }
          ],
          "histogram": [
           {
            "marker": {
             "pattern": {
              "fillmode": "overlay",
              "size": 10,
              "solidity": 0.2
             }
            },
            "type": "histogram"
           }
          ],
          "histogram2d": [
           {
            "colorbar": {
             "outlinewidth": 0,
             "ticks": ""
            },
            "colorscale": [
             [
              0,
              "#0d0887"
             ],
             [
              0.1111111111111111,
              "#46039f"
             ],
             [
              0.2222222222222222,
              "#7201a8"
             ],
             [
              0.3333333333333333,
              "#9c179e"
             ],
             [
              0.4444444444444444,
              "#bd3786"
             ],
             [
              0.5555555555555556,
              "#d8576b"
             ],
             [
              0.6666666666666666,
              "#ed7953"
             ],
             [
              0.7777777777777778,
              "#fb9f3a"
             ],
             [
              0.8888888888888888,
              "#fdca26"
             ],
             [
              1,
              "#f0f921"
             ]
            ],
            "type": "histogram2d"
           }
          ],
          "histogram2dcontour": [
           {
            "colorbar": {
             "outlinewidth": 0,
             "ticks": ""
            },
            "colorscale": [
             [
              0,
              "#0d0887"
             ],
             [
              0.1111111111111111,
              "#46039f"
             ],
             [
              0.2222222222222222,
              "#7201a8"
             ],
             [
              0.3333333333333333,
              "#9c179e"
             ],
             [
              0.4444444444444444,
              "#bd3786"
             ],
             [
              0.5555555555555556,
              "#d8576b"
             ],
             [
              0.6666666666666666,
              "#ed7953"
             ],
             [
              0.7777777777777778,
              "#fb9f3a"
             ],
             [
              0.8888888888888888,
              "#fdca26"
             ],
             [
              1,
              "#f0f921"
             ]
            ],
            "type": "histogram2dcontour"
           }
          ],
          "mesh3d": [
           {
            "colorbar": {
             "outlinewidth": 0,
             "ticks": ""
            },
            "type": "mesh3d"
           }
          ],
          "parcoords": [
           {
            "line": {
             "colorbar": {
              "outlinewidth": 0,
              "ticks": ""
             }
            },
            "type": "parcoords"
           }
          ],
          "pie": [
           {
            "automargin": true,
            "type": "pie"
           }
          ],
          "scatter": [
           {
            "fillpattern": {
             "fillmode": "overlay",
             "size": 10,
             "solidity": 0.2
            },
            "type": "scatter"
           }
          ],
          "scatter3d": [
           {
            "line": {
             "colorbar": {
              "outlinewidth": 0,
              "ticks": ""
             }
            },
            "marker": {
             "colorbar": {
              "outlinewidth": 0,
              "ticks": ""
             }
            },
            "type": "scatter3d"
           }
          ],
          "scattercarpet": [
           {
            "marker": {
             "colorbar": {
              "outlinewidth": 0,
              "ticks": ""
             }
            },
            "type": "scattercarpet"
           }
          ],
          "scattergeo": [
           {
            "marker": {
             "colorbar": {
              "outlinewidth": 0,
              "ticks": ""
             }
            },
            "type": "scattergeo"
           }
          ],
          "scattergl": [
           {
            "marker": {
             "colorbar": {
              "outlinewidth": 0,
              "ticks": ""
             }
            },
            "type": "scattergl"
           }
          ],
          "scattermapbox": [
           {
            "marker": {
             "colorbar": {
              "outlinewidth": 0,
              "ticks": ""
             }
            },
            "type": "scattermapbox"
           }
          ],
          "scatterpolar": [
           {
            "marker": {
             "colorbar": {
              "outlinewidth": 0,
              "ticks": ""
             }
            },
            "type": "scatterpolar"
           }
          ],
          "scatterpolargl": [
           {
            "marker": {
             "colorbar": {
              "outlinewidth": 0,
              "ticks": ""
             }
            },
            "type": "scatterpolargl"
           }
          ],
          "scatterternary": [
           {
            "marker": {
             "colorbar": {
              "outlinewidth": 0,
              "ticks": ""
             }
            },
            "type": "scatterternary"
           }
          ],
          "surface": [
           {
            "colorbar": {
             "outlinewidth": 0,
             "ticks": ""
            },
            "colorscale": [
             [
              0,
              "#0d0887"
             ],
             [
              0.1111111111111111,
              "#46039f"
             ],
             [
              0.2222222222222222,
              "#7201a8"
             ],
             [
              0.3333333333333333,
              "#9c179e"
             ],
             [
              0.4444444444444444,
              "#bd3786"
             ],
             [
              0.5555555555555556,
              "#d8576b"
             ],
             [
              0.6666666666666666,
              "#ed7953"
             ],
             [
              0.7777777777777778,
              "#fb9f3a"
             ],
             [
              0.8888888888888888,
              "#fdca26"
             ],
             [
              1,
              "#f0f921"
             ]
            ],
            "type": "surface"
           }
          ],
          "table": [
           {
            "cells": {
             "fill": {
              "color": "#EBF0F8"
             },
             "line": {
              "color": "white"
             }
            },
            "header": {
             "fill": {
              "color": "#C8D4E3"
             },
             "line": {
              "color": "white"
             }
            },
            "type": "table"
           }
          ]
         },
         "layout": {
          "annotationdefaults": {
           "arrowcolor": "#2a3f5f",
           "arrowhead": 0,
           "arrowwidth": 1
          },
          "autotypenumbers": "strict",
          "coloraxis": {
           "colorbar": {
            "outlinewidth": 0,
            "ticks": ""
           }
          },
          "colorscale": {
           "diverging": [
            [
             0,
             "#8e0152"
            ],
            [
             0.1,
             "#c51b7d"
            ],
            [
             0.2,
             "#de77ae"
            ],
            [
             0.3,
             "#f1b6da"
            ],
            [
             0.4,
             "#fde0ef"
            ],
            [
             0.5,
             "#f7f7f7"
            ],
            [
             0.6,
             "#e6f5d0"
            ],
            [
             0.7,
             "#b8e186"
            ],
            [
             0.8,
             "#7fbc41"
            ],
            [
             0.9,
             "#4d9221"
            ],
            [
             1,
             "#276419"
            ]
           ],
           "sequential": [
            [
             0,
             "#0d0887"
            ],
            [
             0.1111111111111111,
             "#46039f"
            ],
            [
             0.2222222222222222,
             "#7201a8"
            ],
            [
             0.3333333333333333,
             "#9c179e"
            ],
            [
             0.4444444444444444,
             "#bd3786"
            ],
            [
             0.5555555555555556,
             "#d8576b"
            ],
            [
             0.6666666666666666,
             "#ed7953"
            ],
            [
             0.7777777777777778,
             "#fb9f3a"
            ],
            [
             0.8888888888888888,
             "#fdca26"
            ],
            [
             1,
             "#f0f921"
            ]
           ],
           "sequentialminus": [
            [
             0,
             "#0d0887"
            ],
            [
             0.1111111111111111,
             "#46039f"
            ],
            [
             0.2222222222222222,
             "#7201a8"
            ],
            [
             0.3333333333333333,
             "#9c179e"
            ],
            [
             0.4444444444444444,
             "#bd3786"
            ],
            [
             0.5555555555555556,
             "#d8576b"
            ],
            [
             0.6666666666666666,
             "#ed7953"
            ],
            [
             0.7777777777777778,
             "#fb9f3a"
            ],
            [
             0.8888888888888888,
             "#fdca26"
            ],
            [
             1,
             "#f0f921"
            ]
           ]
          },
          "colorway": [
           "#636efa",
           "#EF553B",
           "#00cc96",
           "#ab63fa",
           "#FFA15A",
           "#19d3f3",
           "#FF6692",
           "#B6E880",
           "#FF97FF",
           "#FECB52"
          ],
          "font": {
           "color": "#2a3f5f"
          },
          "geo": {
           "bgcolor": "white",
           "lakecolor": "white",
           "landcolor": "#E5ECF6",
           "showlakes": true,
           "showland": true,
           "subunitcolor": "white"
          },
          "hoverlabel": {
           "align": "left"
          },
          "hovermode": "closest",
          "mapbox": {
           "style": "light"
          },
          "paper_bgcolor": "white",
          "plot_bgcolor": "#E5ECF6",
          "polar": {
           "angularaxis": {
            "gridcolor": "white",
            "linecolor": "white",
            "ticks": ""
           },
           "bgcolor": "#E5ECF6",
           "radialaxis": {
            "gridcolor": "white",
            "linecolor": "white",
            "ticks": ""
           }
          },
          "scene": {
           "xaxis": {
            "backgroundcolor": "#E5ECF6",
            "gridcolor": "white",
            "gridwidth": 2,
            "linecolor": "white",
            "showbackground": true,
            "ticks": "",
            "zerolinecolor": "white"
           },
           "yaxis": {
            "backgroundcolor": "#E5ECF6",
            "gridcolor": "white",
            "gridwidth": 2,
            "linecolor": "white",
            "showbackground": true,
            "ticks": "",
            "zerolinecolor": "white"
           },
           "zaxis": {
            "backgroundcolor": "#E5ECF6",
            "gridcolor": "white",
            "gridwidth": 2,
            "linecolor": "white",
            "showbackground": true,
            "ticks": "",
            "zerolinecolor": "white"
           }
          },
          "shapedefaults": {
           "line": {
            "color": "#2a3f5f"
           }
          },
          "ternary": {
           "aaxis": {
            "gridcolor": "white",
            "linecolor": "white",
            "ticks": ""
           },
           "baxis": {
            "gridcolor": "white",
            "linecolor": "white",
            "ticks": ""
           },
           "bgcolor": "#E5ECF6",
           "caxis": {
            "gridcolor": "white",
            "linecolor": "white",
            "ticks": ""
           }
          },
          "title": {
           "x": 0.05
          },
          "xaxis": {
           "automargin": true,
           "gridcolor": "white",
           "linecolor": "white",
           "ticks": "",
           "title": {
            "standoff": 15
           },
           "zerolinecolor": "white",
           "zerolinewidth": 2
          },
          "yaxis": {
           "automargin": true,
           "gridcolor": "white",
           "linecolor": "white",
           "ticks": "",
           "title": {
            "standoff": 15
           },
           "zerolinecolor": "white",
           "zerolinewidth": 2
          }
         }
        },
        "title": {
         "text": "<b>Influence des 20 variables les plus prédictives sur le modèle</b><br><sup>lecture : un coefficient positif tire la probabilité de défault à la hausse et inversement pour une valeure négative</sup>"
        },
        "width": 800,
        "xaxis": {
         "anchor": "y",
         "domain": [
          0,
          1
         ],
         "gridcolor": "WhiteSmoke",
         "showgrid": true,
         "title": {
          "text": "Feature"
         },
         "zerolinecolor": "Gainsboro"
        },
        "yaxis": {
         "anchor": "x",
         "domain": [
          0,
          1
         ],
         "gridcolor": "WhiteSmoke",
         "showgrid": true,
         "title": {
          "text": "SHAP Value"
         },
         "zerolinecolor": "Gainsboro"
        }
       }
      }
     },
     "metadata": {},
     "output_type": "display_data"
    }
   ],
   "source": [
    "# Création d'un graphique en barres avec Plotly Express\n",
    "fig = px.bar(\n",
    "    shap_df[top_features],\n",
    "    # title=\"Influence des 20 variables les plus prédictives sur le modèle\",\n",
    "    title = \"<b>Influence des 20 variables les plus prédictives sur le modèle</b><br><sup>lecture : un coefficient positif tire la probabilité de défault à la hausse et inversement pour une valeure négative</sup>\",\n",
    "    labels={'index': 'Feature', 'value': 'SHAP Value'},\n",
    "    barmode='group',\n",
    "    height=400, width=800\n",
    "               )\n",
    "\n",
    "# Mise en forme du graphique\n",
    "fig.update_layout(xaxis=dict(showgrid=True, gridcolor='WhiteSmoke', zerolinecolor='Gainsboro'),\n",
    "                  yaxis=dict(showgrid=True, gridcolor='WhiteSmoke', zerolinecolor='Gainsboro'),\n",
    "                  plot_bgcolor='white')\n",
    "\n",
    "# Affichage du graphique interactif\n",
    "fig.show()"
   ]
  },
  {
   "cell_type": "code",
   "execution_count": null,
   "metadata": {},
   "outputs": [
    {
     "data": {
      "text/html": [
       "<div>\n",
       "<style scoped>\n",
       "    .dataframe tbody tr th:only-of-type {\n",
       "        vertical-align: middle;\n",
       "    }\n",
       "\n",
       "    .dataframe tbody tr th {\n",
       "        vertical-align: top;\n",
       "    }\n",
       "\n",
       "    .dataframe thead th {\n",
       "        text-align: right;\n",
       "    }\n",
       "</style>\n",
       "<table border=\"1\" class=\"dataframe\">\n",
       "  <thead>\n",
       "    <tr style=\"text-align: right;\">\n",
       "      <th></th>\n",
       "      <th>Feature</th>\n",
       "      <th>SHAP</th>\n",
       "    </tr>\n",
       "  </thead>\n",
       "  <tbody>\n",
       "    <tr>\n",
       "      <th>0</th>\n",
       "      <td>EXT_SOURCE_3</td>\n",
       "      <td>0.877524</td>\n",
       "    </tr>\n",
       "    <tr>\n",
       "      <th>6</th>\n",
       "      <td>INSTAL_AMT_PAYMENT_SUM</td>\n",
       "      <td>0.121804</td>\n",
       "    </tr>\n",
       "    <tr>\n",
       "      <th>7</th>\n",
       "      <td>ACTIVE_AMT_CREDIT_MAX_OVERDUE_MEAN</td>\n",
       "      <td>0.117435</td>\n",
       "    </tr>\n",
       "    <tr>\n",
       "      <th>10</th>\n",
       "      <td>NAME_FAMILY_STATUS_Married</td>\n",
       "      <td>0.086392</td>\n",
       "    </tr>\n",
       "    <tr>\n",
       "      <th>11</th>\n",
       "      <td>BURO_AMT_CREDIT_MAX_OVERDUE_MEAN</td>\n",
       "      <td>0.084733</td>\n",
       "    </tr>\n",
       "    <tr>\n",
       "      <th>13</th>\n",
       "      <td>INSTAL_DAYS_ENTRY_PAYMENT_MEAN</td>\n",
       "      <td>0.067163</td>\n",
       "    </tr>\n",
       "    <tr>\n",
       "      <th>15</th>\n",
       "      <td>AMT_GOODS_PRICE</td>\n",
       "      <td>0.060793</td>\n",
       "    </tr>\n",
       "    <tr>\n",
       "      <th>17</th>\n",
       "      <td>BURO_STATUS_1_MEAN_MEAN</td>\n",
       "      <td>0.047840</td>\n",
       "    </tr>\n",
       "    <tr>\n",
       "      <th>19</th>\n",
       "      <td>APPROVED_AMT_ANNUITY_MAX</td>\n",
       "      <td>0.042855</td>\n",
       "    </tr>\n",
       "    <tr>\n",
       "      <th>18</th>\n",
       "      <td>WALLSMATERIAL_MODE_Stonebrick</td>\n",
       "      <td>-0.044179</td>\n",
       "    </tr>\n",
       "    <tr>\n",
       "      <th>16</th>\n",
       "      <td>PREV_DAYS_DECISION_MEAN</td>\n",
       "      <td>-0.056554</td>\n",
       "    </tr>\n",
       "    <tr>\n",
       "      <th>14</th>\n",
       "      <td>INSTAL_DPD_MEAN</td>\n",
       "      <td>-0.065490</td>\n",
       "    </tr>\n",
       "    <tr>\n",
       "      <th>12</th>\n",
       "      <td>APPROVED_CNT_PAYMENT_MEAN</td>\n",
       "      <td>-0.074980</td>\n",
       "    </tr>\n",
       "    <tr>\n",
       "      <th>9</th>\n",
       "      <td>DAYS_BIRTH</td>\n",
       "      <td>-0.093187</td>\n",
       "    </tr>\n",
       "    <tr>\n",
       "      <th>8</th>\n",
       "      <td>DAYS_ID_PUBLISH</td>\n",
       "      <td>-0.102512</td>\n",
       "    </tr>\n",
       "    <tr>\n",
       "      <th>5</th>\n",
       "      <td>DAYS_EMPLOYED</td>\n",
       "      <td>-0.133276</td>\n",
       "    </tr>\n",
       "    <tr>\n",
       "      <th>4</th>\n",
       "      <td>CODE_GENDER</td>\n",
       "      <td>-0.137727</td>\n",
       "    </tr>\n",
       "    <tr>\n",
       "      <th>3</th>\n",
       "      <td>EXT_SOURCE_1</td>\n",
       "      <td>-0.149837</td>\n",
       "    </tr>\n",
       "    <tr>\n",
       "      <th>2</th>\n",
       "      <td>AMT_ANNUITY</td>\n",
       "      <td>-0.168001</td>\n",
       "    </tr>\n",
       "    <tr>\n",
       "      <th>1</th>\n",
       "      <td>EXT_SOURCE_2</td>\n",
       "      <td>-0.473285</td>\n",
       "    </tr>\n",
       "  </tbody>\n",
       "</table>\n",
       "</div>"
      ],
      "text/plain": [
       "                               Feature      SHAP\n",
       "0                         EXT_SOURCE_3  0.877524\n",
       "6               INSTAL_AMT_PAYMENT_SUM  0.121804\n",
       "7   ACTIVE_AMT_CREDIT_MAX_OVERDUE_MEAN  0.117435\n",
       "10          NAME_FAMILY_STATUS_Married  0.086392\n",
       "11    BURO_AMT_CREDIT_MAX_OVERDUE_MEAN  0.084733\n",
       "13      INSTAL_DAYS_ENTRY_PAYMENT_MEAN  0.067163\n",
       "15                     AMT_GOODS_PRICE  0.060793\n",
       "17             BURO_STATUS_1_MEAN_MEAN  0.047840\n",
       "19            APPROVED_AMT_ANNUITY_MAX  0.042855\n",
       "18       WALLSMATERIAL_MODE_Stonebrick -0.044179\n",
       "16             PREV_DAYS_DECISION_MEAN -0.056554\n",
       "14                     INSTAL_DPD_MEAN -0.065490\n",
       "12           APPROVED_CNT_PAYMENT_MEAN -0.074980\n",
       "9                           DAYS_BIRTH -0.093187\n",
       "8                      DAYS_ID_PUBLISH -0.102512\n",
       "5                        DAYS_EMPLOYED -0.133276\n",
       "4                          CODE_GENDER -0.137727\n",
       "3                         EXT_SOURCE_1 -0.149837\n",
       "2                          AMT_ANNUITY -0.168001\n",
       "1                         EXT_SOURCE_2 -0.473285"
      ]
     },
     "execution_count": 26,
     "metadata": {},
     "output_type": "execute_result"
    }
   ],
   "source": [
    "\n",
    "values = shap_df[top_features].columns\n",
    "df_plot = pd.melt(shap_df, value_vars=values, var_name='Feature', value_name='SHAP')\n",
    "df_plot = df_plot.sort_values(\"SHAP\", ascending=False)\n",
    "df_plot"
   ]
  },
  {
   "cell_type": "code",
   "execution_count": null,
   "metadata": {},
   "outputs": [
    {
     "data": {
      "text/html": [
       "<div>\n",
       "<style scoped>\n",
       "    .dataframe tbody tr th:only-of-type {\n",
       "        vertical-align: middle;\n",
       "    }\n",
       "\n",
       "    .dataframe tbody tr th {\n",
       "        vertical-align: top;\n",
       "    }\n",
       "\n",
       "    .dataframe thead th {\n",
       "        text-align: right;\n",
       "    }\n",
       "</style>\n",
       "<table border=\"1\" class=\"dataframe\">\n",
       "  <thead>\n",
       "    <tr style=\"text-align: right;\">\n",
       "      <th></th>\n",
       "      <th>Feature</th>\n",
       "      <th>SHAP</th>\n",
       "    </tr>\n",
       "  </thead>\n",
       "  <tbody>\n",
       "    <tr>\n",
       "      <th>32</th>\n",
       "      <td>EXT_SOURCE_3</td>\n",
       "      <td>0.877524</td>\n",
       "    </tr>\n",
       "    <tr>\n",
       "      <th>7</th>\n",
       "      <td>AMT_GOODS_PRICE</td>\n",
       "      <td>0.060793</td>\n",
       "    </tr>\n",
       "    <tr>\n",
       "      <th>299</th>\n",
       "      <td>BURO_STATUS_1_MEAN_MEAN</td>\n",
       "      <td>0.047840</td>\n",
       "    </tr>\n",
       "    <tr>\n",
       "      <th>612</th>\n",
       "      <td>POS_MONTHS_BALANCE_SIZE</td>\n",
       "      <td>0.042608</td>\n",
       "    </tr>\n",
       "    <tr>\n",
       "      <th>637</th>\n",
       "      <td>INSTAL_PAYMENT_PERC_SUM</td>\n",
       "      <td>0.034105</td>\n",
       "    </tr>\n",
       "    <tr>\n",
       "      <th>311</th>\n",
       "      <td>ACTIVE_DAYS_CREDIT_ENDDATE_MIN</td>\n",
       "      <td>0.028699</td>\n",
       "    </tr>\n",
       "    <tr>\n",
       "      <th>8</th>\n",
       "      <td>REGION_POPULATION_RELATIVE</td>\n",
       "      <td>0.013574</td>\n",
       "    </tr>\n",
       "    <tr>\n",
       "      <th>575</th>\n",
       "      <td>APPROVED_DAYS_DECISION_MIN</td>\n",
       "      <td>0.012895</td>\n",
       "    </tr>\n",
       "    <tr>\n",
       "      <th>634</th>\n",
       "      <td>INSTAL_DBD_SUM</td>\n",
       "      <td>0.012498</td>\n",
       "    </tr>\n",
       "    <tr>\n",
       "      <th>668</th>\n",
       "      <td>CC_AMT_CREDIT_LIMIT_ACTUAL_VAR</td>\n",
       "      <td>0.000557</td>\n",
       "    </tr>\n",
       "    <tr>\n",
       "      <th>422</th>\n",
       "      <td>PREV_NAME_CASH_LOAN_PURPOSE_Moneyforathirdpers...</td>\n",
       "      <td>0.000000</td>\n",
       "    </tr>\n",
       "    <tr>\n",
       "      <th>608</th>\n",
       "      <td>REFUSED_CNT_PAYMENT_MEAN</td>\n",
       "      <td>0.000000</td>\n",
       "    </tr>\n",
       "    <tr>\n",
       "      <th>190</th>\n",
       "      <td>ORGANIZATION_TYPE_Industrytype7</td>\n",
       "      <td>0.000000</td>\n",
       "    </tr>\n",
       "    <tr>\n",
       "      <th>692</th>\n",
       "      <td>CC_AMT_INST_MIN_REGULARITY_SUM</td>\n",
       "      <td>0.000000</td>\n",
       "    </tr>\n",
       "    <tr>\n",
       "      <th>791</th>\n",
       "      <td>CC_NAME_CONTRACT_STATUS_nan_MEAN</td>\n",
       "      <td>0.000000</td>\n",
       "    </tr>\n",
       "    <tr>\n",
       "      <th>217</th>\n",
       "      <td>ORGANIZATION_TYPE_Tradetype7</td>\n",
       "      <td>0.000000</td>\n",
       "    </tr>\n",
       "    <tr>\n",
       "      <th>38</th>\n",
       "      <td>ELEVATORS_AVG</td>\n",
       "      <td>-0.000009</td>\n",
       "    </tr>\n",
       "    <tr>\n",
       "      <th>600</th>\n",
       "      <td>REFUSED_HOUR_APPR_PROCESS_START_MAX</td>\n",
       "      <td>-0.000237</td>\n",
       "    </tr>\n",
       "    <tr>\n",
       "      <th>352</th>\n",
       "      <td>CLOSED_AMT_CREDIT_SUM_LIMIT_MEAN</td>\n",
       "      <td>-0.000420</td>\n",
       "    </tr>\n",
       "    <tr>\n",
       "      <th>597</th>\n",
       "      <td>REFUSED_AMT_GOODS_PRICE_MAX</td>\n",
       "      <td>-0.000472</td>\n",
       "    </tr>\n",
       "  </tbody>\n",
       "</table>\n",
       "</div>"
      ],
      "text/plain": [
       "                                               Feature      SHAP\n",
       "32                                        EXT_SOURCE_3  0.877524\n",
       "7                                      AMT_GOODS_PRICE  0.060793\n",
       "299                            BURO_STATUS_1_MEAN_MEAN  0.047840\n",
       "612                            POS_MONTHS_BALANCE_SIZE  0.042608\n",
       "637                            INSTAL_PAYMENT_PERC_SUM  0.034105\n",
       "311                     ACTIVE_DAYS_CREDIT_ENDDATE_MIN  0.028699\n",
       "8                           REGION_POPULATION_RELATIVE  0.013574\n",
       "575                         APPROVED_DAYS_DECISION_MIN  0.012895\n",
       "634                                     INSTAL_DBD_SUM  0.012498\n",
       "668                     CC_AMT_CREDIT_LIMIT_ACTUAL_VAR  0.000557\n",
       "422  PREV_NAME_CASH_LOAN_PURPOSE_Moneyforathirdpers...  0.000000\n",
       "608                           REFUSED_CNT_PAYMENT_MEAN  0.000000\n",
       "190                    ORGANIZATION_TYPE_Industrytype7  0.000000\n",
       "692                     CC_AMT_INST_MIN_REGULARITY_SUM  0.000000\n",
       "791                   CC_NAME_CONTRACT_STATUS_nan_MEAN  0.000000\n",
       "217                       ORGANIZATION_TYPE_Tradetype7  0.000000\n",
       "38                                       ELEVATORS_AVG -0.000009\n",
       "600                REFUSED_HOUR_APPR_PROCESS_START_MAX -0.000237\n",
       "352                   CLOSED_AMT_CREDIT_SUM_LIMIT_MEAN -0.000420\n",
       "597                        REFUSED_AMT_GOODS_PRICE_MAX -0.000472"
      ]
     },
     "execution_count": 97,
     "metadata": {},
     "output_type": "execute_result"
    }
   ],
   "source": [
    "idx_max = df_plot.SHAP.abs().sort_values(ascending=False).head(20).index\n",
    "df_plot.iloc[idx_max].sort_values(by=\"SHAP\",ascending=False)\n",
    "# idx_max"
   ]
  },
  {
   "cell_type": "code",
   "execution_count": null,
   "metadata": {},
   "outputs": [
    {
     "data": {
      "text/html": [
       "<div>\n",
       "<style scoped>\n",
       "    .dataframe tbody tr th:only-of-type {\n",
       "        vertical-align: middle;\n",
       "    }\n",
       "\n",
       "    .dataframe tbody tr th {\n",
       "        vertical-align: top;\n",
       "    }\n",
       "\n",
       "    .dataframe thead th {\n",
       "        text-align: right;\n",
       "    }\n",
       "</style>\n",
       "<table border=\"1\" class=\"dataframe\">\n",
       "  <thead>\n",
       "    <tr style=\"text-align: right;\">\n",
       "      <th></th>\n",
       "      <th>Feature</th>\n",
       "      <th>SHAP</th>\n",
       "    </tr>\n",
       "  </thead>\n",
       "  <tbody>\n",
       "    <tr>\n",
       "      <th>31</th>\n",
       "      <td>EXT_SOURCE_2</td>\n",
       "      <td>-0.473285</td>\n",
       "    </tr>\n",
       "    <tr>\n",
       "      <th>6</th>\n",
       "      <td>AMT_ANNUITY</td>\n",
       "      <td>-0.168001</td>\n",
       "    </tr>\n",
       "    <tr>\n",
       "      <th>30</th>\n",
       "      <td>EXT_SOURCE_1</td>\n",
       "      <td>-0.149837</td>\n",
       "    </tr>\n",
       "    <tr>\n",
       "      <th>0</th>\n",
       "      <td>CODE_GENDER</td>\n",
       "      <td>-0.137727</td>\n",
       "    </tr>\n",
       "    <tr>\n",
       "      <th>10</th>\n",
       "      <td>DAYS_EMPLOYED</td>\n",
       "      <td>-0.133276</td>\n",
       "    </tr>\n",
       "    <tr>\n",
       "      <th>...</th>\n",
       "      <td>...</td>\n",
       "      <td>...</td>\n",
       "    </tr>\n",
       "    <tr>\n",
       "      <th>255</th>\n",
       "      <td>BURO_AMT_CREDIT_MAX_OVERDUE_MEAN</td>\n",
       "      <td>0.084733</td>\n",
       "    </tr>\n",
       "    <tr>\n",
       "      <th>130</th>\n",
       "      <td>NAME_FAMILY_STATUS_Married</td>\n",
       "      <td>0.086392</td>\n",
       "    </tr>\n",
       "    <tr>\n",
       "      <th>317</th>\n",
       "      <td>ACTIVE_AMT_CREDIT_MAX_OVERDUE_MEAN</td>\n",
       "      <td>0.117435</td>\n",
       "    </tr>\n",
       "    <tr>\n",
       "      <th>649</th>\n",
       "      <td>INSTAL_AMT_PAYMENT_SUM</td>\n",
       "      <td>0.121804</td>\n",
       "    </tr>\n",
       "    <tr>\n",
       "      <th>32</th>\n",
       "      <td>EXT_SOURCE_3</td>\n",
       "      <td>0.877524</td>\n",
       "    </tr>\n",
       "  </tbody>\n",
       "</table>\n",
       "<p>795 rows × 2 columns</p>\n",
       "</div>"
      ],
      "text/plain": [
       "                                Feature      SHAP\n",
       "31                         EXT_SOURCE_2 -0.473285\n",
       "6                           AMT_ANNUITY -0.168001\n",
       "30                         EXT_SOURCE_1 -0.149837\n",
       "0                           CODE_GENDER -0.137727\n",
       "10                        DAYS_EMPLOYED -0.133276\n",
       "..                                  ...       ...\n",
       "255    BURO_AMT_CREDIT_MAX_OVERDUE_MEAN  0.084733\n",
       "130          NAME_FAMILY_STATUS_Married  0.086392\n",
       "317  ACTIVE_AMT_CREDIT_MAX_OVERDUE_MEAN  0.117435\n",
       "649              INSTAL_AMT_PAYMENT_SUM  0.121804\n",
       "32                         EXT_SOURCE_3  0.877524\n",
       "\n",
       "[795 rows x 2 columns]"
      ]
     },
     "execution_count": 80,
     "metadata": {},
     "output_type": "execute_result"
    }
   ],
   "source": [
    "df_plot.sort_values(by='SHAP')"
   ]
  },
  {
   "cell_type": "code",
   "execution_count": null,
   "metadata": {},
   "outputs": [
    {
     "data": {
      "text/plain": [
       "<AxesSubplot:xlabel='SHAP', ylabel='Feature'>"
      ]
     },
     "execution_count": 79,
     "metadata": {},
     "output_type": "execute_result"
    },
    {
     "data": {
      "image/png": "[encoded data removed]",
      "text/plain": [
       "<Figure size 640x480 with 1 Axes>"
      ]
     },
     "metadata": {},
     "output_type": "display_data"
    }
   ],
   "source": [
    "import seaborn as sns\n",
    "sns.barplot(data = df_plot,y='Feature',x='SHAP')"
   ]
  },
  {
   "cell_type": "code",
   "execution_count": null,
   "metadata": {},
   "outputs": [
    {
     "data": {
      "application/vnd.plotly.v1+json": {
       "config": {
        "plotlyServerURL": "https://plot.ly"
       },
       "data": [
        {
         "alignmentgroup": "True",
         "boxpoints": "all",
         "fillcolor": "rgba(255,255,255,0)",
         "hoveron": "points",
         "hovertemplate": "SHAP=%{x}<br>Feature=%{y}<extra></extra>",
         "legendgroup": "",
         "line": {
          "color": "rgba(255,255,255,0)"
         },
         "marker": {
          "color": "#636efa"
         },
         "name": "",
         "offsetgroup": "",
         "orientation": "h",
         "pointpos": 0,
         "showlegend": false,
         "type": "box",
         "x": [
          0.8775235002898577,
          0.12180352039869329,
          0.11743546371764683,
          0.08639152883382117,
          0.08473265855407877,
          0.06716299069893532,
          0.06079259074065294,
          0.047839881415886853,
          0.0428551006251617,
          0.04260775232893554
         ],
         "x0": " ",
         "xaxis": "x",
         "y": [
          "EXT_SOURCE_3",
          "INSTAL_AMT_PAYMENT_SUM",
          "ACTIVE_AMT_CREDIT_MAX_OVERDUE_MEAN",
          "NAME_FAMILY_STATUS_Married",
          "BURO_AMT_CREDIT_MAX_OVERDUE_MEAN",
          "INSTAL_DAYS_ENTRY_PAYMENT_MEAN",
          "AMT_GOODS_PRICE",
          "BURO_STATUS_1_MEAN_MEAN",
          "APPROVED_AMT_ANNUITY_MAX",
          "POS_MONTHS_BALANCE_SIZE"
         ],
         "y0": " ",
         "yaxis": "y"
        }
       ],
       "layout": {
        "boxmode": "overlay",
        "height": 400,
        "legend": {
         "tracegroupgap": 0
        },
        "margin": {
         "t": 60
        },
        "plot_bgcolor": "white",
        "template": {
         "data": {
          "bar": [
           {
            "error_x": {
             "color": "#2a3f5f"
            },
            "error_y": {
             "color": "#2a3f5f"
            },
            "marker": {
             "line": {
              "color": "#E5ECF6",
              "width": 0.5
             },
             "pattern": {
              "fillmode": "overlay",
              "size": 10,
              "solidity": 0.2
             }
            },
            "type": "bar"
           }
          ],
          "barpolar": [
           {
            "marker": {
             "line": {
              "color": "#E5ECF6",
              "width": 0.5
             },
             "pattern": {
              "fillmode": "overlay",
              "size": 10,
              "solidity": 0.2
             }
            },
            "type": "barpolar"
           }
          ],
          "carpet": [
           {
            "aaxis": {
             "endlinecolor": "#2a3f5f",
             "gridcolor": "white",
             "linecolor": "white",
             "minorgridcolor": "white",
             "startlinecolor": "#2a3f5f"
            },
            "baxis": {
             "endlinecolor": "#2a3f5f",
             "gridcolor": "white",
             "linecolor": "white",
             "minorgridcolor": "white",
             "startlinecolor": "#2a3f5f"
            },
            "type": "carpet"
           }
          ],
          "choropleth": [
           {
            "colorbar": {
             "outlinewidth": 0,
             "ticks": ""
            },
            "type": "choropleth"
           }
          ],
          "contour": [
           {
            "colorbar": {
             "outlinewidth": 0,
             "ticks": ""
            },
            "colorscale": [
             [
              0,
              "#0d0887"
             ],
             [
              0.1111111111111111,
              "#46039f"
             ],
             [
              0.2222222222222222,
              "#7201a8"
             ],
             [
              0.3333333333333333,
              "#9c179e"
             ],
             [
              0.4444444444444444,
              "#bd3786"
             ],
             [
              0.5555555555555556,
              "#d8576b"
             ],
             [
              0.6666666666666666,
              "#ed7953"
             ],
             [
              0.7777777777777778,
              "#fb9f3a"
             ],
             [
              0.8888888888888888,
              "#fdca26"
             ],
             [
              1,
              "#f0f921"
             ]
            ],
            "type": "contour"
           }
          ],
          "contourcarpet": [
           {
            "colorbar": {
             "outlinewidth": 0,
             "ticks": ""
            },
            "type": "contourcarpet"
           }
          ],
          "heatmap": [
           {
            "colorbar": {
             "outlinewidth": 0,
             "ticks": ""
            },
            "colorscale": [
             [
              0,
              "#0d0887"
             ],
             [
              0.1111111111111111,
              "#46039f"
             ],
             [
              0.2222222222222222,
              "#7201a8"
             ],
             [
              0.3333333333333333,
              "#9c179e"
             ],
             [
              0.4444444444444444,
              "#bd3786"
             ],
             [
              0.5555555555555556,
              "#d8576b"
             ],
             [
              0.6666666666666666,
              "#ed7953"
             ],
             [
              0.7777777777777778,
              "#fb9f3a"
             ],
             [
              0.8888888888888888,
              "#fdca26"
             ],
             [
              1,
              "#f0f921"
             ]
            ],
            "type": "heatmap"
           }
          ],
          "heatmapgl": [
           {
            "colorbar": {
             "outlinewidth": 0,
             "ticks": ""
            },
            "colorscale": [
             [
              0,
              "#0d0887"
             ],
             [
              0.1111111111111111,
              "#46039f"
             ],
             [
              0.2222222222222222,
              "#7201a8"
             ],
             [
              0.3333333333333333,
              "#9c179e"
             ],
             [
              0.4444444444444444,
              "#bd3786"
             ],
             [
              0.5555555555555556,
              "#d8576b"
             ],
             [
              0.6666666666666666,
              "#ed7953"
             ],
             [
              0.7777777777777778,
              "#fb9f3a"
             ],
             [
              0.8888888888888888,
              "#fdca26"
             ],
             [
              1,
              "#f0f921"
             ]
            ],
            "type": "heatmapgl"
           }
          ],
          "histogram": [
           {
            "marker": {
             "pattern": {
              "fillmode": "overlay",
              "size": 10,
              "solidity": 0.2
             }
            },
            "type": "histogram"
           }
          ],
          "histogram2d": [
           {
            "colorbar": {
             "outlinewidth": 0,
             "ticks": ""
            },
            "colorscale": [
             [
              0,
              "#0d0887"
             ],
             [
              0.1111111111111111,
              "#46039f"
             ],
             [
              0.2222222222222222,
              "#7201a8"
             ],
             [
              0.3333333333333333,
              "#9c179e"
             ],
             [
              0.4444444444444444,
              "#bd3786"
             ],
             [
              0.5555555555555556,
              "#d8576b"
             ],
             [
              0.6666666666666666,
              "#ed7953"
             ],
             [
              0.7777777777777778,
              "#fb9f3a"
             ],
             [
              0.8888888888888888,
              "#fdca26"
             ],
             [
              1,
              "#f0f921"
             ]
            ],
            "type": "histogram2d"
           }
          ],
          "histogram2dcontour": [
           {
            "colorbar": {
             "outlinewidth": 0,
             "ticks": ""
            },
            "colorscale": [
             [
              0,
              "#0d0887"
             ],
             [
              0.1111111111111111,
              "#46039f"
             ],
             [
              0.2222222222222222,
              "#7201a8"
             ],
             [
              0.3333333333333333,
              "#9c179e"
             ],
             [
              0.4444444444444444,
              "#bd3786"
             ],
             [
              0.5555555555555556,
              "#d8576b"
             ],
             [
              0.6666666666666666,
              "#ed7953"
             ],
             [
              0.7777777777777778,
              "#fb9f3a"
             ],
             [
              0.8888888888888888,
              "#fdca26"
             ],
             [
              1,
              "#f0f921"
             ]
            ],
            "type": "histogram2dcontour"
           }
          ],
          "mesh3d": [
           {
            "colorbar": {
             "outlinewidth": 0,
             "ticks": ""
            },
            "type": "mesh3d"
           }
          ],
          "parcoords": [
           {
            "line": {
             "colorbar": {
              "outlinewidth": 0,
              "ticks": ""
             }
            },
            "type": "parcoords"
           }
          ],
          "pie": [
           {
            "automargin": true,
            "type": "pie"
           }
          ],
          "scatter": [
           {
            "fillpattern": {
             "fillmode": "overlay",
             "size": 10,
             "solidity": 0.2
            },
            "type": "scatter"
           }
          ],
          "scatter3d": [
           {
            "line": {
             "colorbar": {
              "outlinewidth": 0,
              "ticks": ""
             }
            },
            "marker": {
             "colorbar": {
              "outlinewidth": 0,
              "ticks": ""
             }
            },
            "type": "scatter3d"
           }
          ],
          "scattercarpet": [
           {
            "marker": {
             "colorbar": {
              "outlinewidth": 0,
              "ticks": ""
             }
            },
            "type": "scattercarpet"
           }
          ],
          "scattergeo": [
           {
            "marker": {
             "colorbar": {
              "outlinewidth": 0,
              "ticks": ""
             }
            },
            "type": "scattergeo"
           }
          ],
          "scattergl": [
           {
            "marker": {
             "colorbar": {
              "outlinewidth": 0,
              "ticks": ""
             }
            },
            "type": "scattergl"
           }
          ],
          "scattermapbox": [
           {
            "marker": {
             "colorbar": {
              "outlinewidth": 0,
              "ticks": ""
             }
            },
            "type": "scattermapbox"
           }
          ],
          "scatterpolar": [
           {
            "marker": {
             "colorbar": {
              "outlinewidth": 0,
              "ticks": ""
             }
            },
            "type": "scatterpolar"
           }
          ],
          "scatterpolargl": [
           {
            "marker": {
             "colorbar": {
              "outlinewidth": 0,
              "ticks": ""
             }
            },
            "type": "scatterpolargl"
           }
          ],
          "scatterternary": [
           {
            "marker": {
             "colorbar": {
              "outlinewidth": 0,
              "ticks": ""
             }
            },
            "type": "scatterternary"
           }
          ],
          "surface": [
           {
            "colorbar": {
             "outlinewidth": 0,
             "ticks": ""
            },
            "colorscale": [
             [
              0,
              "#0d0887"
             ],
             [
              0.1111111111111111,
              "#46039f"
             ],
             [
              0.2222222222222222,
              "#7201a8"
             ],
             [
              0.3333333333333333,
              "#9c179e"
             ],
             [
              0.4444444444444444,
              "#bd3786"
             ],
             [
              0.5555555555555556,
              "#d8576b"
             ],
             [
              0.6666666666666666,
              "#ed7953"
             ],
             [
              0.7777777777777778,
              "#fb9f3a"
             ],
             [
              0.8888888888888888,
              "#fdca26"
             ],
             [
              1,
              "#f0f921"
             ]
            ],
            "type": "surface"
           }
          ],
          "table": [
           {
            "cells": {
             "fill": {
              "color": "#EBF0F8"
             },
             "line": {
              "color": "white"
             }
            },
            "header": {
             "fill": {
              "color": "#C8D4E3"
             },
             "line": {
              "color": "white"
             }
            },
            "type": "table"
           }
          ]
         },
         "layout": {
          "annotationdefaults": {
           "arrowcolor": "#2a3f5f",
           "arrowhead": 0,
           "arrowwidth": 1
          },
          "autotypenumbers": "strict",
          "coloraxis": {
           "colorbar": {
            "outlinewidth": 0,
            "ticks": ""
           }
          },
          "colorscale": {
           "diverging": [
            [
             0,
             "#8e0152"
            ],
            [
             0.1,
             "#c51b7d"
            ],
            [
             0.2,
             "#de77ae"
            ],
            [
             0.3,
             "#f1b6da"
            ],
            [
             0.4,
             "#fde0ef"
            ],
            [
             0.5,
             "#f7f7f7"
            ],
            [
             0.6,
             "#e6f5d0"
            ],
            [
             0.7,
             "#b8e186"
            ],
            [
             0.8,
             "#7fbc41"
            ],
            [
             0.9,
             "#4d9221"
            ],
            [
             1,
             "#276419"
            ]
           ],
           "sequential": [
            [
             0,
             "#0d0887"
            ],
            [
             0.1111111111111111,
             "#46039f"
            ],
            [
             0.2222222222222222,
             "#7201a8"
            ],
            [
             0.3333333333333333,
             "#9c179e"
            ],
            [
             0.4444444444444444,
             "#bd3786"
            ],
            [
             0.5555555555555556,
             "#d8576b"
            ],
            [
             0.6666666666666666,
             "#ed7953"
            ],
            [
             0.7777777777777778,
             "#fb9f3a"
            ],
            [
             0.8888888888888888,
             "#fdca26"
            ],
            [
             1,
             "#f0f921"
            ]
           ],
           "sequentialminus": [
            [
             0,
             "#0d0887"
            ],
            [
             0.1111111111111111,
             "#46039f"
            ],
            [
             0.2222222222222222,
             "#7201a8"
            ],
            [
             0.3333333333333333,
             "#9c179e"
            ],
            [
             0.4444444444444444,
             "#bd3786"
            ],
            [
             0.5555555555555556,
             "#d8576b"
            ],
            [
             0.6666666666666666,
             "#ed7953"
            ],
            [
             0.7777777777777778,
             "#fb9f3a"
            ],
            [
             0.8888888888888888,
             "#fdca26"
            ],
            [
             1,
             "#f0f921"
            ]
           ]
          },
          "colorway": [
           "#636efa",
           "#EF553B",
           "#00cc96",
           "#ab63fa",
           "#FFA15A",
           "#19d3f3",
           "#FF6692",
           "#B6E880",
           "#FF97FF",
           "#FECB52"
          ],
          "font": {
           "color": "#2a3f5f"
          },
          "geo": {
           "bgcolor": "white",
           "lakecolor": "white",
           "landcolor": "#E5ECF6",
           "showlakes": true,
           "showland": true,
           "subunitcolor": "white"
          },
          "hoverlabel": {
           "align": "left"
          },
          "hovermode": "closest",
          "mapbox": {
           "style": "light"
          },
          "paper_bgcolor": "white",
          "plot_bgcolor": "#E5ECF6",
          "polar": {
           "angularaxis": {
            "gridcolor": "white",
            "linecolor": "white",
            "ticks": ""
           },
           "bgcolor": "#E5ECF6",
           "radialaxis": {
            "gridcolor": "white",
            "linecolor": "white",
            "ticks": ""
           }
          },
          "scene": {
           "xaxis": {
            "backgroundcolor": "#E5ECF6",
            "gridcolor": "white",
            "gridwidth": 2,
            "linecolor": "white",
            "showbackground": true,
            "ticks": "",
            "zerolinecolor": "white"
           },
           "yaxis": {
            "backgroundcolor": "#E5ECF6",
            "gridcolor": "white",
            "gridwidth": 2,
            "linecolor": "white",
            "showbackground": true,
            "ticks": "",
            "zerolinecolor": "white"
           },
           "zaxis": {
            "backgroundcolor": "#E5ECF6",
            "gridcolor": "white",
            "gridwidth": 2,
            "linecolor": "white",
            "showbackground": true,
            "ticks": "",
            "zerolinecolor": "white"
           }
          },
          "shapedefaults": {
           "line": {
            "color": "#2a3f5f"
           }
          },
          "ternary": {
           "aaxis": {
            "gridcolor": "white",
            "linecolor": "white",
            "ticks": ""
           },
           "baxis": {
            "gridcolor": "white",
            "linecolor": "white",
            "ticks": ""
           },
           "bgcolor": "#E5ECF6",
           "caxis": {
            "gridcolor": "white",
            "linecolor": "white",
            "ticks": ""
           }
          },
          "title": {
           "x": 0.05
          },
          "xaxis": {
           "automargin": true,
           "gridcolor": "white",
           "linecolor": "white",
           "ticks": "",
           "title": {
            "standoff": 15
           },
           "zerolinecolor": "white",
           "zerolinewidth": 2
          },
          "yaxis": {
           "automargin": true,
           "gridcolor": "white",
           "linecolor": "white",
           "ticks": "",
           "title": {
            "standoff": 15
           },
           "zerolinecolor": "white",
           "zerolinewidth": 2
          }
         }
        },
        "width": 1000,
        "xaxis": {
         "anchor": "y",
         "domain": [
          0,
          1
         ],
         "gridcolor": "WhiteSmoke",
         "showgrid": true,
         "title": {
          "text": "SHAP"
         },
         "zerolinecolor": "Gainsboro"
        },
        "yaxis": {
         "anchor": "x",
         "domain": [
          0,
          1
         ],
         "gridcolor": "WhiteSmoke",
         "showgrid": true,
         "title": {
          "text": "Feature"
         },
         "zerolinecolor": "Gainsboro"
        }
       }
      }
     },
     "metadata": {},
     "output_type": "display_data"
    }
   ],
   "source": [
    "\n",
    "values = shap_df.columns\n",
    "df_plot = pd.melt(shap_df, value_vars=values, var_name='Feature', value_name='SHAP')\n",
    "df_plot = df_plot.sort_values(\"SHAP\", ascending=False)\n",
    "df_plot = df_plot.head(10)\n",
    "\n",
    "fig = px.strip(df_plot, x='SHAP', y='Feature', stripmode='overlay', height=400, width=1000)\n",
    "fig.update_layout(xaxis=dict(showgrid=True, gridcolor='WhiteSmoke', zerolinecolor='Gainsboro'),\n",
    "              yaxis=dict(showgrid=True, gridcolor='WhiteSmoke', zerolinecolor='Gainsboro')\n",
    ")\n",
    "fig.update_layout(plot_bgcolor='white')\n",
    "\n",
    "# fig = (\n",
    "#     fig\n",
    "#     # Make it so there is no gap between the supporting boxes\n",
    "#     .update_layout(boxgap=0)\n",
    "#     # Increase the jitter so it reaches the sides of the boxes\n",
    "#     .update_traces(jitter=1)\n",
    "# )\n",
    "\n",
    "fig.write_html('plotly_beeswarm_test.html')\n",
    "fig.show()"
   ]
  },
  {
   "cell_type": "code",
   "execution_count": null,
   "metadata": {},
   "outputs": [
    {
     "data": {
      "text/plain": [
       "CODE_GENDER                         0.137727\n",
       "FLAG_OWN_CAR                        0.008458\n",
       "FLAG_OWN_REALTY                     0.000086\n",
       "CNT_CHILDREN                        0.000000\n",
       "AMT_INCOME_TOTAL                    0.000323\n",
       "                                      ...   \n",
       "CC_NAME_CONTRACT_STATUS_nan_MAX     0.000000\n",
       "CC_NAME_CONTRACT_STATUS_nan_MEAN    0.000000\n",
       "CC_NAME_CONTRACT_STATUS_nan_SUM     0.000000\n",
       "CC_NAME_CONTRACT_STATUS_nan_VAR     0.000000\n",
       "CC_COUNT                            0.000268\n",
       "Length: 795, dtype: float64"
      ]
     },
     "execution_count": 38,
     "metadata": {},
     "output_type": "execute_result"
    }
   ],
   "source": [
    "mean_shap_values"
   ]
  },
  {
   "cell_type": "code",
   "execution_count": null,
   "metadata": {},
   "outputs": [
    {
     "ename": "ValueError",
     "evalue": "Value of 'size' is not the name of a column in 'data_frame'. Expected one of ['index', 0] but received: size",
     "output_type": "error",
     "traceback": [
      "\u001b[1;31m---------------------------------------------------------------------------\u001b[0m",
      "\u001b[1;31mValueError\u001b[0m                                Traceback (most recent call last)",
      "\u001b[1;32m~\\AppData\\Local\\Temp\\ipykernel_15120\\2903948518.py\u001b[0m in \u001b[0;36m<module>\u001b[1;34m\u001b[0m\n\u001b[0;32m     12\u001b[0m \u001b[1;33m\u001b[0m\u001b[0m\n\u001b[0;32m     13\u001b[0m \u001b[1;31m# Création d'un graphique interactif avec plotly express pour les dix caractéristiques en Dot Plot\u001b[0m\u001b[1;33m\u001b[0m\u001b[1;33m\u001b[0m\u001b[0m\n\u001b[1;32m---> 14\u001b[1;33m fig = px.scatter(mean_shap_values[top_features].reset_index(), title=\"Top 10 Predictive Features - SHAP Values Summary\",\n\u001b[0m\u001b[0;32m     15\u001b[0m                  \u001b[0mlabels\u001b[0m\u001b[1;33m=\u001b[0m\u001b[1;33m{\u001b[0m\u001b[1;34m'value'\u001b[0m\u001b[1;33m:\u001b[0m \u001b[1;34m'Mean SHAP Value'\u001b[0m\u001b[1;33m,\u001b[0m \u001b[1;34m'index'\u001b[0m\u001b[1;33m:\u001b[0m \u001b[1;34m'Feature'\u001b[0m\u001b[1;33m}\u001b[0m\u001b[1;33m,\u001b[0m \u001b[0msize\u001b[0m\u001b[1;33m=\u001b[0m\u001b[1;34m'size'\u001b[0m\u001b[1;33m,\u001b[0m \u001b[0mcolor\u001b[0m\u001b[1;33m=\u001b[0m\u001b[1;34m'size'\u001b[0m\u001b[1;33m,\u001b[0m\u001b[1;33m\u001b[0m\u001b[1;33m\u001b[0m\u001b[0m\n\u001b[0;32m     16\u001b[0m                  size_max=20)  # Ajustez size_max selon vos préférences\n",
      "\u001b[1;32mc:\\Users\\Hankour\\anaconda3\\lib\\site-packages\\plotly\\express\\_chart_types.py\u001b[0m in \u001b[0;36mscatter\u001b[1;34m(data_frame, x, y, color, symbol, size, hover_name, hover_data, custom_data, text, facet_row, facet_col, facet_col_wrap, facet_row_spacing, facet_col_spacing, error_x, error_x_minus, error_y, error_y_minus, animation_frame, animation_group, category_orders, labels, orientation, color_discrete_sequence, color_discrete_map, color_continuous_scale, range_color, color_continuous_midpoint, symbol_sequence, symbol_map, opacity, size_max, marginal_x, marginal_y, trendline, trendline_options, trendline_color_override, trendline_scope, log_x, log_y, range_x, range_y, render_mode, title, template, width, height)\u001b[0m\n\u001b[0;32m     64\u001b[0m     \u001b[0mmark\u001b[0m \u001b[1;32min\u001b[0m \u001b[1;36m2\u001b[0m\u001b[0mD\u001b[0m \u001b[0mspace\u001b[0m\u001b[1;33m.\u001b[0m\u001b[1;33m\u001b[0m\u001b[1;33m\u001b[0m\u001b[0m\n\u001b[0;32m     65\u001b[0m     \"\"\"\n\u001b[1;32m---> 66\u001b[1;33m     \u001b[1;32mreturn\u001b[0m \u001b[0mmake_figure\u001b[0m\u001b[1;33m(\u001b[0m\u001b[0margs\u001b[0m\u001b[1;33m=\u001b[0m\u001b[0mlocals\u001b[0m\u001b[1;33m(\u001b[0m\u001b[1;33m)\u001b[0m\u001b[1;33m,\u001b[0m \u001b[0mconstructor\u001b[0m\u001b[1;33m=\u001b[0m\u001b[0mgo\u001b[0m\u001b[1;33m.\u001b[0m\u001b[0mScatter\u001b[0m\u001b[1;33m)\u001b[0m\u001b[1;33m\u001b[0m\u001b[1;33m\u001b[0m\u001b[0m\n\u001b[0m\u001b[0;32m     67\u001b[0m \u001b[1;33m\u001b[0m\u001b[0m\n\u001b[0;32m     68\u001b[0m \u001b[1;33m\u001b[0m\u001b[0m\n",
      "\u001b[1;32mc:\\Users\\Hankour\\anaconda3\\lib\\site-packages\\plotly\\express\\_core.py\u001b[0m in \u001b[0;36mmake_figure\u001b[1;34m(args, constructor, trace_patch, layout_patch)\u001b[0m\n\u001b[0;32m   1988\u001b[0m     \u001b[0mapply_default_cascade\u001b[0m\u001b[1;33m(\u001b[0m\u001b[0margs\u001b[0m\u001b[1;33m)\u001b[0m\u001b[1;33m\u001b[0m\u001b[1;33m\u001b[0m\u001b[0m\n\u001b[0;32m   1989\u001b[0m \u001b[1;33m\u001b[0m\u001b[0m\n\u001b[1;32m-> 1990\u001b[1;33m     \u001b[0margs\u001b[0m \u001b[1;33m=\u001b[0m \u001b[0mbuild_dataframe\u001b[0m\u001b[1;33m(\u001b[0m\u001b[0margs\u001b[0m\u001b[1;33m,\u001b[0m \u001b[0mconstructor\u001b[0m\u001b[1;33m)\u001b[0m\u001b[1;33m\u001b[0m\u001b[1;33m\u001b[0m\u001b[0m\n\u001b[0m\u001b[0;32m   1991\u001b[0m     \u001b[1;32mif\u001b[0m \u001b[0mconstructor\u001b[0m \u001b[1;32min\u001b[0m \u001b[1;33m[\u001b[0m\u001b[0mgo\u001b[0m\u001b[1;33m.\u001b[0m\u001b[0mTreemap\u001b[0m\u001b[1;33m,\u001b[0m \u001b[0mgo\u001b[0m\u001b[1;33m.\u001b[0m\u001b[0mSunburst\u001b[0m\u001b[1;33m,\u001b[0m \u001b[0mgo\u001b[0m\u001b[1;33m.\u001b[0m\u001b[0mIcicle\u001b[0m\u001b[1;33m]\u001b[0m \u001b[1;32mand\u001b[0m \u001b[0margs\u001b[0m\u001b[1;33m[\u001b[0m\u001b[1;34m\"path\"\u001b[0m\u001b[1;33m]\u001b[0m \u001b[1;32mis\u001b[0m \u001b[1;32mnot\u001b[0m \u001b[1;32mNone\u001b[0m\u001b[1;33m:\u001b[0m\u001b[1;33m\u001b[0m\u001b[1;33m\u001b[0m\u001b[0m\n\u001b[0;32m   1992\u001b[0m         \u001b[0margs\u001b[0m \u001b[1;33m=\u001b[0m \u001b[0mprocess_dataframe_hierarchy\u001b[0m\u001b[1;33m(\u001b[0m\u001b[0margs\u001b[0m\u001b[1;33m)\u001b[0m\u001b[1;33m\u001b[0m\u001b[1;33m\u001b[0m\u001b[0m\n",
      "\u001b[1;32mc:\\Users\\Hankour\\anaconda3\\lib\\site-packages\\plotly\\express\\_core.py\u001b[0m in \u001b[0;36mbuild_dataframe\u001b[1;34m(args, constructor)\u001b[0m\n\u001b[0;32m   1403\u001b[0m     \u001b[1;31m# now that things have been prepped, we do the systematic rewriting of `args`\u001b[0m\u001b[1;33m\u001b[0m\u001b[1;33m\u001b[0m\u001b[0m\n\u001b[0;32m   1404\u001b[0m \u001b[1;33m\u001b[0m\u001b[0m\n\u001b[1;32m-> 1405\u001b[1;33m     df_output, wide_id_vars = process_args_into_dataframe(\n\u001b[0m\u001b[0;32m   1406\u001b[0m         \u001b[0margs\u001b[0m\u001b[1;33m,\u001b[0m \u001b[0mwide_mode\u001b[0m\u001b[1;33m,\u001b[0m \u001b[0mvar_name\u001b[0m\u001b[1;33m,\u001b[0m \u001b[0mvalue_name\u001b[0m\u001b[1;33m\u001b[0m\u001b[1;33m\u001b[0m\u001b[0m\n\u001b[0;32m   1407\u001b[0m     )\n",
      "\u001b[1;32mc:\\Users\\Hankour\\anaconda3\\lib\\site-packages\\plotly\\express\\_core.py\u001b[0m in \u001b[0;36mprocess_args_into_dataframe\u001b[1;34m(args, wide_mode, var_name, value_name)\u001b[0m\n\u001b[0;32m   1205\u001b[0m                         \u001b[1;32mif\u001b[0m \u001b[0margument\u001b[0m \u001b[1;33m==\u001b[0m \u001b[1;34m\"index\"\u001b[0m\u001b[1;33m:\u001b[0m\u001b[1;33m\u001b[0m\u001b[1;33m\u001b[0m\u001b[0m\n\u001b[0;32m   1206\u001b[0m                             \u001b[0merr_msg\u001b[0m \u001b[1;33m+=\u001b[0m \u001b[1;34m\"\\n To use the index, pass it in directly as `df.index`.\"\u001b[0m\u001b[1;33m\u001b[0m\u001b[1;33m\u001b[0m\u001b[0m\n\u001b[1;32m-> 1207\u001b[1;33m                         \u001b[1;32mraise\u001b[0m \u001b[0mValueError\u001b[0m\u001b[1;33m(\u001b[0m\u001b[0merr_msg\u001b[0m\u001b[1;33m)\u001b[0m\u001b[1;33m\u001b[0m\u001b[1;33m\u001b[0m\u001b[0m\n\u001b[0m\u001b[0;32m   1208\u001b[0m                 \u001b[1;32melif\u001b[0m \u001b[0mlength\u001b[0m \u001b[1;32mand\u001b[0m \u001b[0mlen\u001b[0m\u001b[1;33m(\u001b[0m\u001b[0mdf_input\u001b[0m\u001b[1;33m[\u001b[0m\u001b[0margument\u001b[0m\u001b[1;33m]\u001b[0m\u001b[1;33m)\u001b[0m \u001b[1;33m!=\u001b[0m \u001b[0mlength\u001b[0m\u001b[1;33m:\u001b[0m\u001b[1;33m\u001b[0m\u001b[1;33m\u001b[0m\u001b[0m\n\u001b[0;32m   1209\u001b[0m                     raise ValueError(\n",
      "\u001b[1;31mValueError\u001b[0m: Value of 'size' is not the name of a column in 'data_frame'. Expected one of ['index', 0] but received: size"
     ]
    }
   ],
   "source": [
    "# Création d'un DataFrame pandas avec les valeurs SHAP\n",
    "shap_df = pd.DataFrame(shap_values, columns=X.columns)\n",
    "\n",
    "# Calcul de la moyenne des valeurs SHAP absolues pour chaque caractéristique\n",
    "mean_shap_values = shap_df.abs().mean()\n",
    "\n",
    "# # Sélection des dix caractéristiques les plus prédictives\n",
    "# top_features = mean_shap_values.nlargest(10).index\n",
    "\n",
    "# # Renommer la colonne 'Mean SHAP Value' en 'size'\n",
    "# mean_shap_values = mean_shap_values.rename(columns={'Mean SHAP Value': 'size'})\n",
    "\n",
    "# Création d'un graphique interactif avec plotly express pour les dix caractéristiques en Dot Plot\n",
    "fig = px.scatter(mean_shap_values[top_features].reset_index(), title=\"Top 10 Predictive Features - SHAP Values Summary\",\n",
    "                 labels={'value': 'Mean SHAP Value', 'index': 'Feature'}, size='size', color='size',\n",
    "                 size_max=20)  # Ajustez size_max selon vos préférences\n",
    "fig.update_layout(xaxis_title=\"Mean SHAP Value\", yaxis_title=\"Feature\")\n",
    "fig.show()"
   ]
  },
  {
   "cell_type": "code",
   "execution_count": null,
   "metadata": {},
   "outputs": [
    {
     "name": "stderr",
     "output_type": "stream",
     "text": [
      "c:\\Users\\Hankour\\anaconda3\\lib\\site-packages\\lightgbm\\basic.py:1073: UserWarning:\n",
      "\n",
      "Converting data to scipy sparse matrix.\n",
      "\n",
      "c:\\Users\\Hankour\\anaconda3\\lib\\site-packages\\shap\\explainers\\_tree.py:353: UserWarning:\n",
      "\n",
      "LightGBM binary classifier with TreeExplainer shap values output has changed to a list of ndarray\n",
      "\n"
     ]
    },
    {
     "ename": "ValueError",
     "evalue": "zero-dimensional arrays cannot be concatenated",
     "output_type": "error",
     "traceback": [
      "\u001b[1;31m---------------------------------------------------------------------------\u001b[0m",
      "\u001b[1;31mValueError\u001b[0m                                Traceback (most recent call last)",
      "\u001b[1;32m~\\AppData\\Local\\Temp\\ipykernel_15120\\1423444516.py\u001b[0m in \u001b[0;36m<module>\u001b[1;34m\u001b[0m\n\u001b[0;32m      1\u001b[0m \u001b[1;31m# Calcul des SHAP values pour une instance spécifique (par exemple, la première instance)\u001b[0m\u001b[1;33m\u001b[0m\u001b[1;33m\u001b[0m\u001b[0m\n\u001b[0;32m      2\u001b[0m \u001b[0minstance_index\u001b[0m \u001b[1;33m=\u001b[0m \u001b[1;36m0\u001b[0m\u001b[1;33m\u001b[0m\u001b[1;33m\u001b[0m\u001b[0m\n\u001b[1;32m----> 3\u001b[1;33m \u001b[0mshap_values_instance\u001b[0m \u001b[1;33m=\u001b[0m \u001b[0mexplainer\u001b[0m\u001b[1;33m.\u001b[0m\u001b[0mshap_values\u001b[0m\u001b[1;33m(\u001b[0m\u001b[0mX\u001b[0m\u001b[1;33m.\u001b[0m\u001b[0miloc\u001b[0m\u001b[1;33m[\u001b[0m\u001b[0minstance_index\u001b[0m\u001b[1;33m,\u001b[0m \u001b[1;33m:\u001b[0m\u001b[1;33m]\u001b[0m\u001b[1;33m)\u001b[0m\u001b[1;33m\u001b[0m\u001b[1;33m\u001b[0m\u001b[0m\n\u001b[0m\u001b[0;32m      4\u001b[0m \u001b[1;33m\u001b[0m\u001b[0m\n\u001b[0;32m      5\u001b[0m \u001b[1;31m# Création d'un DataFrame pandas avec les valeurs SHAP pour l'instance spécifique\u001b[0m\u001b[1;33m\u001b[0m\u001b[1;33m\u001b[0m\u001b[0m\n",
      "\u001b[1;32mc:\\Users\\Hankour\\anaconda3\\lib\\site-packages\\shap\\explainers\\_tree.py\u001b[0m in \u001b[0;36mshap_values\u001b[1;34m(self, X, y, tree_limit, approximate, check_additivity, from_call)\u001b[0m\n\u001b[0;32m    352\u001b[0m                     \u001b[1;32mif\u001b[0m \u001b[1;32mnot\u001b[0m \u001b[0mfrom_call\u001b[0m\u001b[1;33m:\u001b[0m\u001b[1;33m\u001b[0m\u001b[1;33m\u001b[0m\u001b[0m\n\u001b[0;32m    353\u001b[0m                         \u001b[0mwarnings\u001b[0m\u001b[1;33m.\u001b[0m\u001b[0mwarn\u001b[0m\u001b[1;33m(\u001b[0m\u001b[1;34m'LightGBM binary classifier with TreeExplainer shap values output has changed to a list of ndarray'\u001b[0m\u001b[1;33m)\u001b[0m\u001b[1;33m\u001b[0m\u001b[1;33m\u001b[0m\u001b[0m\n\u001b[1;32m--> 354\u001b[1;33m                     \u001b[0mphi\u001b[0m \u001b[1;33m=\u001b[0m \u001b[0mnp\u001b[0m\u001b[1;33m.\u001b[0m\u001b[0mconcatenate\u001b[0m\u001b[1;33m(\u001b[0m\u001b[1;33m(\u001b[0m\u001b[1;36m0\u001b[0m\u001b[1;33m-\u001b[0m\u001b[0mphi\u001b[0m\u001b[1;33m,\u001b[0m \u001b[0mphi\u001b[0m\u001b[1;33m)\u001b[0m\u001b[1;33m,\u001b[0m \u001b[0maxis\u001b[0m\u001b[1;33m=\u001b[0m\u001b[1;33m-\u001b[0m\u001b[1;36m1\u001b[0m\u001b[1;33m)\u001b[0m\u001b[1;33m\u001b[0m\u001b[1;33m\u001b[0m\u001b[0m\n\u001b[0m\u001b[0;32m    355\u001b[0m                 \u001b[1;32mif\u001b[0m \u001b[0mphi\u001b[0m\u001b[1;33m.\u001b[0m\u001b[0mshape\u001b[0m\u001b[1;33m[\u001b[0m\u001b[1;36m1\u001b[0m\u001b[1;33m]\u001b[0m \u001b[1;33m!=\u001b[0m \u001b[0mX\u001b[0m\u001b[1;33m.\u001b[0m\u001b[0mshape\u001b[0m\u001b[1;33m[\u001b[0m\u001b[1;36m1\u001b[0m\u001b[1;33m]\u001b[0m \u001b[1;33m+\u001b[0m \u001b[1;36m1\u001b[0m\u001b[1;33m:\u001b[0m\u001b[1;33m\u001b[0m\u001b[1;33m\u001b[0m\u001b[0m\n\u001b[0;32m    356\u001b[0m                     \u001b[1;32mtry\u001b[0m\u001b[1;33m:\u001b[0m\u001b[1;33m\u001b[0m\u001b[1;33m\u001b[0m\u001b[0m\n",
      "\u001b[1;32m<__array_function__ internals>\u001b[0m in \u001b[0;36mconcatenate\u001b[1;34m(*args, **kwargs)\u001b[0m\n",
      "\u001b[1;31mValueError\u001b[0m: zero-dimensional arrays cannot be concatenated"
     ]
    }
   ],
   "source": [
    "# Calcul des SHAP values pour une instance spécifique (par exemple, la première instance)\n",
    "instance_index = 0\n",
    "shap_values_instance = explainer.shap_values(X.iloc[instance_index, :])\n",
    "\n",
    "# Création d'un DataFrame pandas avec les valeurs SHAP pour l'instance spécifique\n",
    "shap_df_instance = pd.DataFrame(shap_values_instance, columns=X.columns)\n",
    "\n",
    "# Sélection des dix caractéristiques les plus prédictives\n",
    "top_features = shap_df_instance.abs().mean().nlargest(10).index\n",
    "\n",
    "# Création d'un graphique interactif avec plotly express pour les dix caractéristiques en Dot Plot\n",
    "fig = px.scatter(shap_df_instance[top_features].reset_index(), \n",
    "                 title=\"Top 10 Predictive Features - SHAP Values Summary\",\n",
    "                 labels={'value': 'SHAP Value', 'index': 'Feature'},\n",
    "                 size='SHAP Value', color='SHAP Value',\n",
    "                 size_max=20)  # Ajustez size_max selon vos préférences\n",
    "fig.update_layout(xaxis_title=\"SHAP Value\", yaxis_title=\"Feature\")\n",
    "fig.show()"
   ]
  },
  {
   "cell_type": "code",
   "execution_count": null,
   "metadata": {},
   "outputs": [
    {
     "name": "stdout",
     "output_type": "stream",
     "text": [
      "Note: you may need to restart the kernel to use updated packages.Collecting mplcursors\n",
      "  Downloading mplcursors-0.5.3.tar.gz (88 kB)\n",
      "     ---------------------------------------- 0.0/88.8 kB ? eta -:--:--\n",
      "     ---------------------------------------- 88.8/88.8 kB 5.2 MB/s eta 0:00:00\n",
      "  Installing build dependencies: started\n",
      "  Installing build dependencies: finished with status 'done'\n",
      "  Getting requirements to build wheel: started\n",
      "  Getting requirements to build wheel: finished with status 'done'\n",
      "  Installing backend dependencies: started\n",
      "  Installing backend dependencies: finished with status 'done'\n",
      "  Preparing metadata (pyproject.toml): started\n",
      "  Preparing metadata (pyproject.toml): finished with status 'done'\n",
      "Requirement already satisfied: matplotlib!=3.7.1,>=3.1 in c:\\users\\hankour\\anaconda3\\lib\\site-packages (from mplcursors) (3.5.2)\n",
      "Requirement already satisfied: cycler>=0.10 in c:\\users\\hankour\\anaconda3\\lib\\site-packages (from matplotlib!=3.7.1,>=3.1->mplcursors) (0.11.0)\n",
      "Requirement already satisfied: fonttools>=4.22.0 in c:\\users\\hankour\\anaconda3\\lib\\site-packages (from matplotlib!=3.7.1,>=3.1->mplcursors) (4.25.0)\n",
      "Requirement already satisfied: kiwisolver>=1.0.1 in c:\\users\\hankour\\anaconda3\\lib\\site-packages (from matplotlib!=3.7.1,>=3.1->mplcursors) (1.4.4)\n",
      "Requirement already satisfied: numpy>=1.17 in c:\\users\\hankour\\anaconda3\\lib\\site-packages (from matplotlib!=3.7.1,>=3.1->mplcursors) (1.21.6)\n",
      "Requirement already satisfied: packaging>=20.0 in c:\\users\\hankour\\anaconda3\\lib\\site-packages (from matplotlib!=3.7.1,>=3.1->mplcursors) (23.1)\n",
      "Requirement already satisfied: pillow>=6.2.0 in c:\\users\\hankour\\anaconda3\\lib\\site-packages (from matplotlib!=3.7.1,>=3.1->mplcursors) (9.4.0)\n",
      "Requirement already satisfied: pyparsing>=2.2.1 in c:\\users\\hankour\\anaconda3\\lib\\site-packages (from matplotlib!=3.7.1,>=3.1->mplcursors) (3.0.9)\n",
      "Requirement already satisfied: python-dateutil>=2.7 in c:\\users\\hankour\\anaconda3\\lib\\site-packages (from matplotlib!=3.7.1,>=3.1->mplcursors) (2.8.2)\n",
      "Requirement already satisfied: six>=1.5 in c:\\users\\hankour\\anaconda3\\lib\\site-packages (from python-dateutil>=2.7->matplotlib!=3.7.1,>=3.1->mplcursors) (1.16.0)\n",
      "Building wheels for collected packages: mplcursors\n",
      "  Building wheel for mplcursors (pyproject.toml): started\n",
      "  Building wheel for mplcursors (pyproject.toml): finished with status 'done'\n",
      "  Created wheel for mplcursors: filename=mplcursors-0.5.3-py3-none-any.whl size=20745 sha256=726f3554c843a494e25f2529c1191ef654cecea77d596a7093087a4ddbcd5f0a\n",
      "  Stored in directory: c:\\users\\hankour\\appdata\\local\\pip\\cache\\wheels\\d7\\42\\7f\\eb3864e9b63853eed4ffdfcdbec3716f263080b0a4b0d1753a\n",
      "Successfully built mplcursors\n",
      "Installing collected packages: mplcursors\n",
      "Successfully installed mplcursors-0.5.3\n",
      "\n"
     ]
    },
    {
     "name": "stderr",
     "output_type": "stream",
     "text": [
      "WARNING: Ignoring invalid distribution -pencv-contrib-python (c:\\users\\hankour\\anaconda3\\lib\\site-packages)\n",
      "WARNING: Ignoring invalid distribution -pencv-python (c:\\users\\hankour\\anaconda3\\lib\\site-packages)\n",
      "WARNING: Ignoring invalid distribution -pencv-contrib-python (c:\\users\\hankour\\anaconda3\\lib\\site-packages)\n",
      "WARNING: Ignoring invalid distribution -pencv-python (c:\\users\\hankour\\anaconda3\\lib\\site-packages)\n"
     ]
    }
   ],
   "source": [
    "# pip install mplcursors"
   ]
  },
  {
   "cell_type": "code",
   "execution_count": null,
   "metadata": {},
   "outputs": [
    {
     "ename": "AttributeError",
     "evalue": "'NoneType' object has no attribute 'target'",
     "output_type": "error",
     "traceback": [
      "\u001b[1;31m---------------------------------------------------------------------------\u001b[0m",
      "\u001b[1;31mAttributeError\u001b[0m                            Traceback (most recent call last)",
      "\u001b[1;32m~\\AppData\\Local\\Temp\\ipykernel_15120\\3722065880.py\u001b[0m in \u001b[0;36m<module>\u001b[1;34m\u001b[0m\n\u001b[0;32m     11\u001b[0m \u001b[0mplt\u001b[0m\u001b[1;33m.\u001b[0m\u001b[0mshow\u001b[0m\u001b[1;33m(\u001b[0m\u001b[1;33m)\u001b[0m\u001b[1;33m\u001b[0m\u001b[1;33m\u001b[0m\u001b[0m\n\u001b[0;32m     12\u001b[0m \u001b[1;33m\u001b[0m\u001b[0m\n\u001b[1;32m---> 13\u001b[1;33m \u001b[0mon_add\u001b[0m\u001b[1;33m(\u001b[0m\u001b[0mshap_plot\u001b[0m\u001b[1;33m)\u001b[0m\u001b[1;33m\u001b[0m\u001b[1;33m\u001b[0m\u001b[0m\n\u001b[0m",
      "\u001b[1;32m~\\AppData\\Local\\Temp\\ipykernel_15120\\3722065880.py\u001b[0m in \u001b[0;36mon_add\u001b[1;34m(sel)\u001b[0m\n\u001b[0;32m      5\u001b[0m \u001b[1;33m@\u001b[0m\u001b[0mcursor\u001b[0m\u001b[1;33m.\u001b[0m\u001b[0mconnect\u001b[0m\u001b[1;33m(\u001b[0m\u001b[1;34m\"add\"\u001b[0m\u001b[1;33m)\u001b[0m\u001b[1;33m\u001b[0m\u001b[1;33m\u001b[0m\u001b[0m\n\u001b[0;32m      6\u001b[0m \u001b[1;32mdef\u001b[0m \u001b[0mon_add\u001b[0m\u001b[1;33m(\u001b[0m\u001b[0msel\u001b[0m\u001b[1;33m)\u001b[0m\u001b[1;33m:\u001b[0m\u001b[1;33m\u001b[0m\u001b[1;33m\u001b[0m\u001b[0m\n\u001b[1;32m----> 7\u001b[1;33m     \u001b[0mindex\u001b[0m \u001b[1;33m=\u001b[0m \u001b[0msel\u001b[0m\u001b[1;33m.\u001b[0m\u001b[0mtarget\u001b[0m\u001b[1;33m.\u001b[0m\u001b[0mindex\u001b[0m\u001b[1;33m\u001b[0m\u001b[1;33m\u001b[0m\u001b[0m\n\u001b[0m\u001b[0;32m      8\u001b[0m     \u001b[0mfeature_name\u001b[0m \u001b[1;33m=\u001b[0m \u001b[0mX\u001b[0m\u001b[1;33m.\u001b[0m\u001b[0mcolumns\u001b[0m\u001b[1;33m[\u001b[0m\u001b[0mindex\u001b[0m\u001b[1;33m]\u001b[0m\u001b[1;33m\u001b[0m\u001b[1;33m\u001b[0m\u001b[0m\n\u001b[0;32m      9\u001b[0m     \u001b[0mplt\u001b[0m\u001b[1;33m.\u001b[0m\u001b[0mgca\u001b[0m\u001b[1;33m(\u001b[0m\u001b[1;33m)\u001b[0m\u001b[1;33m.\u001b[0m\u001b[0mset_title\u001b[0m\u001b[1;33m(\u001b[0m\u001b[1;34m\"Feature: {}\"\u001b[0m\u001b[1;33m.\u001b[0m\u001b[0mformat\u001b[0m\u001b[1;33m(\u001b[0m\u001b[0mfeature_name\u001b[0m\u001b[1;33m)\u001b[0m\u001b[1;33m)\u001b[0m\u001b[1;33m\u001b[0m\u001b[1;33m\u001b[0m\u001b[0m\n",
      "\u001b[1;31mAttributeError\u001b[0m: 'NoneType' object has no attribute 'target'"
     ]
    }
   ],
   "source": [
    "import mplcursors\n",
    "# Rendre le plot interactif avec mplcursors\n",
    "cursor = mplcursors.cursor(hover=True)\n",
    "\n",
    "@cursor.connect(\"add\")\n",
    "def on_add(sel):\n",
    "    index = sel.target.index\n",
    "    feature_name = X.columns[index]\n",
    "    plt.gca().set_title(\"Feature: {}\".format(feature_name))\n",
    "\n",
    "plt.show()\n",
    "\n",
    "on_add(shap_plot)"
   ]
  },
  {
   "cell_type": "code",
   "execution_count": null,
   "metadata": {},
   "outputs": [],
   "source": [
    "import matplotlib.pyplot as plt\n",
    "shap_plot"
   ]
  },
  {
   "cell_type": "code",
   "execution_count": null,
   "metadata": {},
   "outputs": [
    {
     "data": {
      "text/plain": [
       "((1, 795), (795,))"
      ]
     },
     "execution_count": 27,
     "metadata": {},
     "output_type": "execute_result"
    }
   ],
   "source": [
    "shap_values[1].shape, rslt.shape"
   ]
  },
  {
   "cell_type": "code",
   "execution_count": null,
   "metadata": {},
   "outputs": [
    {
     "name": "stdout",
     "output_type": "stream",
     "text": [
      "(1, 5)\n"
     ]
    }
   ],
   "source": [
    "import numpy as np\n",
    "\n",
    "# Supposez que vous avez un vecteur avec la forme (795,)\n",
    "vecteur = np.array([1, 2, 3, ..., 795])  # Remplacez ... par les valeurs réelles de votre vecteur\n",
    "\n",
    "# Utilisez reshape pour convertir le vecteur en tableau avec la forme (1, 795)\n",
    "tableau_reshaped = vecteur.reshape(1, -1)\n",
    "\n",
    "# Affichez le résultat\n",
    "print(tableau_reshaped.shape)\n"
   ]
  },
  {
   "cell_type": "code",
   "execution_count": null,
   "metadata": {},
   "outputs": [
    {
     "data": {
      "text/plain": [
       "(numpy.ndarray, numpy.ndarray)"
      ]
     },
     "execution_count": 25,
     "metadata": {},
     "output_type": "execute_result"
    }
   ],
   "source": [
    "type(shap_values[1]) , type(dictionnaire_resultat[\"shap_values_1\"])"
   ]
  },
  {
   "cell_type": "code",
   "execution_count": null,
   "metadata": {},
   "outputs": [],
   "source": [
    "# X_array = X.values\n",
    "# shap_values = explainer.shap_values(X_array)\n",
    "import json\n",
    "import numpy as np\n",
    "\n",
    "class NumpyEncoder(json.JSONEncoder):\n",
    "    def default(self, obj):\n",
    "        if isinstance(obj, np.ndarray):\n",
    "            return obj.tolist()\n",
    "        return json.JSONEncoder.default(self, obj)\n",
    "    \n",
    "# Serialize Shapley values using the custom encoder\n",
    "shap_values_json = json.dumps({'shap_values': shap_values}, cls=NumpyEncoder)"
   ]
  },
  {
   "cell_type": "code",
   "execution_count": null,
   "metadata": {},
   "outputs": [
    {
     "ename": "AttributeError",
     "evalue": "'list' object has no attribute 'shape'",
     "output_type": "error",
     "traceback": [
      "\u001b[1;31m---------------------------------------------------------------------------\u001b[0m",
      "\u001b[1;31mAttributeError\u001b[0m                            Traceback (most recent call last)",
      "\u001b[1;32m~\\AppData\\Local\\Temp\\ipykernel_14788\\3127771221.py\u001b[0m in \u001b[0;36m<module>\u001b[1;34m\u001b[0m\n\u001b[1;32m----> 1\u001b[1;33m \u001b[0mprint\u001b[0m\u001b[1;33m(\u001b[0m\u001b[0mshap_values\u001b[0m\u001b[1;33m.\u001b[0m\u001b[0mshape\u001b[0m\u001b[1;33m)\u001b[0m\u001b[1;33m\u001b[0m\u001b[1;33m\u001b[0m\u001b[0m\n\u001b[0m\u001b[0;32m      2\u001b[0m \u001b[0mprint\u001b[0m\u001b[1;33m(\u001b[0m\u001b[0mtype\u001b[0m\u001b[1;33m(\u001b[0m\u001b[0mshap_values_json\u001b[0m\u001b[1;33m)\u001b[0m\u001b[1;33m)\u001b[0m\u001b[1;33m\u001b[0m\u001b[1;33m\u001b[0m\u001b[0m\n\u001b[0;32m      3\u001b[0m \u001b[0mprint\u001b[0m\u001b[1;33m(\u001b[0m\u001b[0mtype\u001b[0m\u001b[1;33m(\u001b[0m\u001b[0mjson\u001b[0m\u001b[1;33m.\u001b[0m\u001b[0mloads\u001b[0m\u001b[1;33m(\u001b[0m\u001b[0mshap_values_json\u001b[0m\u001b[1;33m)\u001b[0m\u001b[1;33m)\u001b[0m\u001b[1;33m)\u001b[0m\u001b[1;33m\u001b[0m\u001b[1;33m\u001b[0m\u001b[0m\n",
      "\u001b[1;31mAttributeError\u001b[0m: 'list' object has no attribute 'shape'"
     ]
    }
   ],
   "source": [
    "print(shap_values.shape)\n",
    "print(type(shap_values_json))\n",
    "print(type(json.loads(shap_values_json)))"
   ]
  },
  {
   "cell_type": "code",
   "execution_count": null,
   "metadata": {},
   "outputs": [
    {
     "data": {
      "text/plain": [
       "'{\"shap_values\": [[[0.13772704139940112, -0.008457680770055816, 8.602041364610399e-05, 0.0, -0.00032278225980464175, 0.03711319243048115, 0.1680007033673694, -0.06079259074065294, -0.013574485265281145, 0.09318713582371108, 0.1332758331900685, 0.018326595863772388, 0.1025121749905523, -0.028189884079517533, 0.0, 0.0, 0.004387074258830336, 0.0, -0.004765479759820903, 0.0, 4.792344495370585e-05, 0.0014965251028659, 0.002121746924280719, -0.011130215291421282, -0.0002882318308464373, 0.0, 0.0, 0.007714312236165733, 0.0, 0.0, 0.1498366016799389, 0.47328468419157477, -0.8775235002898577, 0.005058168506619129, 0.0009712925909534074, -0.003794801976817622, 0.0019026311320304, 7.733915726114733e-05, 9.342283279822817e-06, 2.5716293668332083e-05, -0.00020899222986718087, -0.00022857278770336908, -0.0016999347316364135, 0.0012257286583986205, 0.0012287816157981971, 0.0, -0.0009837199004159047, 0.0022807381275565465, -8.215791664030388e-05, -0.0018056103767260952, 0.0, 0.001288661727903919, 0.0, 0.0, 0.0, 4.928357564483286e-05, -0.0021299854693991763, 0.0007019640684993858, 0.001232898308425057, 1.689826433452066e-05, -0.00043234313417011856, 0.0, -0.000105872741403346, 0.004557417644798624, 0.0, 0.0, 3.178464043435339e-05, -0.019328952471114713, 0.006857362069538265, 0.0, 0.00013455062899549725, 0.0005306035516796437, -0.0006749848732197765, 0.0, 0.000848919671859573, 0.018473588834767254, 0.0016279649305723216, 0.008759014141769038, 0.0, 0.012731137386024528, -0.01657609377129612, 0.0, -0.015265722203025746, 0.0, 0.0, 0.0, 0.0, 0.0, 0.0, 0.0, 0.0, 0.0, -0.0006410616427627176, 0.0, 0.0, -0.00037623932947825913, 0.0, -0.002308654696606704, 0.0, 0.0, 0.0, 0.0, 0.0, 0.0, -0.0003141906491971537, -0.004198205088832696, -0.00012965341751950226, -0.01222406241613468, 0.0, 0.0, 0.0, 0.0, 0.0, 0.0, 0.0, 0.0, 0.0, 0.0, 0.0, 0.0, -0.00781912776439171, 0.0, 0.0, 0.007506012526641716, 0.0, -0.023293997790634284, -0.0007552796036195662, 0.0, -0.0122781736119514, 0.0, -0.08639152883382117, 0.0, 0.0, 0.0, 0.0, 0.0, 0.001166936026754964, 0.0, 0.0, 0.0, 0.0, -0.00037617545359572746, 0.0, 0.0, -0.003261250218338811, 0.001510428138377588, 0.0, 0.0, 0.0, 0.0, 0.0, 0.0, 0.0003122816036853934, 0.0, 0.0, 0.0, 0.0, 0.0, 0.0, 7.710457808206999e-05, 0.0, -0.002725728082722674, 0.0, 9.4587202948865e-05, 0.0, 0.0, 0.0, 0.0, -0.0013637789527016558, 0.0, 0.0, 0.006050221038529931, 0.0, 0.002264319235066414, 0.0, 0.0, 0.0, 0.0, 0.0, 0.0, 0.0, 0.0, 0.0, 0.0, 0.0, 0.0, 0.0, 0.0, 0.0, 0.0, 0.0, 0.0, -0.002882251353552659, 0.0, -0.00028510680370678193, 0.0, 0.0, -0.0010901730148818853, 0.0, 0.0, -0.0003161882547409657, 0.0, 0.00016187528781784084, 0.0, 1.6593261304621914e-05, -0.003322594104937344, 0.0, -0.0014664806974993324, 0.0083633029300653, 0.0, 0.0, 0.0, -0.0002774244706061886, 0.0, 0.0, 0.0, 0.0, 0.0, 0.0, 0.0, 0.0006577192984582312, 0.0, 0.0, 0.0, 0.0, 0.0, 0.0, 0.0, 0.0, 0.0, 0.0, 0.0, 0.0, 0.0, 0.0, 0.0, 0.044178684424375114, 0.0, 0.0, 0.0, -0.014720454361122574, 0.015029142262558524, -0.02771677417517886, 0.030940361210212267, -0.01770405075460312, 0.0006702256774076907, 0.011035694774105915, -0.011441841568768216, -0.0002372364267260697, 0.00020117752494373375, 0.0006430732132322161, -0.0003422872919209795, -0.00225407660179547, 0.0, 0.0, -0.08473265855407877, -0.0023879080141207243, 0.01144807291288505, -0.01074466091489532, 0.001984097748004307, 0.026950211935989326, 0.0014757453928171363, 0.0006377477855151687, 0.0010219982466320484, 0.0, 0.0, 0.0005522145701146008, 0.0, -0.0011373117734790673, 0.0, 0.0021378003060397235, -0.0010906832433682004, -0.006540834352228625, 0.0, -0.014342971125802743, 1.9867339657784542e-05, 0.0, 0.0, 0.0, 0.0, 0.0, 0.0, -0.0002052096325530515, -0.0024961013539220775, 0.0, -0.0004655772504539417, 0.0, 0.0, 0.0, 0.0, 0.0, 0.0, 0.004637240958751917, 0.0, -0.004971395474913766, 0.0, 0.0, 0.0, -0.0011624847844187189, -0.047839881415886853, 0.0, 0.0, 0.0, 0.0, -0.0010553841405311105, 0.0, 0.0, 0.0004910520341460054, 0.02184102398899459, -0.0029048653191709683, 0.00011525606174211951, -0.02869937957769906, 0.027105608893596398, 0.03864229425503244, 0.001842330759847509, 0.0, 0.0, -0.11743546371764683, 0.014803302565905362, -0.009529333186096885, 0.010158004478541245, 0.01734244776268604, 0.013192381984268866, 0.0048448331417718414, 0.00043467958265167413, -0.010189112387949308, -0.009039755540947509, 0.0, -0.0027943266742697327, 0.0, 0.00030462862754918594, 0.0, 0.0002409198825249163, -0.0003450063958503261, 0.00037446186736230647, -0.03117314764755224, 3.522779465424455e-05, -0.018092126065785474, -9.177575367650663e-06, -0.0019615712485185136, -0.0004145645767391678, -0.0022358496027497636, 0.0, 0.0, -0.001282432640613556, 0.0006077892700732501, 0.008553220806221059, -0.016657295569894887, 0.0005691998598650256, -0.020758424356066212, 0.0, 0.0, 0.0004199648226403145, 0.0, -4.045486561033651e-05, 0.0002310103076092904, 0.0, -0.00023688580379106042, 0.0, -0.0004980593183666673, -0.0010601044414537194, 0.008802316884064526, -0.005270484691429926, -0.01600476596066431, -0.00022446483076241541, 0.002058353964777175, 0.0006236127936847819, 4.723122877083547e-05, -0.01013789842960826, 0.0022770898973417234, 0.017929615194476976, -0.006021417673335001, -0.024551345954115802, -0.005664113392938403, 0.0, -0.008282006869350341, 0.00039404877457442666, 3.710575151587148e-05, 0.002131472470718635, 0.026027729151352944, 1.5369009918266913e-05, -0.0004812948485078086, 0.00010681452297661793, -0.001969264821349325, 1.2005461827242021e-05, -0.0005670751248817658, -0.0022871991341735847, -0.013793276349325955, 0.056553923440576005, 0.03535540318200571, 0.004322426847477043, -0.0009977572252001725, -0.001239172460738222, 0.0, 0.0, 0.0, 0.0003595838365567795, -7.793425691689903e-05, 0.0008987119897599535, -0.0005211848347089713, 0.0012476460574467872, -0.0005607921329129565, -7.475713480950162e-05, 0.0, 0.0, 0.0, 0.0, 0.0, 0.0, 0.0, 0.0, 0.0, 0.0, 0.0, 0.0, 0.0, 0.0, -0.0001484167722188464, 0.0, 0.0, 0.0, 0.0, 0.0, 0.0, 0.0, 0.0, 0.0, 0.0, 0.0, 0.0, 0.0, 0.00027835801077583875, 0.0, -0.006816496443255579, 0.022720201179600902, 0.00565950409581545, 0.0, 0.0, 2.302417264378731e-05, 0.0, 0.0, -0.0002603510209931023, 0.0, 0.0, 1.779775582523337e-05, 0.00011825132486693331, -0.0017027782745017601, 0.0, 0.0, -6.802620364979549e-05, 0.01045175103014047, 0.0, 0.0, 0.0, 0.0005420577367689069, 0.0, 0.0, 0.0, 5.927078518163275e-05, -0.001689459751534286, -0.0008340307918591596, -0.0025174223412639542, -0.00026932753055014535, 0.0, 0.0, 0.0, 0.0, 0.0, 2.1675786805738e-05, 0.0, -0.00016959662726697197, 0.001031051101332131, 3.7552362662349474e-05, 0.0007661766153083575, 9.853419044698666e-05, 0.0, 0.0, -0.001553487611298738, -0.00037947278902558315, 0.0, 0.0, 0.0, 0.0, 0.0, 0.0, -0.0027126927246415326, 0.0, -0.0009757007783443931, -0.00022737483663529882, -0.0002759259036777395, 0.0005527321089453636, 0.0, 0.0, -0.0003650731859589153, 0.0, 0.0011668216677329312, 0.0, -0.0013359408616728078, 0.012909065614393127, 0.0, 0.0, 0.00025013314900886843, 0.010476332592433864, -0.000557866345466393, 0.0, 0.0021849612707789353, 0.0, -0.0020978129851271007, 0.0, 0.0, -0.001174031882037355, -0.0002449454082620752, 0.0, 0.0, 2.4512762865933715e-05, -0.0005173119122117753, 0.001000423444582899, -0.00016417250096721994, 0.00017540446928153232, -0.001896188360899594, 0.0, 0.0, 0.0, 0.0, -9.875052613609819e-05, 0.0, -0.001102808565656184, 0.023929126251237425, -0.018406645658601287, 0.007511066291160584, 0.0, 0.0, -8.208791587369794e-05, 0.0002380751820153892, 0.0, 0.0006431130116757705, -0.006477426643281878, -3.748674480890009e-05, 0.00035763207004449373, -0.005176628176592651, 0.0003922973820265715, 0.0, 0.0011813068372431013, -0.0011593972903566354, 0.00011339118003640908, 0.0003837920221650765, 0.0, 7.348988029826207e-05, 2.8975145098036104e-05, 0.0, 0.002671494530939197, -0.0428551006251617, -0.011736994097349737, -0.0018978330945814636, 0.0027590754800850634, -0.00047305522119467537, 0.004137883985891483, 0.0019215545570839192, 5.992688152293339e-05, 0.0, -0.0014287419320984744, -0.00045499208112092496, -0.001205891219256079, -0.0007384165424357306, -0.01646886184321463, -0.0008225592856777719, 0.002760829360882005, 0.0043845588471328086, 0.0013178365135282067, -0.000117811325062976, 0.014321857594169273, 0.0005065957248461478, 0.0, -0.00021609535893348132, 0.00020311925687652413, -0.012895169939663675, 0.007462247651622362, 0.0031604205546811323, 0.07498000973264447, 0.002330428644876037, -0.0002731792693009442, 4.150407465762605e-06, -0.00013269265841719951, 0.0011027035934501749, -0.0004976802941041379, 0.0, 0.0008579898729082459, 0.0, -0.00017749413559698114, 0.0, 7.438402633957542e-05, 0.00099760398994888, 0.0, 0.0, 0.00010878435915888531, 0.00025383858076637856, -0.0002815180002803528, 0.0004716870204464, -0.00031638435487667537, 0.0011564950264682182, 0.0002374130138976936, -0.0003443279829801699, 5.271762770053398e-05, -0.00010470420862992333, -0.0001466901195668657, 3.560852281473648e-05, 0.008323689870077804, 0.023105154357945974, 0.0, 0.001085389852251132, 0.008328696417096944, -0.0015270516841741418, -0.04260775232893554, 7.51878018574437e-05, -5.152936751020144e-05, 0.0011686059094863093, 0.00834680086000779, -0.00526196634402164, 0.0, 0.0, 0.0, -0.0015735610956300764, 0.0, 0.001018902619930084, 0.0, 0.0, 0.0, -0.009344560496025622, -0.00030315540262963053, 0.0005976461098161338, 0.06549028319145991, 0.00012869394160049471, 0.0013715394271975366, 0.0003368997266382739, -0.012498009145373553, -0.0011127764675706862, 0.01446020520235256, -0.034105324141455284, -0.0040191158199396355, 0.005554371006842029, 0.024000842865250442, -0.0006866553665367038, 0.0, 0.0017831144732572697, 0.001316676905581046, -0.0036064273881437903, 0.017365349906621155, -1.11396431970983e-05, 0.0015904116608694225, -0.12180352039869329, 0.021814019447708517, -0.06716299069893532, -0.006123343940702716, -0.005519955694725521, 0.00019655667727195856, 0.00011053380798063043, 2.5981330794802534e-05, 0.0, -0.0033534685528635983, 6.333513210840094e-05, 0.0006675164384725606, 0.0015949363643466856, 0.0, 0.002128056414089681, -0.0029572312142438833, 0.0, -0.00042864578543886744, -0.000769332977949637, -0.0005571054784367661, 0.0, 0.0, 0.0, 0.0, 0.0010810234142270914, 0.0, 0.0002969910440979025, 0.00022801920413969957, -0.0003413993768575051, -0.0012642945824546039, 0.0, 0.0004078972267496432, 0.0, 0.0, 0.0, 0.0, 0.0, -0.00010284115467888304, -0.0007670337128128893, 0.0, 0.0, 0.0, 0.0, 0.0, 0.0, 5.503067977090635e-05, 0.0, 0.0007634336240158854, 0.0041710049637397485, 0.0, 0.0, 0.0, 0.0, 0.001339137902048631, 0.0, 0.00041064381397155816, -0.00014867650411526216, 0.0, -7.566790943627406e-05, -0.000268781159838657, 0.0, 0.0, -0.0026215953355633458, -0.011500474676846463, 0.0005871402077828059, -0.0001358518077638319, 0.0, 0.008831322921650196, 0.0, 0.0, 0.0, 0.0, 0.013377126949197963, -0.0017544546797766854, -9.684308877777805e-05, 0.0, 0.0012752869192017185, 0.004758301750868567, -0.000233884211859198, 0.013266497313556514, 0.0, 0.0, 0.0, 0.0, -3.922165064093732e-05, 0.0, 0.0, 5.024906222846037e-05, 0.0, 0.0, 0.0, 0.0, -0.00016396809474573596, 0.0005240311116163016, -0.00019189096746374806, 0.0, 0.0, 1.361203738078501e-05, 0.0, 0.0, 0.0, 0.0, -0.00029737065681776796, -0.00012985296338891296, 0.0, 0.0, 0.0, 0.0, -0.0012696545730898868, -0.0012326395730046535, 0.0, 0.0, 0.0, 0.0, 0.0, 0.0, 0.0, 0.006116870026270196, 0.0, -0.00044024373162152833, 0.0, 0.0, 0.0, 0.0, 0.0, 0.0, 0.0, 0.0, 0.0, 0.0, 0.0, 0.0, 0.0, 0.0, 0.0, 0.0, 0.0, 0.0, 2.05895415125497e-05, 0.0, 0.0, 0.0, 0.0, 0.0, 0.0, 0.0002676859946481757]], [[-0.13772704139940112, 0.008457680770055816, -8.602041364610399e-05, 0.0, 0.00032278225980464175, -0.03711319243048115, -0.1680007033673694, 0.06079259074065294, 0.013574485265281145, -0.09318713582371108, -0.1332758331900685, -0.018326595863772388, -0.1025121749905523, 0.028189884079517533, 0.0, 0.0, -0.004387074258830336, 0.0, 0.004765479759820903, 0.0, -4.792344495370585e-05, -0.0014965251028659, -0.002121746924280719, 0.011130215291421282, 0.0002882318308464373, 0.0, 0.0, -0.007714312236165733, 0.0, 0.0, -0.1498366016799389, -0.47328468419157477, 0.8775235002898577, -0.005058168506619129, -0.0009712925909534074, 0.003794801976817622, -0.0019026311320304, -7.733915726114733e-05, -9.342283279822817e-06, -2.5716293668332083e-05, 0.00020899222986718087, 0.00022857278770336908, 0.0016999347316364135, -0.0012257286583986205, -0.0012287816157981971, 0.0, 0.0009837199004159047, -0.0022807381275565465, 8.215791664030388e-05, 0.0018056103767260952, 0.0, -0.001288661727903919, 0.0, 0.0, 0.0, -4.928357564483286e-05, 0.0021299854693991763, -0.0007019640684993858, -0.001232898308425057, -1.689826433452066e-05, 0.00043234313417011856, 0.0, 0.000105872741403346, -0.004557417644798624, 0.0, 0.0, -3.178464043435339e-05, 0.019328952471114713, -0.006857362069538265, 0.0, -0.00013455062899549725, -0.0005306035516796437, 0.0006749848732197765, 0.0, -0.000848919671859573, -0.018473588834767254, -0.0016279649305723216, -0.008759014141769038, 0.0, -0.012731137386024528, 0.01657609377129612, 0.0, 0.015265722203025746, 0.0, 0.0, 0.0, 0.0, 0.0, 0.0, 0.0, 0.0, 0.0, 0.0006410616427627176, 0.0, 0.0, 0.00037623932947825913, 0.0, 0.002308654696606704, 0.0, 0.0, 0.0, 0.0, 0.0, 0.0, 0.0003141906491971537, 0.004198205088832696, 0.00012965341751950226, 0.01222406241613468, 0.0, 0.0, 0.0, 0.0, 0.0, 0.0, 0.0, 0.0, 0.0, 0.0, 0.0, 0.0, 0.00781912776439171, 0.0, 0.0, -0.007506012526641716, 0.0, 0.023293997790634284, 0.0007552796036195662, 0.0, 0.0122781736119514, 0.0, 0.08639152883382117, 0.0, 0.0, 0.0, 0.0, 0.0, -0.001166936026754964, 0.0, 0.0, 0.0, 0.0, 0.00037617545359572746, 0.0, 0.0, 0.003261250218338811, -0.001510428138377588, 0.0, 0.0, 0.0, 0.0, 0.0, 0.0, -0.0003122816036853934, 0.0, 0.0, 0.0, 0.0, 0.0, 0.0, -7.710457808206999e-05, 0.0, 0.002725728082722674, 0.0, -9.4587202948865e-05, 0.0, 0.0, 0.0, 0.0, 0.0013637789527016558, 0.0, 0.0, -0.006050221038529931, 0.0, -0.002264319235066414, 0.0, 0.0, 0.0, 0.0, 0.0, 0.0, 0.0, 0.0, 0.0, 0.0, 0.0, 0.0, 0.0, 0.0, 0.0, 0.0, 0.0, 0.0, 0.002882251353552659, 0.0, 0.00028510680370678193, 0.0, 0.0, 0.0010901730148818853, 0.0, 0.0, 0.0003161882547409657, 0.0, -0.00016187528781784084, 0.0, -1.6593261304621914e-05, 0.003322594104937344, 0.0, 0.0014664806974993324, -0.0083633029300653, 0.0, 0.0, 0.0, 0.0002774244706061886, 0.0, 0.0, 0.0, 0.0, 0.0, 0.0, 0.0, -0.0006577192984582312, 0.0, 0.0, 0.0, 0.0, 0.0, 0.0, 0.0, 0.0, 0.0, 0.0, 0.0, 0.0, 0.0, 0.0, 0.0, -0.044178684424375114, 0.0, 0.0, 0.0, 0.014720454361122574, -0.015029142262558524, 0.02771677417517886, -0.030940361210212267, 0.01770405075460312, -0.0006702256774076907, -0.011035694774105915, 0.011441841568768216, 0.0002372364267260697, -0.00020117752494373375, -0.0006430732132322161, 0.0003422872919209795, 0.00225407660179547, 0.0, 0.0, 0.08473265855407877, 0.0023879080141207243, -0.01144807291288505, 0.01074466091489532, -0.001984097748004307, -0.026950211935989326, -0.0014757453928171363, -0.0006377477855151687, -0.0010219982466320484, 0.0, 0.0, -0.0005522145701146008, 0.0, 0.0011373117734790673, 0.0, -0.0021378003060397235, 0.0010906832433682004, 0.006540834352228625, 0.0, 0.014342971125802743, -1.9867339657784542e-05, 0.0, 0.0, 0.0, 0.0, 0.0, 0.0, 0.0002052096325530515, 0.0024961013539220775, 0.0, 0.0004655772504539417, 0.0, 0.0, 0.0, 0.0, 0.0, 0.0, -0.004637240958751917, 0.0, 0.004971395474913766, 0.0, 0.0, 0.0, 0.0011624847844187189, 0.047839881415886853, 0.0, 0.0, 0.0, 0.0, 0.0010553841405311105, 0.0, 0.0, -0.0004910520341460054, -0.02184102398899459, 0.0029048653191709683, -0.00011525606174211951, 0.02869937957769906, -0.027105608893596398, -0.03864229425503244, -0.001842330759847509, 0.0, 0.0, 0.11743546371764683, -0.014803302565905362, 0.009529333186096885, -0.010158004478541245, -0.01734244776268604, -0.013192381984268866, -0.0048448331417718414, -0.00043467958265167413, 0.010189112387949308, 0.009039755540947509, 0.0, 0.0027943266742697327, 0.0, -0.00030462862754918594, 0.0, -0.0002409198825249163, 0.0003450063958503261, -0.00037446186736230647, 0.03117314764755224, -3.522779465424455e-05, 0.018092126065785474, 9.177575367650663e-06, 0.0019615712485185136, 0.0004145645767391678, 0.0022358496027497636, 0.0, 0.0, 0.001282432640613556, -0.0006077892700732501, -0.008553220806221059, 0.016657295569894887, -0.0005691998598650256, 0.020758424356066212, 0.0, 0.0, -0.0004199648226403145, 0.0, 4.045486561033651e-05, -0.0002310103076092904, 0.0, 0.00023688580379106042, 0.0, 0.0004980593183666673, 0.0010601044414537194, -0.008802316884064526, 0.005270484691429926, 0.01600476596066431, 0.00022446483076241541, -0.002058353964777175, -0.0006236127936847819, -4.723122877083547e-05, 0.01013789842960826, -0.0022770898973417234, -0.017929615194476976, 0.006021417673335001, 0.024551345954115802, 0.005664113392938403, 0.0, 0.008282006869350341, -0.00039404877457442666, -3.710575151587148e-05, -0.002131472470718635, -0.026027729151352944, -1.5369009918266913e-05, 0.0004812948485078086, -0.00010681452297661793, 0.001969264821349325, -1.2005461827242021e-05, 0.0005670751248817658, 0.0022871991341735847, 0.013793276349325955, -0.056553923440576005, -0.03535540318200571, -0.004322426847477043, 0.0009977572252001725, 0.001239172460738222, 0.0, 0.0, 0.0, -0.0003595838365567795, 7.793425691689903e-05, -0.0008987119897599535, 0.0005211848347089713, -0.0012476460574467872, 0.0005607921329129565, 7.475713480950162e-05, 0.0, 0.0, 0.0, 0.0, 0.0, 0.0, 0.0, 0.0, 0.0, 0.0, 0.0, 0.0, 0.0, 0.0, 0.0001484167722188464, 0.0, 0.0, 0.0, 0.0, 0.0, 0.0, 0.0, 0.0, 0.0, 0.0, 0.0, 0.0, 0.0, -0.00027835801077583875, 0.0, 0.006816496443255579, -0.022720201179600902, -0.00565950409581545, 0.0, 0.0, -2.302417264378731e-05, 0.0, 0.0, 0.0002603510209931023, 0.0, 0.0, -1.779775582523337e-05, -0.00011825132486693331, 0.0017027782745017601, 0.0, 0.0, 6.802620364979549e-05, -0.01045175103014047, 0.0, 0.0, 0.0, -0.0005420577367689069, 0.0, 0.0, 0.0, -5.927078518163275e-05, 0.001689459751534286, 0.0008340307918591596, 0.0025174223412639542, 0.00026932753055014535, 0.0, 0.0, 0.0, 0.0, 0.0, -2.1675786805738e-05, 0.0, 0.00016959662726697197, -0.001031051101332131, -3.7552362662349474e-05, -0.0007661766153083575, -9.853419044698666e-05, 0.0, 0.0, 0.001553487611298738, 0.00037947278902558315, 0.0, 0.0, 0.0, 0.0, 0.0, 0.0, 0.0027126927246415326, 0.0, 0.0009757007783443931, 0.00022737483663529882, 0.0002759259036777395, -0.0005527321089453636, 0.0, 0.0, 0.0003650731859589153, 0.0, -0.0011668216677329312, 0.0, 0.0013359408616728078, -0.012909065614393127, 0.0, 0.0, -0.00025013314900886843, -0.010476332592433864, 0.000557866345466393, 0.0, -0.0021849612707789353, 0.0, 0.0020978129851271007, 0.0, 0.0, 0.001174031882037355, 0.0002449454082620752, 0.0, 0.0, -2.4512762865933715e-05, 0.0005173119122117753, -0.001000423444582899, 0.00016417250096721994, -0.00017540446928153232, 0.001896188360899594, 0.0, 0.0, 0.0, 0.0, 9.875052613609819e-05, 0.0, 0.001102808565656184, -0.023929126251237425, 0.018406645658601287, -0.007511066291160584, 0.0, 0.0, 8.208791587369794e-05, -0.0002380751820153892, 0.0, -0.0006431130116757705, 0.006477426643281878, 3.748674480890009e-05, -0.00035763207004449373, 0.005176628176592651, -0.0003922973820265715, 0.0, -0.0011813068372431013, 0.0011593972903566354, -0.00011339118003640908, -0.0003837920221650765, 0.0, -7.348988029826207e-05, -2.8975145098036104e-05, 0.0, -0.002671494530939197, 0.0428551006251617, 0.011736994097349737, 0.0018978330945814636, -0.0027590754800850634, 0.00047305522119467537, -0.004137883985891483, -0.0019215545570839192, -5.992688152293339e-05, 0.0, 0.0014287419320984744, 0.00045499208112092496, 0.001205891219256079, 0.0007384165424357306, 0.01646886184321463, 0.0008225592856777719, -0.002760829360882005, -0.0043845588471328086, -0.0013178365135282067, 0.000117811325062976, -0.014321857594169273, -0.0005065957248461478, 0.0, 0.00021609535893348132, -0.00020311925687652413, 0.012895169939663675, -0.007462247651622362, -0.0031604205546811323, -0.07498000973264447, -0.002330428644876037, 0.0002731792693009442, -4.150407465762605e-06, 0.00013269265841719951, -0.0011027035934501749, 0.0004976802941041379, 0.0, -0.0008579898729082459, 0.0, 0.00017749413559698114, 0.0, -7.438402633957542e-05, -0.00099760398994888, 0.0, 0.0, -0.00010878435915888531, -0.00025383858076637856, 0.0002815180002803528, -0.0004716870204464, 0.00031638435487667537, -0.0011564950264682182, -0.0002374130138976936, 0.0003443279829801699, -5.271762770053398e-05, 0.00010470420862992333, 0.0001466901195668657, -3.560852281473648e-05, -0.008323689870077804, -0.023105154357945974, 0.0, -0.001085389852251132, -0.008328696417096944, 0.0015270516841741418, 0.04260775232893554, -7.51878018574437e-05, 5.152936751020144e-05, -0.0011686059094863093, -0.00834680086000779, 0.00526196634402164, 0.0, 0.0, 0.0, 0.0015735610956300764, 0.0, -0.001018902619930084, 0.0, 0.0, 0.0, 0.009344560496025622, 0.00030315540262963053, -0.0005976461098161338, -0.06549028319145991, -0.00012869394160049471, -0.0013715394271975366, -0.0003368997266382739, 0.012498009145373553, 0.0011127764675706862, -0.01446020520235256, 0.034105324141455284, 0.0040191158199396355, -0.005554371006842029, -0.024000842865250442, 0.0006866553665367038, 0.0, -0.0017831144732572697, -0.001316676905581046, 0.0036064273881437903, -0.017365349906621155, 1.11396431970983e-05, -0.0015904116608694225, 0.12180352039869329, -0.021814019447708517, 0.06716299069893532, 0.006123343940702716, 0.005519955694725521, -0.00019655667727195856, -0.00011053380798063043, -2.5981330794802534e-05, 0.0, 0.0033534685528635983, -6.333513210840094e-05, -0.0006675164384725606, -0.0015949363643466856, 0.0, -0.002128056414089681, 0.0029572312142438833, 0.0, 0.00042864578543886744, 0.000769332977949637, 0.0005571054784367661, 0.0, 0.0, 0.0, 0.0, -0.0010810234142270914, 0.0, -0.0002969910440979025, -0.00022801920413969957, 0.0003413993768575051, 0.0012642945824546039, 0.0, -0.0004078972267496432, 0.0, 0.0, 0.0, 0.0, 0.0, 0.00010284115467888304, 0.0007670337128128893, 0.0, 0.0, 0.0, 0.0, 0.0, 0.0, -5.503067977090635e-05, 0.0, -0.0007634336240158854, -0.0041710049637397485, 0.0, 0.0, 0.0, 0.0, -0.001339137902048631, 0.0, -0.00041064381397155816, 0.00014867650411526216, 0.0, 7.566790943627406e-05, 0.000268781159838657, 0.0, 0.0, 0.0026215953355633458, 0.011500474676846463, -0.0005871402077828059, 0.0001358518077638319, 0.0, -0.008831322921650196, 0.0, 0.0, 0.0, 0.0, -0.013377126949197963, 0.0017544546797766854, 9.684308877777805e-05, 0.0, -0.0012752869192017185, -0.004758301750868567, 0.000233884211859198, -0.013266497313556514, 0.0, 0.0, 0.0, 0.0, 3.922165064093732e-05, 0.0, 0.0, -5.024906222846037e-05, 0.0, 0.0, 0.0, 0.0, 0.00016396809474573596, -0.0005240311116163016, 0.00019189096746374806, 0.0, 0.0, -1.361203738078501e-05, 0.0, 0.0, 0.0, 0.0, 0.00029737065681776796, 0.00012985296338891296, 0.0, 0.0, 0.0, 0.0, 0.0012696545730898868, 0.0012326395730046535, 0.0, 0.0, 0.0, 0.0, 0.0, 0.0, 0.0, -0.006116870026270196, 0.0, 0.00044024373162152833, 0.0, 0.0, 0.0, 0.0, 0.0, 0.0, 0.0, 0.0, 0.0, 0.0, 0.0, 0.0, 0.0, 0.0, 0.0, 0.0, 0.0, 0.0, -2.05895415125497e-05, 0.0, 0.0, 0.0, 0.0, 0.0, 0.0, -0.0002676859946481757]]]}'"
      ]
     },
     "execution_count": 29,
     "metadata": {},
     "output_type": "execute_result"
    }
   ],
   "source": [
    "shap_values_json"
   ]
  },
  {
   "cell_type": "code",
   "execution_count": null,
   "metadata": {},
   "outputs": [
    {
     "data": {
      "text/plain": [
       "{'data': [1, 2, 3, 4, 5]}"
      ]
     },
     "execution_count": 31,
     "metadata": {},
     "output_type": "execute_result"
    }
   ],
   "source": [
    "import numpy as np\n",
    "\n",
    "# Supposons que vous ayez un tableau (array) appelé mon_array\n",
    "mon_array = np.array([1, 2, 3, 4, 5])\n",
    "\n",
    "# Convertir le tableau en liste\n",
    "ma_liste = mon_array.tolist()\n",
    "\n",
    "# Créer un dictionnaire avec une clé spécifique, par exemple \"data\"\n",
    "mon_dictionnaire = {\"data\": ma_liste}\n",
    "\n",
    "# Ensuite, vous pouvez utiliser ce dictionnaire dans votre requête API\n",
    "mon_dictionnaire"
   ]
  },
  {
   "cell_type": "code",
   "execution_count": null,
   "metadata": {},
   "outputs": [
    {
     "name": "stderr",
     "output_type": "stream",
     "text": [
      "All-NaN slice encountered\n"
     ]
    },
    {
     "data": {
      "image/png": "[encoded data removed]",
      "text/plain": [
       "<Figure size 800x950 with 2 Axes>"
      ]
     },
     "metadata": {},
     "output_type": "display_data"
    }
   ],
   "source": [
    "# Exemple de visualisation pour une observation\n",
    "# selected_observation = X_test.iloc[0]\n",
    "shap.summary_plot(shap_values[1], X, feature_names=X.columns)"
   ]
  }
 ],
 "metadata": {
  "kernelspec": {
   "display_name": "base",
   "language": "python",
   "name": "python3"
  },
  "language_info": {
   "codemirror_mode": {
    "name": "ipython",
    "version": 3
   },
   "file_extension": ".py",
   "mimetype": "text/x-python",
   "name": "python",
   "nbconvert_exporter": "python",
   "pygments_lexer": "ipython3",
   "version": "3.9.18"
  }
 },
 "nbformat": 4,
 "nbformat_minor": 2
}
